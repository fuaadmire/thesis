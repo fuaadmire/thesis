{
 "cells": [
  {
   "cell_type": "code",
   "execution_count": null,
   "metadata": {
    "collapsed": true
   },
   "outputs": [],
   "source": [
    "import pandas as pd\n",
    "import tqdm\n",
    "import numpy as np\n",
    "import codecs\n",
    "import glob\n",
    "from sklearn.feature_extraction.text import CountVectorizer\n",
    "from sklearn.metrics import accuracy_score, f1_score\n",
    "from sklearn.linear_model import LogisticRegression\n",
    "import random\n",
    "import matplotlib.pyplot as plt\n",
    "import sys"
   ]
  },
  {
   "cell_type": "code",
   "execution_count": null,
   "metadata": {
    "collapsed": true
   },
   "outputs": [],
   "source": [
    "tr = codecs.open(\"data/liar_xtrain.txt\", 'r', 'utf-8').read().split('\\n')\n",
    "#print(len(tr))\n",
    "tr = [s.lower() for s in tr if len(s) > 1]\n",
    "trlab = codecs.open('data/liar_ytrain.txt', 'r', 'utf-8').read().split('\\n')\n",
    "trlab = [s for s in trlab if len(s) > 1]\n",
    "\n",
    "\n",
    "val = codecs.open(\"data/liar_xval.txt\", 'r', 'utf-8').read().split('\\n')\n",
    "#print(len(val))\n",
    "val = [s.lower() for s in val if len(s) > 1]\n",
    "vallab = codecs.open(\"data/liar_yval.txt\", 'r', 'utf-8').read().split('\\n')\n",
    "vallab = [s for s in vallab if len(s) > 1]\n",
    "\n",
    "# remember test set in the end\n",
    "\n",
    "assert len(tr) == len(trlab)\n",
    "\n",
    "assert len(val) == len(vallab)\n",
    "\n",
    "random.seed(16)\n",
    "np.random.seed(16)\n",
    "\n",
    "m= 10000 #number of feats 5000 or 10000\n",
    "k=5#max ngram\n",
    "v=1 #min mgram"
   ]
  },
  {
   "cell_type": "code",
   "execution_count": null,
   "metadata": {},
   "outputs": [],
   "source": [
    "vectorizer = CountVectorizer(ngram_range=(v,k), max_features=m)\n",
    "print('fitting X_tr')\n",
    "X_tr = vectorizer.fit_transform(tqdm.tqdm(tr)).toarray()\n",
    "print('done')\n",
    "print('fitting X_te')\n",
    "X_val = vectorizer.transform(tqdm.tqdm(val)).toarray()\n",
    "print('done')\n",
    "\n",
    "feats = ['_'.join(s.split()) for s in vectorizer.get_feature_names()] #de m ngrams modellen bruger\n",
    "\n",
    "print(\"fitting log reg\")\n",
    "clf=None\n",
    "clf = LogisticRegression(random_state=16, solver='saga', penalty='l1', max_iter=10000, multi_class=\"multinomial\").fit(X_tr, trlab)\n",
    "print(\"done\")\n",
    "#print(clf.intercept_)\n",
    "\n",
    "coefs = clf.coef_\n",
    "\n",
    "allcoefs = pd.DataFrame.from_records(coefs, columns=feats) #add ngrams as colnames\n",
    "\n",
    "#allcoefs.to_csv('liar_coefs_'+str(m)+'feats'+'_'+str(k)+'gram-l1'+'.csv', sep='\\t', index=False)\n",
    "print(\"classes:\", clf.classes_)\n",
    "\n",
    "y_hat = clf.predict(X_val)\n",
    "microf1=f1_score(vallab, y_hat, average='micro') \n",
    "print(\"MicroF1\", microf1)\n",
    "macrof1=f1_score(vallab, y_hat, average='macro')\n",
    "print(\"macroF1\", macrof1)\n",
    "print(\"accuracy\", np.mean([y_hat == vallab]))\n",
    "print(\"weighted F1\", f1_score(vallab, y_hat, average='weighted'))"
   ]
  },
  {
   "cell_type": "code",
   "execution_count": null,
   "metadata": {
    "collapsed": true
   },
   "outputs": [],
   "source": []
  }
 ],
 "metadata": {
  "kernelspec": {
   "display_name": "Python 3",
   "language": "python",
   "name": "python3"
  },
  "language_info": {
   "codemirror_mode": {
    "name": "ipython",
    "version": 3
   },
   "file_extension": ".py",
   "mimetype": "text/x-python",
   "name": "python",
   "nbconvert_exporter": "python",
   "pygments_lexer": "ipython3",
   "version": "3.6.7"
  }
 },
 "nbformat": 4,
 "nbformat_minor": 2
}
