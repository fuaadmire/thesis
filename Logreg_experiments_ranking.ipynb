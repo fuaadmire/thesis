{
 "cells": [
  {
   "cell_type": "code",
   "execution_count": 1,
   "metadata": {
    "collapsed": true
   },
   "outputs": [],
   "source": [
    "import pandas as pd\n",
    "import tqdm\n",
    "import numpy as np\n",
    "import codecs\n",
    "import glob\n",
    "import random\n",
    "import matplotlib.pyplot as plt\n",
    "import sys"
   ]
  },
  {
   "cell_type": "code",
   "execution_count": 3,
   "metadata": {},
   "outputs": [],
   "source": [
    "liar_coefs = pd.read_csv(\"liar_TEST_coefs_10000feats_5gram-l1.csv\", sep='\\t')\n",
    "kaggle_coefs = pd.read_csv(\"allcoefs_10000-5gram-l1_.csv\", sep='\\t')"
   ]
  },
  {
   "cell_type": "code",
   "execution_count": 9,
   "metadata": {},
   "outputs": [
    {
     "name": "stdout",
     "output_type": "stream",
     "text": [
      "6\n",
      "6\n",
      "debunked        2.801328\n",
      "never asked     2.619117\n",
      "vaccines        2.573224\n",
      "as it           2.550316\n",
      "for the past    2.387442\n",
      "destroyed       2.384117\n",
      "regulation      2.261119\n",
      "the 11          2.231280\n",
      "supporter       2.072337\n",
      "the crime       1.974049\n",
      "Name: false, dtype: float64\n",
      "was just        -1.387832\n",
      "paid for        -1.389211\n",
      "products        -1.441600\n",
      "federal law     -1.456339\n",
      "to let          -1.532681\n",
      "many of         -1.550490\n",
      "60 percent of   -1.660313\n",
      "tax on          -1.736214\n",
      "privatize       -2.073705\n",
      "clinton said    -2.093048\n",
      "Name: false, dtype: float64\n"
     ]
    }
   ],
   "source": [
    "classes = ['barely-true', 'false','half-true', 'mostly-true', 'pants-fire', 'true']\n",
    "liar_coefs.columns = [s.replace('_', ' ') for s in liar_coefs.columns]\n",
    "#print(coefs.isnull().values.any())\n",
    "print(len(liar_coefs))\n",
    "print(len(classes))\n",
    "liar_coefs[\"class_labels\"] = classes\n",
    "liar_coefs.set_index(\"class_labels\", inplace=True)\n",
    "liar_coefs = liar_coefs.T\n",
    "false = liar_coefs.sort_values(by='false', ascending=False)\n",
    "false = false[\"false\"]\n",
    "print(false.head(10))\n",
    "print(false.tail(10))"
   ]
  },
  {
   "cell_type": "code",
   "execution_count": null,
   "metadata": {
    "collapsed": true
   },
   "outputs": [],
   "source": []
  }
 ],
 "metadata": {
  "kernelspec": {
   "display_name": "Python 3",
   "language": "python",
   "name": "python3"
  },
  "language_info": {
   "codemirror_mode": {
    "name": "ipython",
    "version": 3
   },
   "file_extension": ".py",
   "mimetype": "text/x-python",
   "name": "python",
   "nbconvert_exporter": "python",
   "pygments_lexer": "ipython3",
   "version": "3.6.7"
  }
 },
 "nbformat": 4,
 "nbformat_minor": 2
}
