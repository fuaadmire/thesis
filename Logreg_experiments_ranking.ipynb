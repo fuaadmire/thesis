{
 "cells": [
  {
   "cell_type": "code",
   "execution_count": 1,
   "metadata": {
    "collapsed": true
   },
   "outputs": [],
   "source": [
    "import pandas as pd\n",
    "import tqdm\n",
    "import numpy as np\n",
    "import codecs\n",
    "import glob\n",
    "import random\n",
    "import matplotlib.pyplot as plt\n",
    "import sys"
   ]
  },
  {
   "cell_type": "code",
   "execution_count": 3,
   "metadata": {},
   "outputs": [],
   "source": [
    "liar_coefs = pd.read_csv(\"liar_TEST_coefs_10000feats_5gram-l1.csv\", sep='\\t')\n",
    "kaggle_coefs = pd.read_csv(\"allcoefs_10000-5gram-l1_.csv\", sep='\\t')"
   ]
  },
  {
   "cell_type": "code",
   "execution_count": 9,
   "metadata": {},
   "outputs": [
    {
     "name": "stdout",
     "output_type": "stream",
     "text": [
      "6\n",
      "6\n",
      "debunked        2.801328\n",
      "never asked     2.619117\n",
      "vaccines        2.573224\n",
      "as it           2.550316\n",
      "for the past    2.387442\n",
      "destroyed       2.384117\n",
      "regulation      2.261119\n",
      "the 11          2.231280\n",
      "supporter       2.072337\n",
      "the crime       1.974049\n",
      "Name: false, dtype: float64\n",
      "was just        -1.387832\n",
      "paid for        -1.389211\n",
      "products        -1.441600\n",
      "federal law     -1.456339\n",
      "to let          -1.532681\n",
      "many of         -1.550490\n",
      "60 percent of   -1.660313\n",
      "tax on          -1.736214\n",
      "privatize       -2.073705\n",
      "clinton said    -2.093048\n",
      "Name: false, dtype: float64\n"
     ]
    }
   ],
   "source": [
    "classes = ['barely-true', 'false','half-true', 'mostly-true', 'pants-fire', 'true']\n",
    "liar_coefs.columns = [s.replace('_', ' ') for s in liar_coefs.columns]\n",
    "#print(coefs.isnull().values.any())\n",
    "print(len(liar_coefs))\n",
    "print(len(classes))\n",
    "liar_coefs[\"class_labels\"] = classes\n",
    "liar_coefs.set_index(\"class_labels\", inplace=True)\n",
    "liar_coefs = liar_coefs.T\n",
    "false = liar_coefs.sort_values(by='false', ascending=False)\n",
    "false = false[\"false\"]\n",
    "print(false.head(10))\n",
    "print(false.tail(10))"
   ]
  },
  {
   "cell_type": "code",
   "execution_count": 10,
   "metadata": {
    "collapsed": true
   },
   "outputs": [],
   "source": [
    "# binaries liar\n",
    "# find \"best features\" through highest coefficients of binary data\n"
   ]
  },
  {
   "cell_type": "code",
   "execution_count": 20,
   "metadata": {},
   "outputs": [
    {
     "data": {
      "text/html": [
       "<div>\n",
       "<style>\n",
       "    .dataframe thead tr:only-child th {\n",
       "        text-align: right;\n",
       "    }\n",
       "\n",
       "    .dataframe thead th {\n",
       "        text-align: left;\n",
       "    }\n",
       "\n",
       "    .dataframe tbody tr th {\n",
       "        vertical-align: top;\n",
       "    }\n",
       "</style>\n",
       "<table border=\"1\" class=\"dataframe\">\n",
       "  <thead>\n",
       "    <tr style=\"text-align: right;\">\n",
       "      <th></th>\n",
       "      <th>0</th>\n",
       "    </tr>\n",
       "  </thead>\n",
       "  <tbody>\n",
       "    <tr>\n",
       "      <th>2016</th>\n",
       "      <td>0.578970</td>\n",
       "    </tr>\n",
       "    <tr>\n",
       "      <th>october</th>\n",
       "      <td>0.437541</td>\n",
       "    </tr>\n",
       "    <tr>\n",
       "      <th>november</th>\n",
       "      <td>0.379234</td>\n",
       "    </tr>\n",
       "    <tr>\n",
       "      <th>hillary</th>\n",
       "      <td>0.370566</td>\n",
       "    </tr>\n",
       "    <tr>\n",
       "      <th>anti</th>\n",
       "      <td>0.364145</td>\n",
       "    </tr>\n",
       "    <tr>\n",
       "      <th>share</th>\n",
       "      <td>0.312655</td>\n",
       "    </tr>\n",
       "    <tr>\n",
       "      <th>source</th>\n",
       "      <td>0.287841</td>\n",
       "    </tr>\n",
       "    <tr>\n",
       "      <th>com</th>\n",
       "      <td>0.270479</td>\n",
       "    </tr>\n",
       "    <tr>\n",
       "      <th>us</th>\n",
       "      <td>0.261416</td>\n",
       "    </tr>\n",
       "    <tr>\n",
       "      <th>year old</th>\n",
       "      <td>0.243031</td>\n",
       "    </tr>\n",
       "    <tr>\n",
       "      <th>non</th>\n",
       "      <td>0.228624</td>\n",
       "    </tr>\n",
       "    <tr>\n",
       "      <th>co</th>\n",
       "      <td>0.226459</td>\n",
       "    </tr>\n",
       "    <tr>\n",
       "      <th>al</th>\n",
       "      <td>0.225190</td>\n",
       "    </tr>\n",
       "    <tr>\n",
       "      <th>old</th>\n",
       "      <td>0.213568</td>\n",
       "    </tr>\n",
       "    <tr>\n",
       "      <th>self</th>\n",
       "      <td>0.213330</td>\n",
       "    </tr>\n",
       "    <tr>\n",
       "      <th>november 2016</th>\n",
       "      <td>0.202490</td>\n",
       "    </tr>\n",
       "    <tr>\n",
       "      <th>11</th>\n",
       "      <td>0.188388</td>\n",
       "    </tr>\n",
       "    <tr>\n",
       "      <th>elect</th>\n",
       "      <td>0.187248</td>\n",
       "    </tr>\n",
       "    <tr>\n",
       "      <th>however</th>\n",
       "      <td>0.186337</td>\n",
       "    </tr>\n",
       "    <tr>\n",
       "      <th>fbi</th>\n",
       "      <td>0.179201</td>\n",
       "    </tr>\n",
       "    <tr>\n",
       "      <th>via</th>\n",
       "      <td>0.177224</td>\n",
       "    </tr>\n",
       "    <tr>\n",
       "      <th>president elect</th>\n",
       "      <td>0.173538</td>\n",
       "    </tr>\n",
       "    <tr>\n",
       "      <th>comments</th>\n",
       "      <td>0.172354</td>\n",
       "    </tr>\n",
       "    <tr>\n",
       "      <th>post</th>\n",
       "      <td>0.170064</td>\n",
       "    </tr>\n",
       "    <tr>\n",
       "      <th>на</th>\n",
       "      <td>0.167420</td>\n",
       "    </tr>\n",
       "    <tr>\n",
       "      <th>the us</th>\n",
       "      <td>0.163745</td>\n",
       "    </tr>\n",
       "    <tr>\n",
       "      <th>right</th>\n",
       "      <td>0.159774</td>\n",
       "    </tr>\n",
       "    <tr>\n",
       "      <th>click</th>\n",
       "      <td>0.150628</td>\n",
       "    </tr>\n",
       "    <tr>\n",
       "      <th>clinton</th>\n",
       "      <td>0.150452</td>\n",
       "    </tr>\n",
       "    <tr>\n",
       "      <th>please</th>\n",
       "      <td>0.146881</td>\n",
       "    </tr>\n",
       "  </tbody>\n",
       "</table>\n",
       "</div>"
      ],
      "text/plain": [
       "                        0\n",
       "2016             0.578970\n",
       "october          0.437541\n",
       "november         0.379234\n",
       "hillary          0.370566\n",
       "anti             0.364145\n",
       "share            0.312655\n",
       "source           0.287841\n",
       "com              0.270479\n",
       "us               0.261416\n",
       "year old         0.243031\n",
       "non              0.228624\n",
       "co               0.226459\n",
       "al               0.225190\n",
       "old              0.213568\n",
       "self             0.213330\n",
       "november 2016    0.202490\n",
       "11               0.188388\n",
       "elect            0.187248\n",
       "however          0.186337\n",
       "fbi              0.179201\n",
       "via              0.177224\n",
       "president elect  0.173538\n",
       "comments         0.172354\n",
       "post             0.170064\n",
       "на               0.167420\n",
       "the us           0.163745\n",
       "right            0.159774\n",
       "click            0.150628\n",
       "clinton          0.150452\n",
       "please           0.146881"
      ]
     },
     "execution_count": 20,
     "metadata": {},
     "output_type": "execute_result"
    }
   ],
   "source": [
    "kaggle_coefs.columns = [s.replace('_', ' ') for s in kaggle_coefs.columns]\n",
    "#coefsav = pd.DataFrame(coefs.mean(axis=1), columns=['coef'])\n",
    "\n",
    "# true (towards label 0)\n",
    "kaggle_coefs.T.sort_values(by=0, ascending=False).tail(20)\n",
    "\n",
    "# false (towards label 1)\n",
    "kaggle_coefs.T.sort_values(by=0, ascending=False).head(30)"
   ]
  },
  {
   "cell_type": "code",
   "execution_count": 21,
   "metadata": {
    "collapsed": true
   },
   "outputs": [],
   "source": [
    "# make common vocabulary (only shared words)\n"
   ]
  },
  {
   "cell_type": "code",
   "execution_count": 24,
   "metadata": {},
   "outputs": [
    {
     "data": {
      "text/plain": [
       "str"
      ]
     },
     "execution_count": 24,
     "metadata": {},
     "output_type": "execute_result"
    }
   ],
   "source": [
    "filename = \"data/PolitiFact/FakeNewsContent/PolitiFact_Fake_1-Webpage.json\"\n",
    "\n",
    "import json\n",
    "with open(filename, 'r') as f:\n",
    "    datastore = json.load(f)\n",
    "    \n",
    "type(datastore[\"text\"])"
   ]
  },
  {
   "cell_type": "code",
   "execution_count": 62,
   "metadata": {},
   "outputs": [
    {
     "name": "stdout",
     "output_type": "stream",
     "text": [
      "120\n",
      "118\n"
     ]
    }
   ],
   "source": [
    "real = codecs.open(\"data/RealNewsContent.txt\", 'r', 'utf-8').read().split('\\n')\n",
    "real = [s.lower() for s in real if len(s) > 1]\n",
    "print(len(real))\n",
    "\n",
    "fake = codecs.open(\"data/FakeNewsContent.txt\", 'r', 'utf-8').read().split('\\n')\n",
    "fake = [s.lower() for s in fake if len(s) > 1]\n",
    "print(len(fake))\n",
    "\n",
    "real_labels = np.ones(len(real))\n",
    "fake_labels = np.zeros(len(fake))\n",
    "labels = np.concatenate((real_labels, fake_labels))\n",
    "all_news = np.concatenate((real, fake))\n",
    "assert len(labels) == len(all_news)\n"
   ]
  },
  {
   "cell_type": "code",
   "execution_count": 72,
   "metadata": {},
   "outputs": [],
   "source": [
    "from sklearn.utils import shuffle\n",
    "all_news, labels = shuffle(all_news,labels, random_state=42)\n",
    "\n",
    "from sklearn.model_selection import train_test_split\n",
    "FNN_train, FNN_test, FNN_train_lab, FNN_test_lab = train_test_split(all_news, labels, test_size=0.20, random_state=42)"
   ]
  },
  {
   "cell_type": "code",
   "execution_count": 74,
   "metadata": {},
   "outputs": [
    {
     "data": {
      "text/plain": [
       "48"
      ]
     },
     "execution_count": 74,
     "metadata": {},
     "output_type": "execute_result"
    }
   ],
   "source": [
    "len(FNN_test)"
   ]
  },
  {
   "cell_type": "code",
   "execution_count": 70,
   "metadata": {},
   "outputs": [
    {
     "data": {
      "text/plain": [
       "array([1., 1., 0., 0., 1., 0., 1., 0., 1., 0., 0., 0., 1., 0., 1., 1., 1.,\n",
       "       0., 1., 1., 0., 0., 0., 0., 1., 0., 0., 1., 1., 1., 0., 0., 0., 1.,\n",
       "       1., 1., 0., 0., 1., 1., 1., 1., 1., 1., 0., 0., 1., 0., 0., 0., 0.,\n",
       "       1., 0., 1., 0., 1., 0., 0., 1., 0., 0., 1., 1., 0., 1., 0., 1., 1.,\n",
       "       0., 0., 1., 1., 1., 0., 0., 1., 1., 0., 0., 1., 1., 0., 0., 0., 1.,\n",
       "       1., 1., 1., 1., 1., 0., 0., 1., 0., 0., 1., 1., 1., 0., 1., 0., 1.,\n",
       "       0., 0., 0., 0., 1., 1., 1., 1., 1., 0., 0., 0., 1., 1., 0., 0., 1.,\n",
       "       1., 0., 1., 1., 1., 0., 0., 1., 1., 0., 1., 0., 1., 0., 1., 0., 1.,\n",
       "       0., 0., 0., 0., 1., 0., 1., 1., 0., 1., 0., 1., 0., 0., 1., 1., 0.,\n",
       "       1., 1., 0., 1., 0., 0., 1., 1., 1., 0., 0., 0., 0., 1., 0., 1., 1.,\n",
       "       1., 0., 1., 1., 1., 0., 0., 1., 1., 1., 1., 0., 0., 1., 0., 1., 0.,\n",
       "       0., 0., 0., 1., 1., 1., 1., 0., 0., 0., 0., 0., 0., 0., 1., 1., 1.,\n",
       "       1., 1., 0., 0., 0., 0., 0., 0., 1., 0., 0., 1., 1., 0., 0., 0., 1.,\n",
       "       1., 1., 1., 0., 1., 0., 0., 0., 0., 1., 0., 1., 1., 1., 1., 0., 1.])"
      ]
     },
     "execution_count": 70,
     "metadata": {},
     "output_type": "execute_result"
    }
   ],
   "source": [
    "y"
   ]
  },
  {
   "cell_type": "code",
   "execution_count": null,
   "metadata": {},
   "outputs": [],
   "source": []
  },
  {
   "cell_type": "code",
   "execution_count": null,
   "metadata": {
    "collapsed": true
   },
   "outputs": [],
   "source": []
  }
 ],
 "metadata": {
  "kernelspec": {
   "display_name": "Python 3",
   "language": "python",
   "name": "python3"
  },
  "language_info": {
   "codemirror_mode": {
    "name": "ipython",
    "version": 3
   },
   "file_extension": ".py",
   "mimetype": "text/x-python",
   "name": "python",
   "nbconvert_exporter": "python",
   "pygments_lexer": "ipython3",
   "version": "3.6.7"
  }
 },
 "nbformat": 4,
 "nbformat_minor": 2
}
