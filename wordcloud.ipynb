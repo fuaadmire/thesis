{
 "cells": [
  {
   "cell_type": "code",
   "execution_count": 2,
   "metadata": {},
   "outputs": [],
   "source": [
    "import pandas as pd\n",
    "import numpy as np\n",
    "import codecs\n",
    "import io\n",
    "from sklearn.linear_model import LogisticRegression\n",
    "import matplotlib.pyplot as plt\n",
    "from sklearn.feature_extraction.text import CountVectorizer\n",
    "from wordcloud import WordCloud"
   ]
  },
  {
   "cell_type": "code",
   "execution_count": null,
   "metadata": {},
   "outputs": [],
   "source": []
  },
  {
   "cell_type": "code",
   "execution_count": null,
   "metadata": {},
   "outputs": [],
   "source": []
  },
  {
   "cell_type": "code",
   "execution_count": 3,
   "metadata": {
    "collapsed": true
   },
   "outputs": [],
   "source": [
    "def merge_two_dicts(x, y):\n",
    "    z = x.copy()   # start with x's keys and values\n",
    "    z.update(y)    # modifies z with y's keys and values & returns None\n",
    "    return z\n",
    "\n",
    "class SimpleGroupedColorFunc(object):\n",
    "    \"\"\"Create a color function object which assigns EXACT colors\n",
    "       to certain words based on the color to words mapping\n",
    "\n",
    "       Parameters\n",
    "       ----------\n",
    "       color_to_words : dict(str -> list(str))\n",
    "         A dictionary that maps a color to the list of words.\n",
    "\n",
    "       default_color : str\n",
    "         Color that will be assigned to a word that's not a member\n",
    "         of any value from color_to_words.\n",
    "    \"\"\"\n",
    "\n",
    "    def __init__(self, color_to_words, default_color):\n",
    "        self.word_to_color = {word: color\n",
    "                              for (color, words) in color_to_words.items()\n",
    "                              for word in words}\n",
    "\n",
    "        self.default_color = default_color\n",
    "\n",
    "    def __call__(self, word, **kwargs):\n",
    "        return self.word_to_color.get(word, self.default_color)"
   ]
  },
  {
   "cell_type": "code",
   "execution_count": null,
   "metadata": {
    "collapsed": true
   },
   "outputs": [],
   "source": [
    "#m='5000-5gram-l1_'\n",
    "m='10000-5gram-l1_'\n",
    "#m='1000-2gram-l1_class1feat’ #bare til filnavnet på koefficientfilen\n",
    "\n",
    "\n",
    "\n",
    "for dom in ['gender_type1', 'gender_adv','age_type1', 'age_adv']:\n",
    "    if 'gender' in dom:\n",
    "        colors = ('#BC4345', '#96ADC7’)  #farver til ordskyen\n",
    "    elif 'age' in dom:\n",
    "        colors = ('olive', 'springgreen')\n",
    "    try:\n",
    "        coefs = pd.read_csv('coefs.csv', sep='\\t') #pd.read_csv('coefs'+m+'.csv', sep='\\t')\n",
    "    except IOError:\n",
    "        continue\n",
    "    print(dom)\n",
    "    coefs.columns = [s.replace('_', ' ') for s in coefs.columns]\n",
    "    coefs = coefs.T\n",
    "    coefsav = pd.DataFrame(coefs.mean(axis=1), columns=['coef']) #denne skal du ikke bruge\n",
    "    coefsav['absol'] = abs(coefsav)\n",
    "    #coefsav['stdev'] = coefs.std(axis=1)\n",
    "    #coefsav['mean-std'] = coefsav.absol - coefsav.stdev\n",
    "    coefsav.sort_values(by='coef', inplace=True, ascending=False)\n",
    "\n",
    "    wordcloud = WordCloud(background_color=\"white\", collocations=True, width = 800, height = 800)\n",
    "    wordcloud.generate_from_frequencies(frequencies=merge_two_dicts(coefsav.head(n).to_dict(orient='dict')['absol'], coefsav.tail(n).to_dict(orient='dict')['absol']))\n",
    "    color_to_words = {}\n",
    "    color_to_words[colors[0]] = list(coefsav.loc[coefsav.coef<0].index)\n",
    "    color_to_words[colors[1]] = list(coefsav.loc[coefsav.coef>0].index)\n",
    "    default_color = 'gray'\n",
    "    grouped_color_func = SimpleGroupedColorFunc(color_to_words, default_color)\n",
    "    wordcloud.recolor(color_func=grouped_color_func)\n",
    "\n",
    "    fig = plt.figure(figsize=[6,6])\n",
    "    ax = fig.add_subplot(111)\n",
    "    ax.imshow(wordcloud, interpolation=\"bilinear\")\n",
    "    ax.axes.get_xaxis().set_visible(False)\n",
    "    ax.axes.get_yaxis().set_visible(False)\n",
    "    ax.set_frame_on(False)\n",
    "\n",
    "    plt.savefig('wordcloud_'+m+'.pdf', bbox_inches = 'tight', pad_inches = 0, dpi=600)\n",
    "    plt.show()"
   ]
  }
 ],
 "metadata": {
  "kernelspec": {
   "display_name": "Python 3",
   "language": "python",
   "name": "python3"
  },
  "language_info": {
   "codemirror_mode": {
    "name": "ipython",
    "version": 3
   },
   "file_extension": ".py",
   "mimetype": "text/x-python",
   "name": "python",
   "nbconvert_exporter": "python",
   "pygments_lexer": "ipython3",
   "version": "3.6.6"
  }
 },
 "nbformat": 4,
 "nbformat_minor": 2
}
