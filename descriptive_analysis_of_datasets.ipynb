{
 "cells": [
  {
   "cell_type": "code",
   "execution_count": 1,
   "metadata": {
    "collapsed": true
   },
   "outputs": [],
   "source": [
    "import numpy as np\n",
    "import pandas as pd\n",
    "from sklearn.model_selection import train_test_split\n",
    "import codecs\n",
    "import seaborn as sns\n",
    "%matplotlib inline\n",
    "import matplotlib.pyplot as plt\n",
    "#from scipy import stats\n",
    "from nltk import word_tokenize"
   ]
  },
  {
   "cell_type": "code",
   "execution_count": 5,
   "metadata": {
    "collapsed": true
   },
   "outputs": [],
   "source": [
    "kaggle_data = codecs.open(\"data/kaggle_trainset.txt\", 'r', 'utf-8').read().split('\\n')\n",
    "kaggle_data = kaggle_data[:20800]\n",
    "kaggle_data = [s.lower() for s in kaggle_data]\n",
    "\n",
    "kaggle_labels = codecs.open(\"data/kaggle_train_labels.txt\", 'r', 'utf-8').read().split('\\n')\n",
    "kaggle_labels = kaggle_labels[:20800]\n",
    "kaggle_labels = np.array([int(i) for i in kaggle_labels])"
   ]
  },
  {
   "cell_type": "code",
   "execution_count": 27,
   "metadata": {},
   "outputs": [],
   "source": [
    "kaggle_train, kaggle_dev, kaggle_train_lab, kaggle_dev_lab = train_test_split(kaggle_data, kaggle_labels, test_size=0.33, random_state=42)\n",
    "\n",
    "kaggle_train = [word_tokenize(i.lower()) for i in kaggle_train if len(i)>100]\n",
    "kaggle_dev = [word_tokenize(i.lower()) for i in kaggle_dev if len(i)>100]"
   ]
  },
  {
   "cell_type": "code",
   "execution_count": 28,
   "metadata": {
    "collapsed": true
   },
   "outputs": [],
   "source": [
    "liar_train = codecs.open(\"data/liar_xtrain.txt\", 'r', 'utf-8').read().split('\\n')\n",
    "liar_train = [s.lower() for s in liar_train if len(s) > 1]\n",
    "liar_train_labels = codecs.open('data/liar_ytrain.txt', 'r', 'utf-8').read().split('\\n')\n",
    "liar_train_labels = [s for s in liar_train_labels if len(s) > 1]\n",
    "\n",
    "liar_dev = codecs.open(\"data/liar_xval.txt\", 'r', 'utf-8').read().split('\\n')\n",
    "liar_dev = [s.lower() for s in liar_dev if len(s) > 1]\n",
    "liar_dev_labels = codecs.open(\"data/liar_yval.txt\", 'r', 'utf-8').read().split('\\n')\n",
    "liar_dev_labels = [s for s in liar_dev_labels if len(s) > 1]\n",
    "\n",
    "liar_train = [word_tokenize(i.lower()) for i in liar_train]\n",
    "liar_dev = [word_tokenize(i.lower()) for i in liar_dev]"
   ]
  },
  {
   "cell_type": "code",
   "execution_count": null,
   "metadata": {
    "collapsed": true
   },
   "outputs": [],
   "source": []
  },
  {
   "cell_type": "code",
   "execution_count": 29,
   "metadata": {
    "collapsed": true
   },
   "outputs": [],
   "source": [
    "kaggle_token_distribution = [len(paragraph) for paragraph in kaggle_train]\n",
    "liar_token_distribution = [len(paragraph) for paragraph in liar_train]"
   ]
  },
  {
   "cell_type": "code",
   "execution_count": 30,
   "metadata": {},
   "outputs": [
    {
     "data": {
      "image/png": "[encoded data removed]",
      "text/plain": [
       "<matplotlib.figure.Figure at 0x177329588>"
      ]
     },
     "metadata": {},
     "output_type": "display_data"
    },
    {
     "data": {
      "image/png": "[encoded data removed]",
      "text/plain": [
       "<matplotlib.figure.Figure at 0x176748588>"
      ]
     },
     "metadata": {},
     "output_type": "display_data"
    }
   ],
   "source": [
    "for d,name in zip([kaggle_token_distribution, liar_token_distribution], [\"kaggle\", \"liar\"]):\n",
    "    ax = sns.distplot(d, bins=100, kde=False, rug=True)\n",
    "    plt.title(\"{} train set token distribution\".format(name))\n",
    "    plt.show()"
   ]
  },
  {
   "cell_type": "code",
   "execution_count": 31,
   "metadata": {},
   "outputs": [
    {
     "name": "stdout",
     "output_type": "stream",
     "text": [
      "mean 897.8096495087257\n",
      "median 665.0\n",
      "max 27969\n",
      "min 9\n"
     ]
    }
   ],
   "source": [
    "print(\"mean\",np.mean(kaggle_token_distribution))\n",
    "print(\"median\",np.median(kaggle_token_distribution))\n",
    "print(\"max\", max(kaggle_token_distribution))\n",
    "print(\"min\", min(kaggle_token_distribution))"
   ]
  },
  {
   "cell_type": "code",
   "execution_count": 44,
   "metadata": {},
   "outputs": [
    {
     "name": "stdout",
     "output_type": "stream",
     "text": [
      "969\n",
      "828\n"
     ]
    },
    {
     "data": {
      "text/plain": [
       "(array([ 828., 1007., 1203., 1222., 1183.,  866.,  758.,  726.,  584.,\n",
       "         596.]),\n",
       " array([   0.,  100.,  200.,  300.,  400.,  500.,  600.,  700.,  800.,\n",
       "         900., 1000.]),\n",
       " <a list of 10 Patch objects>)"
      ]
     },
     "execution_count": 44,
     "metadata": {},
     "output_type": "execute_result"
    },
    {
     "data": {
      "image/png": "[encoded data removed]",
      "text/plain": [
       "<matplotlib.figure.Figure at 0x171322f28>"
      ]
     },
     "metadata": {},
     "output_type": "display_data"
    }
   ],
   "source": [
    "count = 0\n",
    "for i in kaggle_token_distribution:\n",
    "    if i > 320 and i < 400:\n",
    "        count+=1\n",
    "print(count)\n",
    "\n",
    "count = 0\n",
    "for i in kaggle_token_distribution:\n",
    "    if i < 100:\n",
    "        count+=1\n",
    "print(count)\n",
    "plt.hist(kaggle_token_distribution,bins=10, range=[0, 1000])"
   ]
  },
  {
   "cell_type": "code",
   "execution_count": 45,
   "metadata": {},
   "outputs": [
    {
     "data": {
      "text/plain": [
       "(array([593., 515., 536., 504., 463., 382., 310., 230., 172., 123.,  86.,\n",
       "         90.,  61.,  69.,  51.,  40.,  34.,  19.,  23.,  28.,  26.,  22.,\n",
       "         15.,  19.,  12.,  14.,  13.,  12.,   7.,  10.,   1.,   8.,   9.,\n",
       "         12.,   1.,   9.,   7.,  10.,  14.,  14.]),\n",
       " array([1000., 1100., 1200., 1300., 1400., 1500., 1600., 1700., 1800.,\n",
       "        1900., 2000., 2100., 2200., 2300., 2400., 2500., 2600., 2700.,\n",
       "        2800., 2900., 3000., 3100., 3200., 3300., 3400., 3500., 3600.,\n",
       "        3700., 3800., 3900., 4000., 4100., 4200., 4300., 4400., 4500.,\n",
       "        4600., 4700., 4800., 4900., 5000.]),\n",
       " <a list of 40 Patch objects>)"
      ]
     },
     "execution_count": 45,
     "metadata": {},
     "output_type": "execute_result"
    },
    {
     "data": {
      "image/png": "[encoded data removed]",
      "text/plain": [
       "<matplotlib.figure.Figure at 0x1714037b8>"
      ]
     },
     "metadata": {},
     "output_type": "display_data"
    }
   ],
   "source": [
    "plt.hist(kaggle_token_distribution, bins=40, range=[1000, 5000])"
   ]
  },
  {
   "cell_type": "code",
   "execution_count": 49,
   "metadata": {},
   "outputs": [
    {
     "data": {
      "text/plain": [
       "(array([8.280e+02, 1.007e+03, 1.203e+03, 1.222e+03, 1.183e+03, 8.660e+02,\n",
       "        7.580e+02, 7.260e+02, 5.840e+02, 5.900e+02, 5.930e+02, 5.150e+02,\n",
       "        5.360e+02, 5.040e+02, 4.630e+02, 3.820e+02, 3.100e+02, 2.300e+02,\n",
       "        1.720e+02, 1.230e+02, 8.600e+01, 9.000e+01, 6.100e+01, 6.900e+01,\n",
       "        5.100e+01, 4.000e+01, 3.400e+01, 1.900e+01, 2.300e+01, 2.800e+01,\n",
       "        2.600e+01, 2.200e+01, 1.500e+01, 1.900e+01, 1.200e+01, 1.400e+01,\n",
       "        1.300e+01, 1.200e+01, 7.000e+00, 1.000e+01, 1.000e+00, 8.000e+00,\n",
       "        9.000e+00, 1.200e+01, 1.000e+00, 9.000e+00, 7.000e+00, 1.000e+01,\n",
       "        1.400e+01, 1.400e+01]),\n",
       " array([   0.,  100.,  200.,  300.,  400.,  500.,  600.,  700.,  800.,\n",
       "         900., 1000., 1100., 1200., 1300., 1400., 1500., 1600., 1700.,\n",
       "        1800., 1900., 2000., 2100., 2200., 2300., 2400., 2500., 2600.,\n",
       "        2700., 2800., 2900., 3000., 3100., 3200., 3300., 3400., 3500.,\n",
       "        3600., 3700., 3800., 3900., 4000., 4100., 4200., 4300., 4400.,\n",
       "        4500., 4600., 4700., 4800., 4900., 5000.]),\n",
       " <a list of 50 Patch objects>)"
      ]
     },
     "execution_count": 49,
     "metadata": {},
     "output_type": "execute_result"
    },
    {
     "data": {
      "image/png": "[encoded data removed]",
      "text/plain": [
       "<matplotlib.figure.Figure at 0x171f2fe48>"
      ]
     },
     "metadata": {},
     "output_type": "display_data"
    }
   ],
   "source": [
    "plt.hist(kaggle_token_distribution,bins=50, range=[0, 5000])"
   ]
  },
  {
   "cell_type": "code",
   "execution_count": 33,
   "metadata": {},
   "outputs": [
    {
     "data": {
      "image/png": "[encoded data removed]",
      "text/plain": [
       "<matplotlib.figure.Figure at 0x171856390>"
      ]
     },
     "metadata": {},
     "output_type": "display_data"
    }
   ],
   "source": [
    "import matplotlib.ticker as ticker\n",
    "ax = sns.distplot(kaggle_train_lab, bins=4, kde=False)\n",
    "ax.xaxis.set_major_locator(ticker.MultipleLocator(1))\n",
    "ax.xaxis.set_major_formatter(ticker.ScalarFormatter())\n",
    "# Iterate through the list of axes' patches\n",
    "\n",
    "for i,p in enumerate(ax.patches):\n",
    "    if i==0 or i==3:\n",
    "        ax.text(p.get_x() + p.get_width()/2., p.get_height()+2, '%d' % int(p.get_height()), \n",
    "                fontsize=12, ha='center', va='bottom')\n",
    "\n",
    "plt.title(\"Kaggle train set label distribution\")\n",
    "plt.show()"
   ]
  },
  {
   "cell_type": "code",
   "execution_count": null,
   "metadata": {
    "collapsed": true
   },
   "outputs": [],
   "source": []
  },
  {
   "cell_type": "code",
   "execution_count": null,
   "metadata": {
    "collapsed": true
   },
   "outputs": [],
   "source": []
  }
 ],
 "metadata": {
  "kernelspec": {
   "display_name": "Python 3",
   "language": "python",
   "name": "python3"
  },
  "language_info": {
   "codemirror_mode": {
    "name": "ipython",
    "version": 3
   },
   "file_extension": ".py",
   "mimetype": "text/x-python",
   "name": "python",
   "nbconvert_exporter": "python",
   "pygments_lexer": "ipython3",
   "version": "3.6.7"
  }
 },
 "nbformat": 4,
 "nbformat_minor": 2
}
