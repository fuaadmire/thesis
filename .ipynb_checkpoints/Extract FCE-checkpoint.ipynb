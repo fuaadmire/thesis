{
 "cells": [
  {
   "cell_type": "code",
   "execution_count": 489,
   "metadata": {
    "collapsed": true
   },
   "outputs": [],
   "source": [
    "import numpy as np\n",
    "import codecs\n",
    "from bs4 import BeautifulSoup as bs\n",
    "import bs4\n",
    "from nltk.tokenize import sent_tokenize, word_tokenize\n",
    "import glob\n",
    "import string\n",
    "import pandas as pd\n",
    "import matplotlib.pyplot as plt\n",
    "import h5py\n",
    "from scipy import stats\n",
    "from collections import Counter\n",
    "%matplotlib inline"
   ]
  },
  {
   "cell_type": "markdown",
   "metadata": {},
   "source": [
    "# Parse FCE"
   ]
  },
  {
   "cell_type": "code",
   "execution_count": 490,
   "metadata": {
    "collapsed": true
   },
   "outputs": [],
   "source": [
    "def extract_error_c(elem):\n",
    "    #if no embedded errors: return teacher and student version\n",
    "    \n",
    "    #try:\n",
    "    #    typ = elem.NS['type']\n",
    "        #print(typ)\n",
    "    #except TypeError:\n",
    "    #    pass\n",
    "    \n",
    "    teachersent =''\n",
    "    studentsent =''\n",
    "\n",
    "    if elem.find('c'):\n",
    "        teachersent+=elem.c.getText()\n",
    "    else:\n",
    "        teachersent+=''\n",
    "\n",
    "    if elem.find('i'):\n",
    "        studentsent+=elem.i.getText()\n",
    "    else:\n",
    "        studentsent+=''\n",
    "    return teachersent, studentsent"
   ]
  },
  {
   "cell_type": "code",
   "execution_count": 491,
   "metadata": {
    "collapsed": true,
    "scrolled": true
   },
   "outputs": [],
   "source": [
    "#Functions for parsing FCE corpus\n",
    "def joinsents(old, new):\n",
    "    new = new.strip()\n",
    "    if len(old) == 0:\n",
    "        joined =new\n",
    "    elif old[-1] == ' ':\n",
    "        if len(new) >0 and new[0] in string.punctuation:\n",
    "            joined = old[:-1]+new\n",
    "        else:\n",
    "            joined = old+new    \n",
    "    else:\n",
    "        if len(new) > 0 and new[0] in string.punctuation:\n",
    "            joined = old+new\n",
    "        else:\n",
    "            joined = ' '.join([old, new])\n",
    "    return(joined)\n",
    "\n",
    "def teacherversion(tag):\n",
    "    #print(tag.name)\n",
    "    if tag.name == 'i':\n",
    "        #print('its an i')\n",
    "        return []\n",
    "    elif tag.name == 'c':\n",
    "        #print('its a c')\n",
    "        return tag\n",
    "    elif tag.parent.name == 'NS' and tag.parent['type'][0] in ['M'] or tag.parent['type'] != 'CE':\n",
    "        print('missing')\n",
    "        return tag\n",
    "    \n",
    "def studentversion(tag):\n",
    "    #print('tag', tag)\n",
    "    #print('tagparent', tag.parent)\n",
    "    if tag.name == 'c':\n",
    "        #print('its an i')\n",
    "        return []\n",
    "    elif tag.name == 'i':\n",
    "        #print('its a c')\n",
    "        return tag\n",
    "    elif tag.parent.name == 'NS':\n",
    "        print(tag)\n",
    "        if tag.parent['type'][0] not in ['M'] or tag.parent['type'] == 'CE':\n",
    "            print('missing')\n",
    "            return tag\n",
    "        else:\n",
    "            return []\n",
    "\n"
   ]
  },
  {
   "cell_type": "code",
   "execution_count": 4,
   "metadata": {
    "scrolled": true
   },
   "outputs": [
    {
     "name": "stdout",
     "output_type": "stream",
     "text": [
      "0 data/proficiency/fce-released-dataset/dataset/0100_2001_6/doc3002.xml\n",
      "1 data/proficiency/fce-released-dataset/dataset/0100_2001_6/doc3176.xml\n",
      "2 data/proficiency/fce-released-dataset/dataset/0100_2001_6/doc3163.xml\n",
      "3 data/proficiency/fce-released-dataset/dataset/0100_2001_6/doc3003.xml\n",
      "4 data/proficiency/fce-released-dataset/dataset/0100_2001_6/doc3038.xml\n",
      "5 data/proficiency/fce-released-dataset/dataset/0100_2001_6/doc3158.xml\n",
      "6 data/proficiency/fce-released-dataset/dataset/0100_2001_6/doc3171.xml\n",
      "7 data/proficiency/fce-released-dataset/dataset/0100_2001_6/doc3005.xml\n",
      "8 data/proficiency/fce-released-dataset/dataset/0100_2001_6/doc3039.xml\n",
      "9 data/proficiency/fce-released-dataset/dataset/0100_2001_6/doc2906.xml\n",
      "10 data/proficiency/fce-released-dataset/dataset/0100_2001_6/doc3006.xml\n",
      "11 data/proficiency/fce-released-dataset/dataset/0100_2001_6/doc3061.xml\n",
      "12 data/proficiency/fce-released-dataset/dataset/0100_2001_6/doc3288.xml\n",
      "13 data/proficiency/fce-released-dataset/dataset/0100_2001_6/doc2960.xml\n",
      "14 data/proficiency/fce-released-dataset/dataset/0100_2001_6/doc3115.xml\n",
      "15 data/proficiency/fce-released-dataset/dataset/0100_2001_6/doc3101.xml\n",
      "16 data/proficiency/fce-released-dataset/dataset/0100_2001_6/doc3100.xml\n",
      "17 data/proficiency/fce-released-dataset/dataset/0100_2001_6/doc2949.xml\n",
      "18 data/proficiency/fce-released-dataset/dataset/0100_2001_6/doc2829.xml\n",
      "19 data/proficiency/fce-released-dataset/dataset/0100_2001_6/doc3074.xml\n",
      "20 data/proficiency/fce-released-dataset/dataset/0100_2001_6/doc3060.xml\n",
      "21 data/proficiency/fce-released-dataset/dataset/0100_2001_6/doc3062.xml\n",
      "22 data/proficiency/fce-released-dataset/dataset/0100_2001_6/doc2963.xml\n",
      "23 data/proficiency/fce-released-dataset/dataset/0100_2001_6/doc3102.xml\n",
      "24 data/proficiency/fce-released-dataset/dataset/0100_2001_6/doc3116.xml\n",
      "25 data/proficiency/fce-released-dataset/dataset/0100_2001_6/doc3117.xml\n",
      "26 data/proficiency/fce-released-dataset/dataset/0100_2001_6/doc2976.xml\n",
      "27 data/proficiency/fce-released-dataset/dataset/0100_2001_6/doc3275.xml\n",
      "28 data/proficiency/fce-released-dataset/dataset/0100_2001_6/doc3063.xml\n",
      "29 data/proficiency/fce-released-dataset/dataset/0100_2001_6/doc3098.xml\n",
      "30 data/proficiency/fce-released-dataset/dataset/0100_2001_6/doc3305.xml\n",
      "31 data/proficiency/fce-released-dataset/dataset/0100_2001_6/doc2797.xml\n",
      "32 data/proficiency/fce-released-dataset/dataset/0100_2001_6/doc3066.xml\n",
      "33 data/proficiency/fce-released-dataset/dataset/0100_2001_6/doc3072.xml\n",
      "34 data/proficiency/fce-released-dataset/dataset/0100_2001_6/doc3099.xml\n",
      "35 data/proficiency/fce-released-dataset/dataset/0100_2001_6/doc3064.xml\n",
      "36 data/proficiency/fce-released-dataset/dataset/0100_2001_6/doc3070.xml\n",
      "37 data/proficiency/fce-released-dataset/dataset/0100_2001_6/doc2959.xml\n",
      "38 data/proficiency/fce-released-dataset/dataset/0100_2001_6/doc2970.xml\n",
      "39 data/proficiency/fce-released-dataset/dataset/0100_2001_6/doc3298.xml\n",
      "40 data/proficiency/fce-released-dataset/dataset/0100_2001_6/doc3071.xml\n",
      "41 data/proficiency/fce-released-dataset/dataset/0100_2001_6/doc3040.xml\n",
      "42 data/proficiency/fce-released-dataset/dataset/0100_2001_6/doc3054.xml\n",
      "43 data/proficiency/fce-released-dataset/dataset/0100_2001_6/doc3068.xml\n",
      "44 data/proficiency/fce-released-dataset/dataset/0100_2001_6/doc2799.xml\n",
      "45 data/proficiency/fce-released-dataset/dataset/0100_2001_6/doc3108.xml\n",
      "46 data/proficiency/fce-released-dataset/dataset/0100_2001_6/doc3121.xml\n",
      "47 data/proficiency/fce-released-dataset/dataset/0100_2001_6/doc2983.xml\n",
      "48 data/proficiency/fce-released-dataset/dataset/0100_2001_6/doc2968.xml\n",
      "49 data/proficiency/fce-released-dataset/dataset/0100_2001_6/doc2798.xml\n",
      "50 data/proficiency/fce-released-dataset/dataset/0100_2001_6/doc3041.xml\n",
      "51 data/proficiency/fce-released-dataset/dataset/0100_2001_6/doc3096.xml\n",
      "52 data/proficiency/fce-released-dataset/dataset/0100_2001_6/doc3094.xml\n",
      "53 data/proficiency/fce-released-dataset/dataset/0100_2001_6/doc3057.xml\n",
      "54 data/proficiency/fce-released-dataset/dataset/0100_2001_6/doc3241.xml\n",
      "55 data/proficiency/fce-released-dataset/dataset/0100_2001_6/doc3137.xml\n",
      "56 data/proficiency/fce-released-dataset/dataset/0100_2001_6/doc3122.xml\n",
      "57 data/proficiency/fce-released-dataset/dataset/0100_2001_6/doc2994.xml\n",
      "58 data/proficiency/fce-released-dataset/dataset/0100_2001_6/doc3240.xml\n",
      "59 data/proficiency/fce-released-dataset/dataset/0100_2001_6/doc3283.xml\n",
      "60 data/proficiency/fce-released-dataset/dataset/0100_2001_6/doc3042.xml\n",
      "61 data/proficiency/fce-released-dataset/dataset/0100_2001_6/doc3052.xml\n",
      "62 data/proficiency/fce-released-dataset/dataset/0100_2001_6/doc3278.xml\n",
      "63 data/proficiency/fce-released-dataset/dataset/0100_2001_6/doc2984.xml\n",
      "64 data/proficiency/fce-released-dataset/dataset/0100_2001_6/doc2990.xml\n",
      "65 data/proficiency/fce-released-dataset/dataset/0100_2001_6/doc3133.xml\n",
      "66 data/proficiency/fce-released-dataset/dataset/0100_2001_6/doc2985.xml\n",
      "67 data/proficiency/fce-released-dataset/dataset/0100_2001_6/doc3245.xml\n",
      "68 data/proficiency/fce-released-dataset/dataset/0100_2001_6/doc3247.xml\n",
      "69 data/proficiency/fce-released-dataset/dataset/0100_2001_6/doc3253.xml\n",
      "70 data/proficiency/fce-released-dataset/dataset/0100_2001_6/doc2978.xml\n",
      "71 data/proficiency/fce-released-dataset/dataset/0100_2001_6/doc2987.xml\n",
      "72 data/proficiency/fce-released-dataset/dataset/0100_2001_6/doc3119.xml\n",
      "73 data/proficiency/fce-released-dataset/dataset/0100_2001_6/doc2992.xml\n",
      "74 data/proficiency/fce-released-dataset/dataset/0100_2001_6/doc2951.xml\n",
      "75 data/proficiency/fce-released-dataset/dataset/0100_2001_6/doc3252.xml\n",
      "76 data/proficiency/fce-released-dataset/dataset/0100_2001_6/doc3291.xml\n",
      "77 data/proficiency/fce-released-dataset/dataset/0100_2001_6/doc3285.xml\n",
      "78 data/proficiency/fce-released-dataset/dataset/0100_2001_6/doc3093.xml\n",
      "79 data/proficiency/fce-released-dataset/dataset/0100_2001_6/doc3235.xml\n",
      "80 data/proficiency/fce-released-dataset/dataset/0100_2001_6/doc3157.xml\n",
      "81 data/proficiency/fce-released-dataset/dataset/0100_2001_6/doc3156.xml\n",
      "82 data/proficiency/fce-released-dataset/dataset/0100_2001_6/doc3220.xml\n",
      "83 data/proficiency/fce-released-dataset/dataset/0100_2001_6/doc3034.xml\n",
      "84 data/proficiency/fce-released-dataset/dataset/0100_2001_6/doc3236.xml\n",
      "85 data/proficiency/fce-released-dataset/dataset/0100_2001_6/doc3155.xml\n",
      "86 data/proficiency/fce-released-dataset/dataset/0100_2001_6/doc2868.xml\n",
      "87 data/proficiency/fce-released-dataset/dataset/0100_2001_6/doc3019.xml\n",
      "88 data/proficiency/fce-released-dataset/dataset/0100_2001_6/doc3025.xml\n",
      "89 data/proficiency/fce-released-dataset/dataset/0100_2001_6/doc3233.xml\n",
      "90 data/proficiency/fce-released-dataset/dataset/0100_2001_6/doc3232.xml\n",
      "91 data/proficiency/fce-released-dataset/dataset/0100_2001_6/doc3230.xml\n",
      "92 data/proficiency/fce-released-dataset/dataset/0100_2001_6/doc3185.xml\n",
      "93 data/proficiency/fce-released-dataset/dataset/0100_2001_6/doc3152.xml\n",
      "94 data/proficiency/fce-released-dataset/dataset/0100_2001_6/doc3231.xml\n",
      "95 data/proficiency/fce-released-dataset/dataset/0100_2001_6/doc3225.xml\n",
      "96 data/proficiency/fce-released-dataset/dataset/0100_2001_6/doc3033.xml\n"
     ]
    }
   ],
   "source": [
    "#path = \"data/proficiency/\"\n",
    "textout = codecs.open('fce_text', 'w', 'utf-8')\n",
    "profout = codecs.open('proficiency', 'w', 'utf-8')\n",
    "firstlangout = codecs.open('firstlang', 'w', 'utf-8')\n",
    "docscoreout = codecs.open('docscore', 'w', 'utf-8')\n",
    "\n",
    "teachertextout = codecs.open('fce_teacher', 'w', 'utf-8')\n",
    "teacherprofout = codecs.open('proficiency_teacher', 'w', 'utf-8')\n",
    "teacherfirstlangout = codecs.open('firstlang_teacher', 'w', 'utf-8')\n",
    "langvec_t =[]\n",
    "profvec_t =[]\n",
    "docscorevec_t=[]\n",
    "textvec_t = []\n",
    "useridvec_t = []\n",
    "ansvec_t = []\n",
    "\n",
    "\n",
    "langvec_s =[]\n",
    "profvec_s =[]\n",
    "docscorevec_s=[]\n",
    "textvec_s = []\n",
    "useridvec_s = []\n",
    "ansvec_s = [] \n",
    "\n",
    "for i, doc in enumerate(glob.glob('fce-released-dataset/dataset/0100_2001_6/*xml')): #only test and validation\n",
    "    print(i, doc)\n",
    "    doc = codecs.open(doc, 'r', 'utf-8').read()\n",
    "    soup = bs(doc, 'xml')\n",
    "\n",
    "    firstlang = soup.language.string\n",
    "    \"\"\"if soup.age:  #Only around 30 out of 97 test documents have age\n",
    "        agegroup=soup.age.string\n",
    "    else:\n",
    "        break\n",
    "    \"\"\"\n",
    "    score=soup.score.string\n",
    "    studentid=soup.head['sortkey']\n",
    "\n",
    "\n",
    "    for ans in soup.find_all(['answer1', 'answer2']):\n",
    "        docscore = ans.exam_score.string\n",
    "        parag = ans.find_all('p')\n",
    "        qnumber = ans.question_number.string\n",
    "        student=\"\"\n",
    "        teacher=\"\"\n",
    "        for p in parag:\n",
    "            for ch in p:\n",
    "                if ch.find('NS') == -1 or type(ch.find('NS')) == int:#Then there are no errors in this bit\n",
    "                    teacher = joinsents(teacher, ch)\n",
    "                    student = joinsents(student, ch)\n",
    "                else:\n",
    "                    if ch.find('NS') and len(ch.find('NS')) > 0:\n",
    "                        #print(ch)\n",
    "                        for gr in ch.children:\n",
    "                            if gr.find('NS') == -1:\n",
    "                                #print(gr)\n",
    "                                if not gr.find('i') or gr.find('c'):\n",
    "                                    if gr.parent['type'] == 'CE' or gr.parent['type'][0] in ['R', 'U']:\n",
    "                                        student = joinsents(student, gr)\n",
    "                                    elif gr.parent['type'] in ['M']:\n",
    "                                        teacher = joinsents(teacher, gr)\n",
    "                                    else:\n",
    "                                        teacher = joinsents(teacher, gr)\n",
    "                                        student = joinsents(student, gr)\n",
    "                                else:\n",
    "                                    print('gr',gr)\n",
    "                            else:\n",
    "                                if gr.find('NS') and len(str(gr.find('NS'))) > 0:\n",
    "                                    for ggc in gr.children:\n",
    "                                        if ggc.find('NS') == -1:\n",
    "                                            try:\n",
    "                                                #print(ggc)\n",
    "                                                if not ggc.find('i') or ggc.find('c'):\n",
    "                                                    if ggc.parent.name=='NS' and ggc.parent['type'] == 'CE' or ggc.parent['type'][0] in ['R', 'U']:\n",
    "                                                        student = joinsents(student, ggc)\n",
    "                                                    elif ggc.parent['type'] in ['M']:\n",
    "                                                        teacher = joinsents(teacher, ggc)\n",
    "                                                    else:\n",
    "                                                        teacher = joinsents(teacher, ggc)\n",
    "                                                        student = joinsents(student, ggc)\n",
    "                                                else:\n",
    "                                                    print('ggc', ggc)\n",
    "                                                    pass\n",
    "                                            except KeyError:\n",
    "                                                joinsents(teacher, ggc)\n",
    "                                                joinsents(student, ggc) \n",
    "\n",
    "                                        elif ggc.find('NS') and len(ggc.find('NS')) > 0:\n",
    "                                            for gggc in ggc.children:\n",
    "                                                if gggc.find('NS') == -1:\n",
    "                                                    try:\n",
    "                                                        #print(ggc)\n",
    "                                                        if not gggc.find('i') or gggc.find('c'):\n",
    "                                                            if gggc.parent.name=='NS' and gggc.parent['type'] == 'CE' or gggc.parent['type'][0] in ['R', 'U']:\n",
    "                                                                student = joinsents(student, gggc)\n",
    "                                                            elif gggc.parent['type'] in ['M']:\n",
    "                                                                teacher = joinsents(teacher, gggc)\n",
    "                                                            else:\n",
    "                                                                teacher = joinsents(teacher, gggc)\n",
    "                                                                student = joinsents(student, gggc)\n",
    "                                                        else:\n",
    "                                                            print('gggc', gggc)\n",
    "                                                            pass\n",
    "                                                    except KeyError:\n",
    "                                                        joinsents(teacher, gggc)\n",
    "                                                        joinsents(student, gggc) \n",
    "\n",
    "                                        else: \n",
    "                                            t = ggc.find_all(teacherversion)\n",
    "                                            t = ' '.join([c.text for c in t])\n",
    "                                            teacher = joinsents(teacher, t)\n",
    "                                            s = ggc.find_all(studentversion)\n",
    "                                            s = ' '.join([i.text for i in s])\n",
    "                                            student = joinsents(student, s)\n",
    "                                else: #if part of certain errors in parent, only one of versions\n",
    "                                    if gr.parent['type'] == 'CE' or gr.parent['type'] in ['R', 'U']:\n",
    "                                        s = gr.find_all(studentversion)\n",
    "                                        s = ' '.join([i.text for i in s])\n",
    "                                        student = joinsents(student, s)\n",
    "\n",
    "                                    elif gr.parent['type'] in ['M']:\n",
    "                                        t = gr.find_all(teacherversion)\n",
    "                                        t = ' '.join([c.text for c in t])\n",
    "                                        teacher = joinsents(teacher, t)  \n",
    "                                    else:\n",
    "                                        s = gr.find_all(studentversion)\n",
    "                                        s = ' '.join([i.text for i in s])\n",
    "                                        student = joinsents(student, s)\n",
    "                                        t = gr.find_all(teacherversion)\n",
    "                                        t = ' '.join([c.text for c in t])\n",
    "                                        teacher = joinsents(teacher, t)        \n",
    "\n",
    "                    else:\n",
    "                        if ch.name == 'NS' and not ch.i and not ch.c:\n",
    "                            if ch['type'] == 'CE' or ch['type'][0] in ['R', 'U']:\n",
    "                                student = joinsents(student, ch.get_text())\n",
    "                            if ch['type'][0] in ['M']:\n",
    "                                teacher = joinsents(teacher, ch.get_text())\n",
    "                        else:\n",
    "                            t = ch.find_all(teacherversion)\n",
    "                            t = ' '.join([c.text for c in t])\n",
    "                            teacher = joinsents(teacher, t)\n",
    "                            s = ch.find_all(studentversion)\n",
    "                            s = ' '.join([i.text for i in s])\n",
    "                            student = joinsents(student, s)\n",
    "        if firstlang and score and len(student)>50:\n",
    "            studentsents = sent_tokenize(student)\n",
    "            teachersents = sent_tokenize(teacher)\n",
    "            for sent in studentsents:\n",
    "                langvec_s.append(firstlang)\n",
    "                profvec_s.append(float(score))\n",
    "                docscorevec_s.append(float(docscore.strip('T')))\n",
    "                textvec_s.append(sent)\n",
    "                useridvec_s.append(studentid)\n",
    "                ansvec_s.append(qnumber)\n",
    "                textout.write(sent.strip('\\n')+'\\n')\n",
    "                firstlangout.write(firstlang+'\\t'+studentid+'\\n')\n",
    "                profout.write(score+'\\t'+studentid+'\\n')\n",
    "                docscoreout.write(docscore+'\\t'+studentid+'\\n')\n",
    "            for sent in teachersents:\n",
    "                teachertextout.write(sent.strip('\\n')+'\\n')\n",
    "                teacherfirstlangout.write(firstlang+'\\t'+studentid+'\\n')\n",
    "                teacherprofout.write(score+'\\t'+studentid+'\\n')\n",
    "                langvec_t.append(firstlang)\n",
    "                profvec_t.append(float(score))\n",
    "                docscorevec_t.append(float(docscore.strip('T')))\n",
    "                textvec_t.append(sent)\n",
    "                useridvec_t.append(studentid)\n",
    "                ansvec_t.append(qnumber)\n",
    "            \n",
    "textout.close()\n",
    "profout.close()\n",
    "firstlangout.close()\n",
    "docscoreout.close()\n",
    "teachertextout.close()\n",
    "teacherprofout.close()\n",
    "teacherfirstlangout.close()"
   ]
  },
  {
   "cell_type": "markdown",
   "metadata": {},
   "source": [
    "# Statistical analysis of softmax predictions"
   ]
  },
  {
   "cell_type": "markdown",
   "metadata": {},
   "source": [
    "## making df with predictions fce"
   ]
  },
  {
   "cell_type": "code",
   "execution_count": 492,
   "metadata": {
    "collapsed": true
   },
   "outputs": [],
   "source": [
    "teacher_version = False #corrected version of text or students version of text\n",
    "alpha=0.05 #alphalevel for analysis\n",
    "\n",
    "if teacher_version:\n",
    "    preds = pd.read_csv(path+'teacher_preds_softmax.txt', sep=' ', names=['conf_0', 'conf_1'], header=None)\n",
    "    langvec =langvec_t\n",
    "    profvec =profvec_t\n",
    "    docscorevec=docscorevec_t\n",
    "    textvec = textvec_t\n",
    "    useridvec = useridvec_t\n",
    "    ansvec = ansvec_t\n",
    "else:\n",
    "    preds = pd.read_csv(path+'student_preds_softmax.txt', sep=' ', names=['conf_0', 'conf_1'], header=None)\n",
    "    langvec =langvec_s\n",
    "    profvec =profvec_s\n",
    "    docscorevec=docscorevec_s\n",
    "    textvec = textvec_s\n",
    "    useridvec = useridvec_s\n",
    "    ansvec = ansvec_s"
   ]
  },
  {
   "cell_type": "code",
   "execution_count": 493,
   "metadata": {},
   "outputs": [
    {
     "name": "stdout",
     "output_type": "stream",
     "text": [
      "number of sentences/documents 2511\n"
     ]
    }
   ],
   "source": [
    "print(\"number of sentences/documents\", len(preds))\n",
    "#len(preds)"
   ]
  },
  {
   "cell_type": "code",
   "execution_count": 494,
   "metadata": {
    "collapsed": true
   },
   "outputs": [],
   "source": [
    "fce = pd.DataFrame.from_dict({'first_lang':langvec[:len(preds)], 'score': profvec[:len(preds)], 'docscore': docscorevec[:len(preds)], \n",
    "                        'uid':useridvec[:len(preds)], 'qid': ansvec[:len(preds)]})\n",
    "fce = pd.concat([fce, preds], axis=1)"
   ]
  },
  {
   "cell_type": "markdown",
   "metadata": {},
   "source": [
    "### Binning softmax to binary!"
   ]
  },
  {
   "cell_type": "code",
   "execution_count": 495,
   "metadata": {
    "collapsed": true
   },
   "outputs": [],
   "source": [
    "fce.conf_0 = pd.cut(fce.conf_0, 2, labels=[0,1]).astype('float')"
   ]
  },
  {
   "cell_type": "code",
   "execution_count": null,
   "metadata": {
    "collapsed": true
   },
   "outputs": [],
   "source": []
  },
  {
   "cell_type": "markdown",
   "metadata": {},
   "source": [
    "### Selcting subset for remaining tests"
   ]
  },
  {
   "cell_type": "code",
   "execution_count": 496,
   "metadata": {
    "collapsed": true
   },
   "outputs": [],
   "source": [
    "cut = 30 #set exam score cut for profiency.\n",
    "\n",
    "#fake_pred = fce.loc[fce.conf_0>0.5] #only subset of sentences predicted to be fake \n",
    "#print(len(fake_pred)) #don't think we're going to use this\n",
    "\n",
    "df = fce #set the dataset to either fce, fake_pred df is on sentence level\n",
    "\n",
    "df_cut = df.loc[df.score>cut] #and also with a exam score cutoff"
   ]
  },
  {
   "cell_type": "markdown",
   "metadata": {},
   "source": [
    "### group by author or answer"
   ]
  },
  {
   "cell_type": "code",
   "execution_count": 497,
   "metadata": {},
   "outputs": [
    {
     "name": "stdout",
     "output_type": "stream",
     "text": [
      "df number of datapoints: 2511\n",
      "df_cut number of datapoints: 724\n",
      "ansgr number of datapoints: 194\n",
      "ansgr_cut number of datapoints: 54\n",
      "authorgr number of datapoints: 97\n",
      "authorgr_cut number of datapoints: 27\n"
     ]
    }
   ],
   "source": [
    "ansgr = df.groupby(['uid', 'qid','first_lang'], as_index=False).mean() #grouped by answer\n",
    "authorgr = df.groupby(['uid', 'first_lang'], as_index=False).mean() #grouped by author\n",
    "\n",
    "ansgr_cut = df.loc[df.score>cut].groupby(['uid', 'qid','first_lang'], as_index=False).mean() \n",
    "authorgr_cut = df.loc[df.score>cut].groupby(['uid', 'first_lang'], as_index=False).mean()\n",
    "\n",
    "print(\"df number of datapoints:\", len(df))\n",
    "print(\"df_cut number of datapoints:\", len(df_cut))\n",
    "print(\"ansgr number of datapoints:\", len(ansgr))\n",
    "print(\"ansgr_cut number of datapoints:\", len(ansgr_cut))\n",
    "print(\"authorgr number of datapoints:\", len(authorgr))\n",
    "print(\"authorgr_cut number of datapoints:\", len(authorgr_cut))"
   ]
  },
  {
   "cell_type": "markdown",
   "metadata": {},
   "source": [
    "## First correlations (not much)"
   ]
  },
  {
   "cell_type": "code",
   "execution_count": null,
   "metadata": {
    "collapsed": true
   },
   "outputs": [],
   "source": []
  },
  {
   "cell_type": "code",
   "execution_count": 498,
   "metadata": {},
   "outputs": [
    {
     "ename": "NameError",
     "evalue": "name 'fake_pred' is not defined",
     "output_type": "error",
     "traceback": [
      "\u001b[0;31m---------------------------------------------------------------------------\u001b[0m",
      "\u001b[0;31mNameError\u001b[0m                                 Traceback (most recent call last)",
      "\u001b[0;32m<ipython-input-498-1d4f690a5fe6>\u001b[0m in \u001b[0;36m<module>\u001b[0;34m()\u001b[0m\n\u001b[0;32m----> 1\u001b[0;31m \u001b[0mfake_pred\u001b[0m\u001b[0;34m.\u001b[0m\u001b[0mcorr\u001b[0m\u001b[0;34m(\u001b[0m\u001b[0mmethod\u001b[0m\u001b[0;34m=\u001b[0m\u001b[0;34m'pearson'\u001b[0m\u001b[0;34m)\u001b[0m\u001b[0;34m\u001b[0m\u001b[0;34m\u001b[0m\u001b[0m\n\u001b[0m",
      "\u001b[0;31mNameError\u001b[0m: name 'fake_pred' is not defined"
     ]
    }
   ],
   "source": [
    "fake_pred.corr(method='pearson')"
   ]
  },
  {
   "cell_type": "code",
   "execution_count": 499,
   "metadata": {},
   "outputs": [
    {
     "data": {
      "text/html": [
       "<div>\n",
       "<style>\n",
       "    .dataframe thead tr:only-child th {\n",
       "        text-align: right;\n",
       "    }\n",
       "\n",
       "    .dataframe thead th {\n",
       "        text-align: left;\n",
       "    }\n",
       "\n",
       "    .dataframe tbody tr th {\n",
       "        vertical-align: top;\n",
       "    }\n",
       "</style>\n",
       "<table border=\"1\" class=\"dataframe\">\n",
       "  <thead>\n",
       "    <tr style=\"text-align: right;\">\n",
       "      <th></th>\n",
       "      <th>docscore</th>\n",
       "      <th>score</th>\n",
       "      <th>conf_0</th>\n",
       "      <th>conf_1</th>\n",
       "    </tr>\n",
       "  </thead>\n",
       "  <tbody>\n",
       "    <tr>\n",
       "      <th>docscore</th>\n",
       "      <td>1.000000</td>\n",
       "      <td>0.876692</td>\n",
       "      <td>0.005216</td>\n",
       "      <td>-0.001978</td>\n",
       "    </tr>\n",
       "    <tr>\n",
       "      <th>score</th>\n",
       "      <td>0.876692</td>\n",
       "      <td>1.000000</td>\n",
       "      <td>0.015877</td>\n",
       "      <td>-0.009432</td>\n",
       "    </tr>\n",
       "    <tr>\n",
       "      <th>conf_0</th>\n",
       "      <td>0.005216</td>\n",
       "      <td>0.015877</td>\n",
       "      <td>1.000000</td>\n",
       "      <td>-0.883755</td>\n",
       "    </tr>\n",
       "    <tr>\n",
       "      <th>conf_1</th>\n",
       "      <td>-0.001978</td>\n",
       "      <td>-0.009432</td>\n",
       "      <td>-0.883755</td>\n",
       "      <td>1.000000</td>\n",
       "    </tr>\n",
       "  </tbody>\n",
       "</table>\n",
       "</div>"
      ],
      "text/plain": [
       "          docscore     score    conf_0    conf_1\n",
       "docscore  1.000000  0.876692  0.005216 -0.001978\n",
       "score     0.876692  1.000000  0.015877 -0.009432\n",
       "conf_0    0.005216  0.015877  1.000000 -0.883755\n",
       "conf_1   -0.001978 -0.009432 -0.883755  1.000000"
      ]
     },
     "execution_count": 499,
     "metadata": {},
     "output_type": "execute_result"
    }
   ],
   "source": [
    "fce.corr(method='pearson') "
   ]
  },
  {
   "cell_type": "code",
   "execution_count": 500,
   "metadata": {},
   "outputs": [
    {
     "name": "stdout",
     "output_type": "stream",
     "text": [
      "(0.015876917896031486, 0.4264713393619104)\n"
     ]
    }
   ],
   "source": [
    "df.corr(method='pearson') \n",
    "print(stats.pearsonr(df.conf_0, df.score))"
   ]
  },
  {
   "cell_type": "code",
   "execution_count": 501,
   "metadata": {},
   "outputs": [
    {
     "name": "stdout",
     "output_type": "stream",
     "text": [
      "(0.014741699283624858, 0.692108942080312)\n"
     ]
    }
   ],
   "source": [
    "df_cut.corr(method='pearson')\n",
    "print(stats.pearsonr(df_cut.conf_0, df_cut.score))"
   ]
  },
  {
   "cell_type": "markdown",
   "metadata": {},
   "source": [
    "## Correlating score and conf_0 for groups\n",
    "#Significance test (second number in tuple is p-val)"
   ]
  },
  {
   "cell_type": "code",
   "execution_count": 502,
   "metadata": {},
   "outputs": [
    {
     "name": "stdout",
     "output_type": "stream",
     "text": [
      "(0.0525739217454765, 0.46658823983272646)\n"
     ]
    },
    {
     "data": {
      "text/html": [
       "<div>\n",
       "<style>\n",
       "    .dataframe thead tr:only-child th {\n",
       "        text-align: right;\n",
       "    }\n",
       "\n",
       "    .dataframe thead th {\n",
       "        text-align: left;\n",
       "    }\n",
       "\n",
       "    .dataframe tbody tr th {\n",
       "        vertical-align: top;\n",
       "    }\n",
       "</style>\n",
       "<table border=\"1\" class=\"dataframe\">\n",
       "  <thead>\n",
       "    <tr style=\"text-align: right;\">\n",
       "      <th></th>\n",
       "      <th>docscore</th>\n",
       "      <th>score</th>\n",
       "      <th>conf_0</th>\n",
       "      <th>conf_1</th>\n",
       "    </tr>\n",
       "  </thead>\n",
       "  <tbody>\n",
       "    <tr>\n",
       "      <th>docscore</th>\n",
       "      <td>1.000000</td>\n",
       "      <td>0.872120</td>\n",
       "      <td>0.022252</td>\n",
       "      <td>-0.014026</td>\n",
       "    </tr>\n",
       "    <tr>\n",
       "      <th>score</th>\n",
       "      <td>0.872120</td>\n",
       "      <td>1.000000</td>\n",
       "      <td>0.052574</td>\n",
       "      <td>-0.032309</td>\n",
       "    </tr>\n",
       "    <tr>\n",
       "      <th>conf_0</th>\n",
       "      <td>0.022252</td>\n",
       "      <td>0.052574</td>\n",
       "      <td>1.000000</td>\n",
       "      <td>-0.918816</td>\n",
       "    </tr>\n",
       "    <tr>\n",
       "      <th>conf_1</th>\n",
       "      <td>-0.014026</td>\n",
       "      <td>-0.032309</td>\n",
       "      <td>-0.918816</td>\n",
       "      <td>1.000000</td>\n",
       "    </tr>\n",
       "  </tbody>\n",
       "</table>\n",
       "</div>"
      ],
      "text/plain": [
       "          docscore     score    conf_0    conf_1\n",
       "docscore  1.000000  0.872120  0.022252 -0.014026\n",
       "score     0.872120  1.000000  0.052574 -0.032309\n",
       "conf_0    0.022252  0.052574  1.000000 -0.918816\n",
       "conf_1   -0.014026 -0.032309 -0.918816  1.000000"
      ]
     },
     "execution_count": 502,
     "metadata": {},
     "output_type": "execute_result"
    }
   ],
   "source": [
    "print(stats.pearsonr(ansgr.conf_0, ansgr.score))\n",
    "ansgr.corr(method='pearson')\n",
    "#ansgr.corr(method='spearman')"
   ]
  },
  {
   "cell_type": "code",
   "execution_count": 503,
   "metadata": {},
   "outputs": [
    {
     "name": "stdout",
     "output_type": "stream",
     "text": [
      "(-0.010105255560229284, 0.9421861684707512)\n"
     ]
    },
    {
     "data": {
      "text/html": [
       "<div>\n",
       "<style>\n",
       "    .dataframe thead tr:only-child th {\n",
       "        text-align: right;\n",
       "    }\n",
       "\n",
       "    .dataframe thead th {\n",
       "        text-align: left;\n",
       "    }\n",
       "\n",
       "    .dataframe tbody tr th {\n",
       "        vertical-align: top;\n",
       "    }\n",
       "</style>\n",
       "<table border=\"1\" class=\"dataframe\">\n",
       "  <thead>\n",
       "    <tr style=\"text-align: right;\">\n",
       "      <th></th>\n",
       "      <th>docscore</th>\n",
       "      <th>score</th>\n",
       "      <th>conf_0</th>\n",
       "      <th>conf_1</th>\n",
       "    </tr>\n",
       "  </thead>\n",
       "  <tbody>\n",
       "    <tr>\n",
       "      <th>docscore</th>\n",
       "      <td>1.000000</td>\n",
       "      <td>0.672513</td>\n",
       "      <td>-0.220784</td>\n",
       "      <td>0.227244</td>\n",
       "    </tr>\n",
       "    <tr>\n",
       "      <th>score</th>\n",
       "      <td>0.672513</td>\n",
       "      <td>1.000000</td>\n",
       "      <td>-0.010105</td>\n",
       "      <td>0.011568</td>\n",
       "    </tr>\n",
       "    <tr>\n",
       "      <th>conf_0</th>\n",
       "      <td>-0.220784</td>\n",
       "      <td>-0.010105</td>\n",
       "      <td>1.000000</td>\n",
       "      <td>-0.926889</td>\n",
       "    </tr>\n",
       "    <tr>\n",
       "      <th>conf_1</th>\n",
       "      <td>0.227244</td>\n",
       "      <td>0.011568</td>\n",
       "      <td>-0.926889</td>\n",
       "      <td>1.000000</td>\n",
       "    </tr>\n",
       "  </tbody>\n",
       "</table>\n",
       "</div>"
      ],
      "text/plain": [
       "          docscore     score    conf_0    conf_1\n",
       "docscore  1.000000  0.672513 -0.220784  0.227244\n",
       "score     0.672513  1.000000 -0.010105  0.011568\n",
       "conf_0   -0.220784 -0.010105  1.000000 -0.926889\n",
       "conf_1    0.227244  0.011568 -0.926889  1.000000"
      ]
     },
     "execution_count": 503,
     "metadata": {},
     "output_type": "execute_result"
    }
   ],
   "source": [
    "print(stats.pearsonr(ansgr_cut.conf_0, ansgr_cut.score))\n",
    "ansgr_cut.corr(method='spearman')\n",
    "ansgr_cut.corr(method='pearson') #for sentences above cut"
   ]
  },
  {
   "cell_type": "code",
   "execution_count": 504,
   "metadata": {},
   "outputs": [
    {
     "name": "stdout",
     "output_type": "stream",
     "text": [
      "(0.06245405493426591, 0.5433726281636391)\n"
     ]
    },
    {
     "data": {
      "text/html": [
       "<div>\n",
       "<style>\n",
       "    .dataframe thead tr:only-child th {\n",
       "        text-align: right;\n",
       "    }\n",
       "\n",
       "    .dataframe thead th {\n",
       "        text-align: left;\n",
       "    }\n",
       "\n",
       "    .dataframe tbody tr th {\n",
       "        vertical-align: top;\n",
       "    }\n",
       "</style>\n",
       "<table border=\"1\" class=\"dataframe\">\n",
       "  <thead>\n",
       "    <tr style=\"text-align: right;\">\n",
       "      <th></th>\n",
       "      <th>docscore</th>\n",
       "      <th>score</th>\n",
       "      <th>conf_0</th>\n",
       "      <th>conf_1</th>\n",
       "    </tr>\n",
       "  </thead>\n",
       "  <tbody>\n",
       "    <tr>\n",
       "      <th>docscore</th>\n",
       "      <td>1.000000</td>\n",
       "      <td>0.964522</td>\n",
       "      <td>0.048550</td>\n",
       "      <td>-0.028857</td>\n",
       "    </tr>\n",
       "    <tr>\n",
       "      <th>score</th>\n",
       "      <td>0.964522</td>\n",
       "      <td>1.000000</td>\n",
       "      <td>0.062454</td>\n",
       "      <td>-0.037040</td>\n",
       "    </tr>\n",
       "    <tr>\n",
       "      <th>conf_0</th>\n",
       "      <td>0.048550</td>\n",
       "      <td>0.062454</td>\n",
       "      <td>1.000000</td>\n",
       "      <td>-0.923909</td>\n",
       "    </tr>\n",
       "    <tr>\n",
       "      <th>conf_1</th>\n",
       "      <td>-0.028857</td>\n",
       "      <td>-0.037040</td>\n",
       "      <td>-0.923909</td>\n",
       "      <td>1.000000</td>\n",
       "    </tr>\n",
       "  </tbody>\n",
       "</table>\n",
       "</div>"
      ],
      "text/plain": [
       "          docscore     score    conf_0    conf_1\n",
       "docscore  1.000000  0.964522  0.048550 -0.028857\n",
       "score     0.964522  1.000000  0.062454 -0.037040\n",
       "conf_0    0.048550  0.062454  1.000000 -0.923909\n",
       "conf_1   -0.028857 -0.037040 -0.923909  1.000000"
      ]
     },
     "execution_count": 504,
     "metadata": {},
     "output_type": "execute_result"
    }
   ],
   "source": [
    "print(stats.pearsonr(authorgr.conf_0, authorgr.score))\n",
    "authorgr.corr(method='pearson')\n",
    "#authorgr.corr(method='spearman')"
   ]
  },
  {
   "cell_type": "code",
   "execution_count": 505,
   "metadata": {},
   "outputs": [
    {
     "name": "stdout",
     "output_type": "stream",
     "text": [
      "(0.046981815972064404, 0.8159934034104833)\n"
     ]
    },
    {
     "data": {
      "text/html": [
       "<div>\n",
       "<style>\n",
       "    .dataframe thead tr:only-child th {\n",
       "        text-align: right;\n",
       "    }\n",
       "\n",
       "    .dataframe thead th {\n",
       "        text-align: left;\n",
       "    }\n",
       "\n",
       "    .dataframe tbody tr th {\n",
       "        vertical-align: top;\n",
       "    }\n",
       "</style>\n",
       "<table border=\"1\" class=\"dataframe\">\n",
       "  <thead>\n",
       "    <tr style=\"text-align: right;\">\n",
       "      <th></th>\n",
       "      <th>docscore</th>\n",
       "      <th>score</th>\n",
       "      <th>conf_0</th>\n",
       "      <th>conf_1</th>\n",
       "    </tr>\n",
       "  </thead>\n",
       "  <tbody>\n",
       "    <tr>\n",
       "      <th>docscore</th>\n",
       "      <td>1.000000</td>\n",
       "      <td>0.833136</td>\n",
       "      <td>-0.006067</td>\n",
       "      <td>-0.040364</td>\n",
       "    </tr>\n",
       "    <tr>\n",
       "      <th>score</th>\n",
       "      <td>0.833136</td>\n",
       "      <td>1.000000</td>\n",
       "      <td>0.046982</td>\n",
       "      <td>-0.047632</td>\n",
       "    </tr>\n",
       "    <tr>\n",
       "      <th>conf_0</th>\n",
       "      <td>-0.006067</td>\n",
       "      <td>0.046982</td>\n",
       "      <td>1.000000</td>\n",
       "      <td>-0.901854</td>\n",
       "    </tr>\n",
       "    <tr>\n",
       "      <th>conf_1</th>\n",
       "      <td>-0.040364</td>\n",
       "      <td>-0.047632</td>\n",
       "      <td>-0.901854</td>\n",
       "      <td>1.000000</td>\n",
       "    </tr>\n",
       "  </tbody>\n",
       "</table>\n",
       "</div>"
      ],
      "text/plain": [
       "          docscore     score    conf_0    conf_1\n",
       "docscore  1.000000  0.833136 -0.006067 -0.040364\n",
       "score     0.833136  1.000000  0.046982 -0.047632\n",
       "conf_0   -0.006067  0.046982  1.000000 -0.901854\n",
       "conf_1   -0.040364 -0.047632 -0.901854  1.000000"
      ]
     },
     "execution_count": 505,
     "metadata": {},
     "output_type": "execute_result"
    }
   ],
   "source": [
    "print(stats.pearsonr(authorgr_cut.conf_0, authorgr_cut.score))\n",
    "authorgr_cut.corr(method='pearson') #for sentences above cut\n",
    "#authorgr_cut.corr(method='spearman')"
   ]
  },
  {
   "cell_type": "markdown",
   "metadata": {},
   "source": [
    "## Correlating proficiency score with confidence within each language "
   ]
  },
  {
   "cell_type": "code",
   "execution_count": 506,
   "metadata": {
    "collapsed": true,
    "scrolled": false
   },
   "outputs": [],
   "source": [
    "#all on sentence level\n",
    "def correlate_prof_pred(dataframe):\n",
    "    \"\"\"Correlate profiency score with predictions for each language\"\"\"\n",
    "    \n",
    "    print(\"avg confidence of class 0 / fake\",np.round(dataframe.conf_0.mean()*100, 2))\n",
    "    #lang = pd.crosstab(fce['first_lang'],fce.conf_0).apply(lambda r: r/r.sum(), axis=1)\n",
    "    corr = dataframe.groupby('first_lang').apply(lambda x: stats.pearsonr(x.conf_0, x.score))\n",
    "    grouped = dataframe.groupby('first_lang').mean()\n",
    "    grouped['r'] = corr.apply(lambda x: np.round(x[0],3))\n",
    "    grouped['p'] = corr.apply(lambda x: np.round(x[1],3))\n",
    "            \n",
    "    #make latex table\n",
    "    #latexdf=dataframe.groupby('first_lang').mean().loc[:,['conf_0' ]].sort_values(by='conf_0', ascending=False)\n",
    "    latexdf = grouped.loc[:,['conf_0', 'r', 'p']].sort_values(by='conf_0', ascending=False)\n",
    "    latexdf['n'] = dataframe.groupby('first_lang').score.count()  #adding support for each first_lang\n",
    "    latexdf.conf_0 = np.round(latexdf.conf_0*100,2)\n",
    "    latexdf.dropna(inplace=True)\n",
    "    print(latexdf[['conf_0', 'r', 'n', 'p']].to_latex())"
   ]
  },
  {
   "cell_type": "code",
   "execution_count": 507,
   "metadata": {},
   "outputs": [
    {
     "name": "stdout",
     "output_type": "stream",
     "text": [
      "avg confidence of class 0 / fake 65.63\n",
      "\\begin{tabular}{lrrrr}\n",
      "\\toprule\n",
      "{} &  conf\\_0 &      r &    n &      p \\\\\n",
      "first\\_lang &         &        &      &        \\\\\n",
      "\\midrule\n",
      "Turkish    &   73.15 & -0.149 &  108 &  0.124 \\\\\n",
      "German     &   70.08 &  0.087 &  264 &  0.160 \\\\\n",
      "Japanese   &   69.10 & -0.083 &  178 &  0.270 \\\\\n",
      "Thai       &   68.93 &  0.001 &  206 &  0.987 \\\\\n",
      "Russian    &   65.49 &  0.003 &  142 &  0.969 \\\\\n",
      "Italian    &   65.25 &  0.003 &  118 &  0.971 \\\\\n",
      "Polish     &   65.14 & -0.076 &  109 &  0.430 \\\\\n",
      "French     &   64.98 & -0.014 &  277 &  0.820 \\\\\n",
      "Catalan    &   64.94 &  0.034 &  174 &  0.653 \\\\\n",
      "Chinese    &   64.90 &  0.059 &  302 &  0.311 \\\\\n",
      "Spanish    &   63.73 & -0.025 &  204 &  0.720 \\\\\n",
      "Korean     &   60.26 &  0.027 &  234 &  0.680 \\\\\n",
      "Greek      &   59.15 &  0.052 &  164 &  0.507 \\\\\n",
      "\\bottomrule\n",
      "\\end{tabular}\n",
      "\n"
     ]
    },
    {
     "name": "stderr",
     "output_type": "stream",
     "text": [
      "/Users/Terne/.local/lib/python3.6/site-packages/scipy/stats/stats.py:3010: RuntimeWarning: invalid value encountered in double_scalars\n",
      "  r = r_num / r_den\n"
     ]
    }
   ],
   "source": [
    "#only above cut\n",
    "#Correlating proficiency score with confidence for each language above cut\n",
    "correlate_prof_pred(fce)"
   ]
  },
  {
   "cell_type": "code",
   "execution_count": 508,
   "metadata": {},
   "outputs": [
    {
     "ename": "NameError",
     "evalue": "name 'fce_cut' is not defined",
     "output_type": "error",
     "traceback": [
      "\u001b[0;31m---------------------------------------------------------------------------\u001b[0m",
      "\u001b[0;31mNameError\u001b[0m                                 Traceback (most recent call last)",
      "\u001b[0;32m<ipython-input-508-64d135bf4ff4>\u001b[0m in \u001b[0;36m<module>\u001b[0;34m()\u001b[0m\n\u001b[0;32m----> 1\u001b[0;31m \u001b[0mcorrelate_prof_pred\u001b[0m\u001b[0;34m(\u001b[0m\u001b[0mfce_cut\u001b[0m\u001b[0;34m)\u001b[0m\u001b[0;34m\u001b[0m\u001b[0;34m\u001b[0m\u001b[0m\n\u001b[0m",
      "\u001b[0;31mNameError\u001b[0m: name 'fce_cut' is not defined"
     ]
    }
   ],
   "source": [
    "correlate_prof_pred(fce_cut)"
   ]
  },
  {
   "cell_type": "code",
   "execution_count": 509,
   "metadata": {},
   "outputs": [
    {
     "name": "stdout",
     "output_type": "stream",
     "text": [
      "avg confidence of class 0 / fake 65.63\n",
      "\\begin{tabular}{lrrrr}\n",
      "\\toprule\n",
      "{} &  conf\\_0 &      r &    n &      p \\\\\n",
      "first\\_lang &         &        &      &        \\\\\n",
      "\\midrule\n",
      "Turkish    &   73.15 & -0.149 &  108 &  0.124 \\\\\n",
      "German     &   70.08 &  0.087 &  264 &  0.160 \\\\\n",
      "Japanese   &   69.10 & -0.083 &  178 &  0.270 \\\\\n",
      "Thai       &   68.93 &  0.001 &  206 &  0.987 \\\\\n",
      "Russian    &   65.49 &  0.003 &  142 &  0.969 \\\\\n",
      "Italian    &   65.25 &  0.003 &  118 &  0.971 \\\\\n",
      "Polish     &   65.14 & -0.076 &  109 &  0.430 \\\\\n",
      "French     &   64.98 & -0.014 &  277 &  0.820 \\\\\n",
      "Catalan    &   64.94 &  0.034 &  174 &  0.653 \\\\\n",
      "Chinese    &   64.90 &  0.059 &  302 &  0.311 \\\\\n",
      "Spanish    &   63.73 & -0.025 &  204 &  0.720 \\\\\n",
      "Korean     &   60.26 &  0.027 &  234 &  0.680 \\\\\n",
      "Greek      &   59.15 &  0.052 &  164 &  0.507 \\\\\n",
      "\\bottomrule\n",
      "\\end{tabular}\n",
      "\n"
     ]
    },
    {
     "name": "stderr",
     "output_type": "stream",
     "text": [
      "/Users/Terne/.local/lib/python3.6/site-packages/scipy/stats/stats.py:3010: RuntimeWarning: invalid value encountered in double_scalars\n",
      "  r = r_num / r_den\n"
     ]
    }
   ],
   "source": [
    "correlate_prof_pred(df)"
   ]
  },
  {
   "cell_type": "code",
   "execution_count": null,
   "metadata": {
    "collapsed": true
   },
   "outputs": [],
   "source": []
  },
  {
   "cell_type": "code",
   "execution_count": 510,
   "metadata": {},
   "outputs": [
    {
     "name": "stdout",
     "output_type": "stream",
     "text": [
      "avg confidence of class 0 / fake 65.14\n",
      "\\begin{tabular}{lrrrr}\n",
      "\\toprule\n",
      "{} &  conf\\_0 &      r &   n &      p \\\\\n",
      "first\\_lang &         &        &     &        \\\\\n",
      "\\midrule\n",
      "Turkish    &   73.58 & -0.518 &   4 &  0.482 \\\\\n",
      "German     &   70.29 &  0.418 &   9 &  0.262 \\\\\n",
      "Thai       &   69.33 & -0.058 &   8 &  0.892 \\\\\n",
      "Japanese   &   67.80 & -0.336 &   7 &  0.461 \\\\\n",
      "Italian    &   66.64 &  0.023 &   5 &  0.971 \\\\\n",
      "Russian    &   65.70 & -0.028 &   6 &  0.958 \\\\\n",
      "Catalan    &   65.45 & -0.007 &   8 &  0.986 \\\\\n",
      "French     &   64.54 & -0.124 &  12 &  0.701 \\\\\n",
      "Polish     &   64.03 & -0.301 &   4 &  0.699 \\\\\n",
      "Chinese    &   63.73 &  0.211 &   9 &  0.586 \\\\\n",
      "Spanish    &   61.39 &  0.090 &  10 &  0.805 \\\\\n",
      "Korean     &   59.41 &  0.148 &   8 &  0.726 \\\\\n",
      "Greek      &   58.46 &  0.120 &   6 &  0.820 \\\\\n",
      "\\bottomrule\n",
      "\\end{tabular}\n",
      "\n"
     ]
    },
    {
     "name": "stderr",
     "output_type": "stream",
     "text": [
      "/Users/Terne/.local/lib/python3.6/site-packages/scipy/stats/stats.py:3010: RuntimeWarning: invalid value encountered in double_scalars\n",
      "  r = r_num / r_den\n"
     ]
    }
   ],
   "source": [
    "correlate_prof_pred(authorgr)"
   ]
  },
  {
   "cell_type": "code",
   "execution_count": 511,
   "metadata": {},
   "outputs": [
    {
     "name": "stdout",
     "output_type": "stream",
     "text": [
      "avg confidence of class 0 / fake 64.89\n",
      "\\begin{tabular}{lrrrr}\n",
      "\\toprule\n",
      "{} &  conf\\_0 &      r &   n &      p \\\\\n",
      "first\\_lang &         &        &     &        \\\\\n",
      "\\midrule\n",
      "Turkish    &   74.40 & -0.350 &   8 &  0.396 \\\\\n",
      "German     &   69.55 &  0.291 &  18 &  0.241 \\\\\n",
      "Thai       &   69.24 & -0.040 &  16 &  0.882 \\\\\n",
      "Japanese   &   68.62 & -0.177 &  14 &  0.546 \\\\\n",
      "Italian    &   66.07 &  0.052 &  10 &  0.888 \\\\\n",
      "Russian    &   65.15 & -0.041 &  12 &  0.900 \\\\\n",
      "Catalan    &   64.92 &  0.020 &  16 &  0.941 \\\\\n",
      "French     &   64.47 & -0.032 &  24 &  0.883 \\\\\n",
      "Chinese    &   63.91 &  0.184 &  18 &  0.465 \\\\\n",
      "Polish     &   62.68 & -0.297 &   8 &  0.475 \\\\\n",
      "Spanish    &   60.54 &  0.096 &  20 &  0.687 \\\\\n",
      "Korean     &   59.09 &  0.070 &  16 &  0.796 \\\\\n",
      "Greek      &   58.48 &  0.082 &  12 &  0.799 \\\\\n",
      "\\bottomrule\n",
      "\\end{tabular}\n",
      "\n"
     ]
    },
    {
     "name": "stderr",
     "output_type": "stream",
     "text": [
      "/Users/Terne/.local/lib/python3.6/site-packages/scipy/stats/stats.py:3010: RuntimeWarning: invalid value encountered in double_scalars\n",
      "  r = r_num / r_den\n"
     ]
    }
   ],
   "source": [
    "correlate_prof_pred(ansgr)"
   ]
  },
  {
   "cell_type": "code",
   "execution_count": 512,
   "metadata": {},
   "outputs": [
    {
     "name": "stdout",
     "output_type": "stream",
     "text": [
      "avg confidence of class 0 / fake 65.74\n",
      "\\begin{tabular}{lrrrr}\n",
      "\\toprule\n",
      "{} &  conf\\_0 &      r &   n &      p \\\\\n",
      "first\\_lang &         &        &     &        \\\\\n",
      "\\midrule\n",
      "Thai       &   71.73 &  0.382 &   4 &  0.618 \\\\\n",
      "German     &   70.81 &  0.228 &   8 &  0.588 \\\\\n",
      "Catalan    &   68.33 &  0.642 &   4 &  0.358 \\\\\n",
      "Spanish    &   67.19 & -0.562 &   4 &  0.438 \\\\\n",
      "French     &   66.48 & -0.204 &  10 &  0.573 \\\\\n",
      "Japanese   &   66.39 & -0.214 &   4 &  0.786 \\\\\n",
      "Chinese    &   62.74 &  0.745 &   6 &  0.089 \\\\\n",
      "Korean     &   56.93 & -0.033 &   6 &  0.951 \\\\\n",
      "\\bottomrule\n",
      "\\end{tabular}\n",
      "\n"
     ]
    },
    {
     "name": "stderr",
     "output_type": "stream",
     "text": [
      "/Users/Terne/.local/lib/python3.6/site-packages/scipy/stats/stats.py:3010: RuntimeWarning: invalid value encountered in double_scalars\n",
      "  r = r_num / r_den\n"
     ]
    }
   ],
   "source": [
    "correlate_prof_pred(ansgr_cut) #to few"
   ]
  },
  {
   "cell_type": "code",
   "execution_count": 513,
   "metadata": {},
   "outputs": [
    {
     "name": "stdout",
     "output_type": "stream",
     "text": [
      "avg confidence of class 0 / fake 65.75\n",
      "\\begin{tabular}{lrrrr}\n",
      "\\toprule\n",
      "{} &  conf\\_0 &      r &  n &      p \\\\\n",
      "first\\_lang &         &        &    &        \\\\\n",
      "\\midrule\n",
      "Thai       &   72.04 &  1.000 &  2 &  0.000 \\\\\n",
      "German     &   71.41 &  0.885 &  4 &  0.115 \\\\\n",
      "Catalan    &   67.88 &  1.000 &  2 &  0.000 \\\\\n",
      "Spanish    &   67.85 & -1.000 &  2 &  0.000 \\\\\n",
      "French     &   65.81 & -0.449 &  5 &  0.449 \\\\\n",
      "Japanese   &   64.43 & -1.000 &  2 &  0.000 \\\\\n",
      "Chinese    &   62.08 &  0.944 &  3 &  0.213 \\\\\n",
      "Korean     &   57.63 & -0.174 &  3 &  0.888 \\\\\n",
      "\\bottomrule\n",
      "\\end{tabular}\n",
      "\n"
     ]
    },
    {
     "name": "stderr",
     "output_type": "stream",
     "text": [
      "/Users/Terne/.local/lib/python3.6/site-packages/scipy/stats/stats.py:3010: RuntimeWarning: invalid value encountered in double_scalars\n",
      "  r = r_num / r_den\n"
     ]
    }
   ],
   "source": [
    "correlate_prof_pred(authorgr_cut) #to few"
   ]
  },
  {
   "cell_type": "markdown",
   "metadata": {},
   "source": [
    "## First languages"
   ]
  },
  {
   "cell_type": "markdown",
   "metadata": {},
   "source": [
    "### Significance test of first language groups \n",
    "Check whether conf_0 of sentences/authors/answers one lang and rest of set are from the same distribution"
   ]
  },
  {
   "cell_type": "code",
   "execution_count": 514,
   "metadata": {
    "collapsed": true
   },
   "outputs": [],
   "source": [
    "def firstlang_latex(dataframe):\n",
    "    \"\"\"Runs independent t-test of first languages with mean higher than grand mean.\n",
    "    Prints language if significant\n",
    "    Prints a latex table from a dataframe\"\"\"\n",
    "    print(\"avg conf_0:\",np.round(dataframe.conf_0.mean()*100,2))\n",
    "    only_above =dataframe.groupby('first_lang').apply(lambda x: x.conf_0.mean() > dataframe.conf_0.mean())\n",
    "    for lang in only_above.index:\n",
    "        if only_above.loc[lang] == True: #if group mean is higher than grand mean\n",
    "            one_lang=dataframe.loc[dataframe.first_lang==gr, 'conf_0']\n",
    "            rest = dataframe.loc[dataframe.first_lang!=gr, 'conf_0']\n",
    "            ttestres = stats.ttest_ind(one_lang, rest)\n",
    "            if ttestres[1] <= alpha: #check pval:\n",
    "                print(\"sign.\", gr, ttestres)\n",
    "\n",
    "    #make latex table\n",
    "    latexdf=dataframe.groupby('first_lang').mean().loc[:,['conf_0' ]].sort_values(by='conf_0', ascending=False)\n",
    "    latexdf['n'] = dataframe.groupby('first_lang').score.count()  #adding support for each first_lang\n",
    "    latexdf.conf_0 = np.round(latexdf.conf_0*100, 2)\n",
    "    print(latexdf.to_latex())"
   ]
  },
  {
   "cell_type": "code",
   "execution_count": 515,
   "metadata": {},
   "outputs": [
    {
     "name": "stdout",
     "output_type": "stream",
     "text": [
      "avg conf_0: 65.63\n",
      "\\begin{tabular}{lrr}\n",
      "\\toprule\n",
      "{} &  conf\\_0 &    n \\\\\n",
      "first\\_lang &         &      \\\\\n",
      "\\midrule\n",
      "Turkish    &   73.15 &  108 \\\\\n",
      "German     &   70.08 &  264 \\\\\n",
      "Japanese   &   69.10 &  178 \\\\\n",
      "Thai       &   68.93 &  206 \\\\\n",
      "Portuguese &   67.74 &   31 \\\\\n",
      "Russian    &   65.49 &  142 \\\\\n",
      "Italian    &   65.25 &  118 \\\\\n",
      "Polish     &   65.14 &  109 \\\\\n",
      "French     &   64.98 &  277 \\\\\n",
      "Catalan    &   64.94 &  174 \\\\\n",
      "Chinese    &   64.90 &  302 \\\\\n",
      "Spanish    &   63.73 &  204 \\\\\n",
      "Korean     &   60.26 &  234 \\\\\n",
      "Greek      &   59.15 &  164 \\\\\n",
      "\\bottomrule\n",
      "\\end{tabular}\n",
      "\n"
     ]
    }
   ],
   "source": [
    " #sentence level\n",
    "firstlang_latex(fce)"
   ]
  },
  {
   "cell_type": "code",
   "execution_count": 516,
   "metadata": {},
   "outputs": [
    {
     "ename": "NameError",
     "evalue": "name 'fce_cut' is not defined",
     "output_type": "error",
     "traceback": [
      "\u001b[0;31m---------------------------------------------------------------------------\u001b[0m",
      "\u001b[0;31mNameError\u001b[0m                                 Traceback (most recent call last)",
      "\u001b[0;32m<ipython-input-516-42e2cb09e45b>\u001b[0m in \u001b[0;36m<module>\u001b[0;34m()\u001b[0m\n\u001b[1;32m      1\u001b[0m \u001b[0;31m#sentence level cut off\u001b[0m\u001b[0;34m\u001b[0m\u001b[0;34m\u001b[0m\u001b[0;34m\u001b[0m\u001b[0m\n\u001b[0;32m----> 2\u001b[0;31m \u001b[0mfirstlang_latex\u001b[0m\u001b[0;34m(\u001b[0m\u001b[0mfce_cut\u001b[0m\u001b[0;34m)\u001b[0m\u001b[0;34m\u001b[0m\u001b[0;34m\u001b[0m\u001b[0m\n\u001b[0m",
      "\u001b[0;31mNameError\u001b[0m: name 'fce_cut' is not defined"
     ]
    }
   ],
   "source": [
    "#sentence level cut off \n",
    "firstlang_latex(fce_cut)"
   ]
  },
  {
   "cell_type": "code",
   "execution_count": 517,
   "metadata": {},
   "outputs": [
    {
     "name": "stdout",
     "output_type": "stream",
     "text": [
      "avg conf_0: 64.89\n",
      "\\begin{tabular}{lrr}\n",
      "\\toprule\n",
      "{} &  conf\\_0 &   n \\\\\n",
      "first\\_lang &         &     \\\\\n",
      "\\midrule\n",
      "Turkish    &   74.40 &   8 \\\\\n",
      "German     &   69.55 &  18 \\\\\n",
      "Thai       &   69.24 &  16 \\\\\n",
      "Japanese   &   68.62 &  14 \\\\\n",
      "Portuguese &   67.50 &   2 \\\\\n",
      "Italian    &   66.07 &  10 \\\\\n",
      "Russian    &   65.15 &  12 \\\\\n",
      "Catalan    &   64.92 &  16 \\\\\n",
      "French     &   64.47 &  24 \\\\\n",
      "Chinese    &   63.91 &  18 \\\\\n",
      "Polish     &   62.68 &   8 \\\\\n",
      "Spanish    &   60.54 &  20 \\\\\n",
      "Korean     &   59.09 &  16 \\\\\n",
      "Greek      &   58.48 &  12 \\\\\n",
      "\\bottomrule\n",
      "\\end{tabular}\n",
      "\n"
     ]
    }
   ],
   "source": [
    "firstlang_latex(ansgr)"
   ]
  },
  {
   "cell_type": "code",
   "execution_count": 518,
   "metadata": {},
   "outputs": [
    {
     "name": "stdout",
     "output_type": "stream",
     "text": [
      "avg conf_0: 65.74\n",
      "\\begin{tabular}{lrr}\n",
      "\\toprule\n",
      "{} &  conf\\_0 &   n \\\\\n",
      "first\\_lang &         &     \\\\\n",
      "\\midrule\n",
      "Thai       &   71.73 &   4 \\\\\n",
      "German     &   70.81 &   8 \\\\\n",
      "Catalan    &   68.33 &   4 \\\\\n",
      "Russian    &   68.27 &   2 \\\\\n",
      "Italian    &   68.18 &   2 \\\\\n",
      "Spanish    &   67.19 &   4 \\\\\n",
      "French     &   66.48 &  10 \\\\\n",
      "Japanese   &   66.39 &   4 \\\\\n",
      "Polish     &   65.28 &   2 \\\\\n",
      "Chinese    &   62.74 &   6 \\\\\n",
      "Korean     &   56.93 &   6 \\\\\n",
      "Greek      &   51.30 &   2 \\\\\n",
      "\\bottomrule\n",
      "\\end{tabular}\n",
      "\n"
     ]
    }
   ],
   "source": [
    "#grouped by answer cut off\n",
    "firstlang_latex(ansgr_cut)"
   ]
  },
  {
   "cell_type": "code",
   "execution_count": 519,
   "metadata": {},
   "outputs": [
    {
     "name": "stdout",
     "output_type": "stream",
     "text": [
      "avg conf_0: 65.14\n",
      "\\begin{tabular}{lrr}\n",
      "\\toprule\n",
      "{} &  conf\\_0 &   n \\\\\n",
      "first\\_lang &         &     \\\\\n",
      "\\midrule\n",
      "Turkish    &   73.58 &   4 \\\\\n",
      "German     &   70.29 &   9 \\\\\n",
      "Thai       &   69.33 &   8 \\\\\n",
      "Japanese   &   67.80 &   7 \\\\\n",
      "Portuguese &   67.74 &   1 \\\\\n",
      "Italian    &   66.64 &   5 \\\\\n",
      "Russian    &   65.70 &   6 \\\\\n",
      "Catalan    &   65.45 &   8 \\\\\n",
      "French     &   64.54 &  12 \\\\\n",
      "Polish     &   64.03 &   4 \\\\\n",
      "Chinese    &   63.73 &   9 \\\\\n",
      "Spanish    &   61.39 &  10 \\\\\n",
      "Korean     &   59.41 &   8 \\\\\n",
      "Greek      &   58.46 &   6 \\\\\n",
      "\\bottomrule\n",
      "\\end{tabular}\n",
      "\n"
     ]
    }
   ],
   "source": [
    "firstlang_latex(authorgr)"
   ]
  },
  {
   "cell_type": "code",
   "execution_count": 520,
   "metadata": {},
   "outputs": [
    {
     "name": "stdout",
     "output_type": "stream",
     "text": [
      "avg conf_0: 65.75\n",
      "\\begin{tabular}{lrr}\n",
      "\\toprule\n",
      "{} &  conf\\_0 &  n \\\\\n",
      "first\\_lang &         &    \\\\\n",
      "\\midrule\n",
      "Thai       &   72.04 &  2 \\\\\n",
      "German     &   71.41 &  4 \\\\\n",
      "Russian    &   68.97 &  1 \\\\\n",
      "Italian    &   68.18 &  1 \\\\\n",
      "Polish     &   68.00 &  1 \\\\\n",
      "Catalan    &   67.88 &  2 \\\\\n",
      "Spanish    &   67.85 &  2 \\\\\n",
      "French     &   65.81 &  5 \\\\\n",
      "Japanese   &   64.43 &  2 \\\\\n",
      "Chinese    &   62.08 &  3 \\\\\n",
      "Korean     &   57.63 &  3 \\\\\n",
      "Greek      &   52.00 &  1 \\\\\n",
      "\\bottomrule\n",
      "\\end{tabular}\n",
      "\n"
     ]
    }
   ],
   "source": [
    "firstlang_latex(authorgr_cut)"
   ]
  },
  {
   "cell_type": "markdown",
   "metadata": {},
   "source": [
    "# Old drafts"
   ]
  },
  {
   "cell_type": "code",
   "execution_count": 34,
   "metadata": {},
   "outputs": [
    {
     "ename": "AttributeError",
     "evalue": "'DataFrame' object has no attribute 'y_pred'",
     "output_type": "error",
     "traceback": [
      "\u001b[0;31m---------------------------------------------------------------------------\u001b[0m",
      "\u001b[0;31mAttributeError\u001b[0m                            Traceback (most recent call last)",
      "\u001b[0;32m<ipython-input-34-62d29220748f>\u001b[0m in \u001b[0;36m<module>\u001b[0;34m()\u001b[0m\n\u001b[1;32m      1\u001b[0m \u001b[0mo_22_mean\u001b[0m \u001b[0;34m=\u001b[0m \u001b[0mfce_o_22\u001b[0m \u001b[0;34m=\u001b[0m \u001b[0mfce\u001b[0m\u001b[0;34m.\u001b[0m\u001b[0mloc\u001b[0m\u001b[0;34m[\u001b[0m\u001b[0mfce\u001b[0m\u001b[0;34m.\u001b[0m\u001b[0mscore\u001b[0m\u001b[0;34m>\u001b[0m\u001b[0;36m25\u001b[0m\u001b[0;34m]\u001b[0m\u001b[0;34m\u001b[0m\u001b[0;34m\u001b[0m\u001b[0m\n\u001b[0;32m----> 2\u001b[0;31m \u001b[0mprint\u001b[0m\u001b[0;34m(\u001b[0m\u001b[0;36m1\u001b[0m\u001b[0;34m-\u001b[0m\u001b[0mfce_o_22\u001b[0m\u001b[0;34m.\u001b[0m\u001b[0my_pred\u001b[0m\u001b[0;34m.\u001b[0m\u001b[0mmean\u001b[0m\u001b[0;34m(\u001b[0m\u001b[0;34m)\u001b[0m\u001b[0;34m)\u001b[0m\u001b[0;34m\u001b[0m\u001b[0;34m\u001b[0m\u001b[0m\n\u001b[0m\u001b[1;32m      3\u001b[0m \u001b[0mlang_o_22\u001b[0m \u001b[0;34m=\u001b[0m \u001b[0mpd\u001b[0m\u001b[0;34m.\u001b[0m\u001b[0mcrosstab\u001b[0m\u001b[0;34m(\u001b[0m\u001b[0mfce_o_22\u001b[0m\u001b[0;34m[\u001b[0m\u001b[0;34m'first_lang'\u001b[0m\u001b[0;34m]\u001b[0m\u001b[0;34m,\u001b[0m\u001b[0mfce_o_22\u001b[0m\u001b[0;34m[\u001b[0m\u001b[0;34m'y_pred'\u001b[0m\u001b[0;34m]\u001b[0m\u001b[0;34m)\u001b[0m\u001b[0;34m.\u001b[0m\u001b[0mapply\u001b[0m\u001b[0;34m(\u001b[0m\u001b[0;32mlambda\u001b[0m \u001b[0mr\u001b[0m\u001b[0;34m:\u001b[0m \u001b[0mr\u001b[0m\u001b[0;34m/\u001b[0m\u001b[0mr\u001b[0m\u001b[0;34m.\u001b[0m\u001b[0msum\u001b[0m\u001b[0;34m(\u001b[0m\u001b[0;34m)\u001b[0m\u001b[0;34m,\u001b[0m \u001b[0maxis\u001b[0m\u001b[0;34m=\u001b[0m\u001b[0;36m1\u001b[0m\u001b[0;34m)\u001b[0m\u001b[0;34m\u001b[0m\u001b[0;34m\u001b[0m\u001b[0m\n\u001b[1;32m      4\u001b[0m \u001b[0mlang_o_22\u001b[0m\u001b[0;34m.\u001b[0m\u001b[0msort_values\u001b[0m\u001b[0;34m(\u001b[0m\u001b[0mby\u001b[0m\u001b[0;34m=\u001b[0m\u001b[0;36m0\u001b[0m\u001b[0;34m,\u001b[0m \u001b[0minplace\u001b[0m\u001b[0;34m=\u001b[0m\u001b[0;32mTrue\u001b[0m\u001b[0;34m,\u001b[0m \u001b[0mascending\u001b[0m\u001b[0;34m=\u001b[0m\u001b[0;32mFalse\u001b[0m\u001b[0;34m)\u001b[0m\u001b[0;34m\u001b[0m\u001b[0;34m\u001b[0m\u001b[0m\n\u001b[1;32m      5\u001b[0m \u001b[0monly_above_22\u001b[0m \u001b[0;34m=\u001b[0m \u001b[0mlang_o_22\u001b[0m\u001b[0;34m[\u001b[0m\u001b[0mlang_o_22\u001b[0m\u001b[0;34m[\u001b[0m\u001b[0;36m0\u001b[0m\u001b[0;34m]\u001b[0m \u001b[0;34m>\u001b[0m \u001b[0;36m1\u001b[0m\u001b[0;34m-\u001b[0m\u001b[0mfce_o_22\u001b[0m\u001b[0;34m.\u001b[0m\u001b[0my_pred\u001b[0m\u001b[0;34m.\u001b[0m\u001b[0mmean\u001b[0m\u001b[0;34m(\u001b[0m\u001b[0;34m)\u001b[0m \u001b[0;34m]\u001b[0m\u001b[0;34m\u001b[0m\u001b[0;34m\u001b[0m\u001b[0m\n",
      "\u001b[0;32m/anaconda/lib/python3.6/site-packages/pandas/core/generic.py\u001b[0m in \u001b[0;36m__getattr__\u001b[0;34m(self, name)\u001b[0m\n\u001b[1;32m   2968\u001b[0m             \u001b[0;32mif\u001b[0m \u001b[0mname\u001b[0m \u001b[0;32min\u001b[0m \u001b[0mself\u001b[0m\u001b[0;34m.\u001b[0m\u001b[0m_info_axis\u001b[0m\u001b[0;34m:\u001b[0m\u001b[0;34m\u001b[0m\u001b[0;34m\u001b[0m\u001b[0m\n\u001b[1;32m   2969\u001b[0m                 \u001b[0;32mreturn\u001b[0m \u001b[0mself\u001b[0m\u001b[0;34m[\u001b[0m\u001b[0mname\u001b[0m\u001b[0;34m]\u001b[0m\u001b[0;34m\u001b[0m\u001b[0;34m\u001b[0m\u001b[0m\n\u001b[0;32m-> 2970\u001b[0;31m             \u001b[0;32mreturn\u001b[0m \u001b[0mobject\u001b[0m\u001b[0;34m.\u001b[0m\u001b[0m__getattribute__\u001b[0m\u001b[0;34m(\u001b[0m\u001b[0mself\u001b[0m\u001b[0;34m,\u001b[0m \u001b[0mname\u001b[0m\u001b[0;34m)\u001b[0m\u001b[0;34m\u001b[0m\u001b[0;34m\u001b[0m\u001b[0m\n\u001b[0m\u001b[1;32m   2971\u001b[0m \u001b[0;34m\u001b[0m\u001b[0m\n\u001b[1;32m   2972\u001b[0m     \u001b[0;32mdef\u001b[0m \u001b[0m__setattr__\u001b[0m\u001b[0;34m(\u001b[0m\u001b[0mself\u001b[0m\u001b[0;34m,\u001b[0m \u001b[0mname\u001b[0m\u001b[0;34m,\u001b[0m \u001b[0mvalue\u001b[0m\u001b[0;34m)\u001b[0m\u001b[0;34m:\u001b[0m\u001b[0;34m\u001b[0m\u001b[0;34m\u001b[0m\u001b[0m\n",
      "\u001b[0;31mAttributeError\u001b[0m: 'DataFrame' object has no attribute 'y_pred'"
     ]
    }
   ],
   "source": [
    "o_22_mean = fce_o_22 = fce.loc[fce.score>25]\n",
    "print(1-fce_o_22.y_pred.mean())\n",
    "lang_o_22 = pd.crosstab(fce_o_22['first_lang'],fce_o_22['y_pred']).apply(lambda r: r/r.sum(), axis=1)\n",
    "lang_o_22.sort_values(by=0, inplace=True, ascending=False)\n",
    "only_above_22 = lang_o_22[lang_o_22[0] > 1-fce_o_22.y_pred.mean() ]\n",
    "latex = pd.DataFrame(lang_o_22[0]-(1-fce_o_22.y_pred.mean()))\n",
    "latex['n'] = fce_o_22.groupby('first_lang').y_pred.count()\n",
    "latex[0] = np.round(latex[0]*100, 2)\n",
    "print(latex.to_latex())"
   ]
  },
  {
   "cell_type": "code",
   "execution_count": 299,
   "metadata": {},
   "outputs": [
    {
     "name": "stdout",
     "output_type": "stream",
     "text": [
      "Japanese Ttest_indResult(statistic=-2.2673238780205525, pvalue=0.02350360555900753)\n",
      "Catalan Ttest_indResult(statistic=-0.8934968342393913, pvalue=0.3717242897017409)\n",
      "German Ttest_indResult(statistic=-0.9763721077824633, pvalue=0.3290164462660622)\n",
      "Korean Ttest_indResult(statistic=-0.748550747598632, pvalue=0.4542343909175969)\n",
      "Thai Ttest_indResult(statistic=-0.6622410262608136, pvalue=0.5079076506301841)\n",
      "Polish Ttest_indResult(statistic=-0.10487411267404996, pvalue=0.9164889700254893)\n",
      "Russian Ttest_indResult(statistic=-0.126484734824959, pvalue=0.899363793344616)\n",
      "Italian Ttest_indResult(statistic=-0.04173408751822397, pvalue=0.9667158512465552)\n"
     ]
    }
   ],
   "source": [
    "for row in only_above_22.iterrows():\n",
    "    lang = row[0]\n",
    "    firstlang=fce_o_22.loc[fce_o_22.first_lang==lang,'y_pred']\n",
    "    rest=fce_o_22.loc[fce_o_22.first_lang!=lang, 'y_pred'] # no use entire dataset\n",
    "    print(lang, stats.ttest_ind(firstlang, fce_o_22.y_pred))"
   ]
  },
  {
   "cell_type": "code",
   "execution_count": 284,
   "metadata": {},
   "outputs": [
    {
     "name": "stdout",
     "output_type": "stream",
     "text": [
      "0.45454545454545453\n"
     ]
    },
    {
     "data": {
      "text/plain": [
       "Counter({'Japanese': 59,\n",
       "         'Greek': 78,\n",
       "         'Russian': 96,\n",
       "         'French': 256,\n",
       "         'Korean': 117,\n",
       "         'Chinese': 250,\n",
       "         'Catalan': 77,\n",
       "         'Spanish': 119,\n",
       "         'German': 194,\n",
       "         'Italian': 73,\n",
       "         'Thai': 141,\n",
       "         'Turkish': 33,\n",
       "         'Polish': 47})"
      ]
     },
     "execution_count": 284,
     "metadata": {},
     "output_type": "execute_result"
    }
   ],
   "source": [
    "print(fce_o_22.y_pred.mean())\n",
    "Counter(fce_o_22.first_lang)"
   ]
  },
  {
   "cell_type": "code",
   "execution_count": 317,
   "metadata": {},
   "outputs": [
    {
     "data": {
      "text/plain": [
       "first_lang\n",
       "Catalan       27.398876\n",
       "Chinese       28.198052\n",
       "French        30.460714\n",
       "German        29.711610\n",
       "Greek         26.115854\n",
       "Italian       25.323077\n",
       "Japanese      26.807018\n",
       "Korean        26.352423\n",
       "Polish        27.100000\n",
       "Portuguese    25.000000\n",
       "Russian       28.903448\n",
       "Spanish       26.187793\n",
       "Thai          28.127358\n",
       "Turkish       24.371681\n",
       "Name: score, dtype: float64"
      ]
     },
     "execution_count": 317,
     "metadata": {},
     "output_type": "execute_result"
    }
   ],
   "source": [
    "fce.groupby('first_lang').score.mean()"
   ]
  },
  {
   "cell_type": "code",
   "execution_count": 318,
   "metadata": {},
   "outputs": [
    {
     "data": {
      "text/plain": [
       "first_lang\n",
       "Catalan       6.188508\n",
       "Chinese       5.773950\n",
       "French        4.205121\n",
       "German        5.588251\n",
       "Greek         6.503797\n",
       "Italian       3.040337\n",
       "Japanese      5.362523\n",
       "Korean        7.966136\n",
       "Polish        5.601360\n",
       "Portuguese    0.000000\n",
       "Russian       5.121203\n",
       "Spanish       7.711327\n",
       "Thai          5.207341\n",
       "Turkish       1.324189\n",
       "Name: score, dtype: float64"
      ]
     },
     "execution_count": 318,
     "metadata": {},
     "output_type": "execute_result"
    }
   ],
   "source": [
    "fce.groupby('first_lang').score.std()"
   ]
  },
  {
   "cell_type": "code",
   "execution_count": null,
   "metadata": {
    "collapsed": true
   },
   "outputs": [],
   "source": [
    " #langvec =langvec_s\n",
    "   # profvec =profvec_s\n",
    "  #  docscorevec=docscorevec_s\n",
    "  #  textvec = textvec_s\n",
    "  #  useridvec = useridvec_s\n",
    "  #  ansvec = ansvec_s"
   ]
  },
  {
   "cell_type": "code",
   "execution_count": 80,
   "metadata": {},
   "outputs": [],
   "source": [
    "path = \"data/proficiency/\"\n",
    "teacher_preds = pd.read_csv(path+'teacher_preds_softmax.txt', sep=' ', names=['conf_0', 'conf_1'], header=None)\n",
    "student_preds = pd.read_csv(path+'student_preds_softmax.txt', sep=' ', names=['conf_0', 'conf_1'], header=None)"
   ]
  },
  {
   "cell_type": "code",
   "execution_count": 411,
   "metadata": {},
   "outputs": [
    {
     "name": "stdout",
     "output_type": "stream",
     "text": [
      "1590\n",
      "921\n",
      "1606\n",
      "943\n"
     ]
    },
    {
     "data": {
      "image/png": "[encoded data removed]",
      "text/plain": [
       "<matplotlib.figure.Figure at 0x115062a90>"
      ]
     },
     "metadata": {},
     "output_type": "display_data"
    },
    {
     "data": {
      "image/png": "[encoded data removed]",
      "text/plain": [
       "<matplotlib.figure.Figure at 0x11454cda0>"
      ]
     },
     "metadata": {},
     "output_type": "display_data"
    },
    {
     "data": {
      "image/png": "[encoded data removed]",
      "text/plain": [
       "<matplotlib.figure.Figure at 0x115c267b8>"
      ]
     },
     "metadata": {},
     "output_type": "display_data"
    },
    {
     "data": {
      "image/png": "[encoded data removed]",
      "text/plain": [
       "<matplotlib.figure.Figure at 0x1168b89b0>"
      ]
     },
     "metadata": {},
     "output_type": "display_data"
    },
    {
     "data": {
      "image/png": "[encoded data removed]",
      "text/plain": [
       "<matplotlib.figure.Figure at 0x115caa588>"
      ]
     },
     "metadata": {},
     "output_type": "display_data"
    }
   ],
   "source": [
    "student_preds_0 = student_preds[student_preds.conf_1 < 0.5]\n",
    "print(len(student_preds_0))\n",
    "student_preds_1 = student_preds[student_preds.conf_1 >=0.5]\n",
    "print(len(student_preds_1))\n",
    "teacher_preds_0 = teacher_preds[teacher_preds.conf_1 < 0.5]\n",
    "print(len(teacher_preds_0))\n",
    "teacher_preds_1 = teacher_preds[teacher_preds.conf_1 >=0.5]\n",
    "print(len(teacher_preds_1))\n",
    "\n",
    "plt.bar(list(range(1,len(student_preds_0.conf_0)+1)),sorted(student_preds_0.conf_0))\n",
    "plt.show()\n",
    "plt.hist(sorted(student_preds_0.conf_0))\n",
    "plt.title(\"Students' pred 0 confidenses\")\n",
    "plt.show()\n",
    "plt.hist(sorted(student_preds_1.conf_1))\n",
    "plt.title(\"Students' pred 1 confidenses\")\n",
    "plt.show()\n",
    "plt.hist(sorted(teacher_preds_0.conf_0))\n",
    "plt.title(\"Teachers' pred 0 confidenses\")\n",
    "plt.show()\n",
    "plt.hist(sorted(teacher_preds_1.conf_0))\n",
    "plt.title(\"Teachers' pred 1 confidenses\")\n",
    "plt.show()"
   ]
  },
  {
   "cell_type": "code",
   "execution_count": 408,
   "metadata": {},
   "outputs": [
    {
     "data": {
      "text/plain": [
       "1590"
      ]
     },
     "execution_count": 408,
     "metadata": {},
     "output_type": "execute_result"
    }
   ],
   "source": [
    "len(sorted(student_preds_0.conf_0))"
   ]
  },
  {
   "cell_type": "code",
   "execution_count": 412,
   "metadata": {},
   "outputs": [],
   "source": [
    "d_stu = {\"score\": profvec_s[:len(student_preds)], \"docscore\":docscorevec_s[:len(student_preds)], \n",
    "         \"ID\":useridvec_s[:len(student_preds)], \"first_lang\":langvec_s[:len(student_preds)]}"
   ]
  },
  {
   "cell_type": "code",
   "execution_count": 413,
   "metadata": {
    "scrolled": true
   },
   "outputs": [
    {
     "name": "stdout",
     "output_type": "stream",
     "text": [
      "2511\n",
      "2511\n"
     ]
    }
   ],
   "source": [
    "df_stu = pd.DataFrame(d_stu)\n",
    "print(len(df_stu))\n",
    "print(len(student_preds))\n",
    "df_stu = pd.concat([df_stu, student_preds], axis=1)"
   ]
  },
  {
   "cell_type": "code",
   "execution_count": 414,
   "metadata": {},
   "outputs": [],
   "source": [
    "abs_diff = pd.DataFrame(np.absolute(df_stu.conf_0 - df_stu.conf_1), columns=[\"abs_diff\"])"
   ]
  },
  {
   "cell_type": "code",
   "execution_count": 415,
   "metadata": {},
   "outputs": [],
   "source": [
    "df_stu = pd.concat([df_stu, abs_diff], axis=1)"
   ]
  },
  {
   "cell_type": "code",
   "execution_count": 416,
   "metadata": {},
   "outputs": [
    {
     "data": {
      "text/html": [
       "<div>\n",
       "<style>\n",
       "    .dataframe thead tr:only-child th {\n",
       "        text-align: right;\n",
       "    }\n",
       "\n",
       "    .dataframe thead th {\n",
       "        text-align: left;\n",
       "    }\n",
       "\n",
       "    .dataframe tbody tr th {\n",
       "        vertical-align: top;\n",
       "    }\n",
       "</style>\n",
       "<table border=\"1\" class=\"dataframe\">\n",
       "  <thead>\n",
       "    <tr style=\"text-align: right;\">\n",
       "      <th></th>\n",
       "      <th>ID</th>\n",
       "      <th>docscore</th>\n",
       "      <th>first_lang</th>\n",
       "      <th>score</th>\n",
       "      <th>conf_0</th>\n",
       "      <th>conf_1</th>\n",
       "      <th>abs_diff</th>\n",
       "    </tr>\n",
       "  </thead>\n",
       "  <tbody>\n",
       "    <tr>\n",
       "      <th>0</th>\n",
       "      <td>TE23*0100*2001*01</td>\n",
       "      <td>3.1</td>\n",
       "      <td>Spanish</td>\n",
       "      <td>21.0</td>\n",
       "      <td>0.822006</td>\n",
       "      <td>0.177994</td>\n",
       "      <td>0.644011</td>\n",
       "    </tr>\n",
       "    <tr>\n",
       "      <th>1</th>\n",
       "      <td>TE23*0100*2001*01</td>\n",
       "      <td>3.1</td>\n",
       "      <td>Spanish</td>\n",
       "      <td>21.0</td>\n",
       "      <td>0.822248</td>\n",
       "      <td>0.177752</td>\n",
       "      <td>0.644497</td>\n",
       "    </tr>\n",
       "    <tr>\n",
       "      <th>2</th>\n",
       "      <td>TE23*0100*2001*01</td>\n",
       "      <td>3.1</td>\n",
       "      <td>Spanish</td>\n",
       "      <td>21.0</td>\n",
       "      <td>0.200748</td>\n",
       "      <td>0.799252</td>\n",
       "      <td>0.598504</td>\n",
       "    </tr>\n",
       "    <tr>\n",
       "      <th>3</th>\n",
       "      <td>TE23*0100*2001*01</td>\n",
       "      <td>3.1</td>\n",
       "      <td>Spanish</td>\n",
       "      <td>21.0</td>\n",
       "      <td>0.203175</td>\n",
       "      <td>0.796825</td>\n",
       "      <td>0.593651</td>\n",
       "    </tr>\n",
       "    <tr>\n",
       "      <th>4</th>\n",
       "      <td>TE23*0100*2001*01</td>\n",
       "      <td>3.1</td>\n",
       "      <td>Spanish</td>\n",
       "      <td>21.0</td>\n",
       "      <td>0.877065</td>\n",
       "      <td>0.122935</td>\n",
       "      <td>0.754131</td>\n",
       "    </tr>\n",
       "  </tbody>\n",
       "</table>\n",
       "</div>"
      ],
      "text/plain": [
       "                  ID  docscore first_lang  score    conf_0    conf_1  abs_diff\n",
       "0  TE23*0100*2001*01       3.1    Spanish   21.0  0.822006  0.177994  0.644011\n",
       "1  TE23*0100*2001*01       3.1    Spanish   21.0  0.822248  0.177752  0.644497\n",
       "2  TE23*0100*2001*01       3.1    Spanish   21.0  0.200748  0.799252  0.598504\n",
       "3  TE23*0100*2001*01       3.1    Spanish   21.0  0.203175  0.796825  0.593651\n",
       "4  TE23*0100*2001*01       3.1    Spanish   21.0  0.877065  0.122935  0.754131"
      ]
     },
     "execution_count": 416,
     "metadata": {},
     "output_type": "execute_result"
    }
   ],
   "source": [
    "df_stu.head()"
   ]
  },
  {
   "cell_type": "code",
   "execution_count": 417,
   "metadata": {
    "collapsed": true
   },
   "outputs": [],
   "source": [
    "# Sort away sentences where the confidence is low:\n",
    "#df_stu = df_stu[df_stu.abs_diff > 0.25]\n",
    "# Sort away those with the lowest scores:\n",
    "#df_stu = df_stu[df_stu.score >30]"
   ]
  },
  {
   "cell_type": "code",
   "execution_count": 418,
   "metadata": {},
   "outputs": [
    {
     "data": {
      "text/plain": [
       "2511"
      ]
     },
     "execution_count": 418,
     "metadata": {},
     "output_type": "execute_result"
    }
   ],
   "source": [
    "len(df_stu)"
   ]
  },
  {
   "cell_type": "code",
   "execution_count": 419,
   "metadata": {},
   "outputs": [],
   "source": [
    "#df_stu.groupby('lang').conf_0.mean()"
   ]
  },
  {
   "cell_type": "code",
   "execution_count": 420,
   "metadata": {},
   "outputs": [
    {
     "name": "stdout",
     "output_type": "stream",
     "text": [
      "avg confidence of class 0 / fake 56.81\n",
      "\\begin{tabular}{lrrrr}\n",
      "\\toprule\n",
      "{} &  conf\\_0 &      r &    n &      p \\\\\n",
      "first\\_lang &         &        &      &        \\\\\n",
      "\\midrule\n",
      "Turkish    &   60.46 & -0.121 &  108 &  0.212 \\\\\n",
      "Japanese   &   59.61 & -0.082 &  178 &  0.275 \\\\\n",
      "German     &   59.53 &  0.092 &  264 &  0.138 \\\\\n",
      "Thai       &   59.09 & -0.029 &  206 &  0.677 \\\\\n",
      "Italian    &   57.05 &  0.007 &  118 &  0.938 \\\\\n",
      "Catalan    &   56.55 &  0.043 &  174 &  0.577 \\\\\n",
      "Russian    &   56.31 &  0.044 &  142 &  0.605 \\\\\n",
      "French     &   55.93 & -0.030 &  277 &  0.615 \\\\\n",
      "Chinese    &   55.85 &  0.051 &  302 &  0.374 \\\\\n",
      "Polish     &   55.71 & -0.032 &  109 &  0.743 \\\\\n",
      "Spanish    &   55.42 & -0.052 &  204 &  0.459 \\\\\n",
      "Korean     &   54.50 &  0.006 &  234 &  0.923 \\\\\n",
      "Greek      &   53.17 &  0.062 &  164 &  0.430 \\\\\n",
      "\\bottomrule\n",
      "\\end{tabular}\n",
      "\n"
     ]
    },
    {
     "name": "stderr",
     "output_type": "stream",
     "text": [
      "/Users/Terne/.local/lib/python3.6/site-packages/scipy/stats/stats.py:3010: RuntimeWarning: invalid value encountered in double_scalars\n",
      "  r = r_num / r_den\n"
     ]
    }
   ],
   "source": [
    "correlate_prof_pred(df_stu)"
   ]
  },
  {
   "cell_type": "code",
   "execution_count": null,
   "metadata": {
    "collapsed": true
   },
   "outputs": [],
   "source": []
  },
  {
   "cell_type": "code",
   "execution_count": 421,
   "metadata": {
    "collapsed": true
   },
   "outputs": [],
   "source": [
    "chinese = df_stu[df_stu.first_lang==\"Chinese\"]"
   ]
  },
  {
   "cell_type": "code",
   "execution_count": 422,
   "metadata": {},
   "outputs": [
    {
     "name": "stdout",
     "output_type": "stream",
     "text": [
      "SpearmanrResult(correlation=0.02730047723897006, pvalue=0.6365325870451977)\n"
     ]
    },
    {
     "data": {
      "image/png": "[encoded data removed]",
      "text/plain": [
       "<matplotlib.figure.Figure at 0x113d7f048>"
      ]
     },
     "metadata": {},
     "output_type": "display_data"
    }
   ],
   "source": [
    "plt.scatter(chinese.score, chinese.conf_0)\n",
    "print(stats.spearmanr(chinese.score,chinese.conf_0))\n",
    "#print(stats.pearsonr(chinese.score,chinese.conf_0))"
   ]
  },
  {
   "cell_type": "code",
   "execution_count": 423,
   "metadata": {},
   "outputs": [
    {
     "data": {
      "text/plain": [
       "SpearmanrResult(correlation=0.04032936408254338, pvalue=0.48503503190743813)"
      ]
     },
     "execution_count": 423,
     "metadata": {},
     "output_type": "execute_result"
    },
    {
     "data": {
      "image/png": "[encoded data removed]",
      "text/plain": [
       "<matplotlib.figure.Figure at 0x117227f98>"
      ]
     },
     "metadata": {},
     "output_type": "display_data"
    }
   ],
   "source": [
    "plt.scatter(chinese.docscore, chinese.conf_0)\n",
    "stats.spearmanr(chinese.docscore,chinese.conf_0)"
   ]
  },
  {
   "cell_type": "code",
   "execution_count": 424,
   "metadata": {
    "collapsed": true
   },
   "outputs": [],
   "source": [
    "def correlate_prof_pred_docscore(dataframe):\n",
    "    \"\"\"Correlate profiency score with predictions for each language\"\"\"\n",
    "    \n",
    "    print(\"avg confidence of class 0 / fake\",np.round(dataframe.conf_0.mean()*100, 2))\n",
    "    #lang = pd.crosstab(fce['first_lang'],fce.conf_0).apply(lambda r: r/r.sum(), axis=1)\n",
    "    corr = dataframe.groupby('first_lang').apply(lambda x: stats.pearsonr(x.conf_0, x.docscore))\n",
    "    grouped = dataframe.groupby('first_lang').mean()\n",
    "    grouped['r'] = corr.apply(lambda x: np.round(x[0],3))\n",
    "    grouped['p'] = corr.apply(lambda x: np.round(x[1],3))\n",
    "            \n",
    "    #make latex table\n",
    "    #latexdf=dataframe.groupby('first_lang').mean().loc[:,['conf_0' ]].sort_values(by='conf_0', ascending=False)\n",
    "    latexdf = grouped.loc[:,['conf_0', 'r', 'p']].sort_values(by='conf_0', ascending=False)\n",
    "    latexdf['n'] = dataframe.groupby('first_lang').docscore.count()  #adding support for each first_lang\n",
    "    latexdf.conf_0 = np.round(latexdf.conf_0*100,2)\n",
    "    latexdf.dropna(inplace=True)\n",
    "    print(latexdf[['conf_0', 'r', 'n', 'p']].to_latex())"
   ]
  },
  {
   "cell_type": "code",
   "execution_count": 425,
   "metadata": {},
   "outputs": [
    {
     "data": {
      "text/html": [
       "<div>\n",
       "<style>\n",
       "    .dataframe thead tr:only-child th {\n",
       "        text-align: right;\n",
       "    }\n",
       "\n",
       "    .dataframe thead th {\n",
       "        text-align: left;\n",
       "    }\n",
       "\n",
       "    .dataframe tbody tr th {\n",
       "        vertical-align: top;\n",
       "    }\n",
       "</style>\n",
       "<table border=\"1\" class=\"dataframe\">\n",
       "  <thead>\n",
       "    <tr style=\"text-align: right;\">\n",
       "      <th></th>\n",
       "      <th>ID</th>\n",
       "      <th>docscore</th>\n",
       "      <th>score</th>\n",
       "      <th>conf_0</th>\n",
       "      <th>conf_1</th>\n",
       "      <th>abs_diff</th>\n",
       "    </tr>\n",
       "  </thead>\n",
       "  <tbody>\n",
       "    <tr>\n",
       "      <th>0</th>\n",
       "      <td>TE1*0100*2001*01</td>\n",
       "      <td>3.588889</td>\n",
       "      <td>30.0</td>\n",
       "      <td>0.490703</td>\n",
       "      <td>0.509297</td>\n",
       "      <td>0.479610</td>\n",
       "    </tr>\n",
       "    <tr>\n",
       "      <th>1</th>\n",
       "      <td>TE10*0100*2001*01</td>\n",
       "      <td>3.200000</td>\n",
       "      <td>26.0</td>\n",
       "      <td>0.604944</td>\n",
       "      <td>0.395056</td>\n",
       "      <td>0.529331</td>\n",
       "    </tr>\n",
       "    <tr>\n",
       "      <th>2</th>\n",
       "      <td>TE11*0100*2001*01</td>\n",
       "      <td>2.748000</td>\n",
       "      <td>23.0</td>\n",
       "      <td>0.550218</td>\n",
       "      <td>0.449782</td>\n",
       "      <td>0.492673</td>\n",
       "    </tr>\n",
       "    <tr>\n",
       "      <th>3</th>\n",
       "      <td>TE12*0100*2001*01</td>\n",
       "      <td>3.750000</td>\n",
       "      <td>26.0</td>\n",
       "      <td>0.558114</td>\n",
       "      <td>0.441886</td>\n",
       "      <td>0.485700</td>\n",
       "    </tr>\n",
       "    <tr>\n",
       "      <th>4</th>\n",
       "      <td>TE13*0100*2001*01</td>\n",
       "      <td>3.300000</td>\n",
       "      <td>26.0</td>\n",
       "      <td>0.650936</td>\n",
       "      <td>0.349064</td>\n",
       "      <td>0.517442</td>\n",
       "    </tr>\n",
       "    <tr>\n",
       "      <th>5</th>\n",
       "      <td>TE14*0100*2001*01</td>\n",
       "      <td>5.155172</td>\n",
       "      <td>38.0</td>\n",
       "      <td>0.599983</td>\n",
       "      <td>0.400017</td>\n",
       "      <td>0.471035</td>\n",
       "    </tr>\n",
       "    <tr>\n",
       "      <th>6</th>\n",
       "      <td>TE15*0100*2001*01</td>\n",
       "      <td>3.281818</td>\n",
       "      <td>27.0</td>\n",
       "      <td>0.605617</td>\n",
       "      <td>0.394383</td>\n",
       "      <td>0.478153</td>\n",
       "    </tr>\n",
       "    <tr>\n",
       "      <th>7</th>\n",
       "      <td>TE16*0100*2001*01</td>\n",
       "      <td>5.144000</td>\n",
       "      <td>39.0</td>\n",
       "      <td>0.524532</td>\n",
       "      <td>0.475468</td>\n",
       "      <td>0.479451</td>\n",
       "    </tr>\n",
       "    <tr>\n",
       "      <th>8</th>\n",
       "      <td>TE17*0100*2001*01</td>\n",
       "      <td>2.700000</td>\n",
       "      <td>25.0</td>\n",
       "      <td>0.629212</td>\n",
       "      <td>0.370788</td>\n",
       "      <td>0.579541</td>\n",
       "    </tr>\n",
       "    <tr>\n",
       "      <th>9</th>\n",
       "      <td>TE18*0100*2001*01</td>\n",
       "      <td>2.253846</td>\n",
       "      <td>24.0</td>\n",
       "      <td>0.642796</td>\n",
       "      <td>0.357204</td>\n",
       "      <td>0.461920</td>\n",
       "    </tr>\n",
       "    <tr>\n",
       "      <th>10</th>\n",
       "      <td>TE19*0100*2001*01</td>\n",
       "      <td>2.700000</td>\n",
       "      <td>25.0</td>\n",
       "      <td>0.622758</td>\n",
       "      <td>0.377242</td>\n",
       "      <td>0.449751</td>\n",
       "    </tr>\n",
       "    <tr>\n",
       "      <th>11</th>\n",
       "      <td>TE2*0100*2001*01</td>\n",
       "      <td>3.300000</td>\n",
       "      <td>27.0</td>\n",
       "      <td>0.485632</td>\n",
       "      <td>0.514368</td>\n",
       "      <td>0.459378</td>\n",
       "    </tr>\n",
       "    <tr>\n",
       "      <th>12</th>\n",
       "      <td>TE20*0100*2001*01</td>\n",
       "      <td>3.722222</td>\n",
       "      <td>30.0</td>\n",
       "      <td>0.466119</td>\n",
       "      <td>0.533881</td>\n",
       "      <td>0.507363</td>\n",
       "    </tr>\n",
       "    <tr>\n",
       "      <th>13</th>\n",
       "      <td>TE21*0100*2001*01</td>\n",
       "      <td>3.582500</td>\n",
       "      <td>27.0</td>\n",
       "      <td>0.639120</td>\n",
       "      <td>0.360880</td>\n",
       "      <td>0.443340</td>\n",
       "    </tr>\n",
       "    <tr>\n",
       "      <th>14</th>\n",
       "      <td>TE22*0100*2001*01</td>\n",
       "      <td>2.663636</td>\n",
       "      <td>20.0</td>\n",
       "      <td>0.598602</td>\n",
       "      <td>0.401398</td>\n",
       "      <td>0.454190</td>\n",
       "    </tr>\n",
       "    <tr>\n",
       "      <th>15</th>\n",
       "      <td>TE23*0100*2001*01</td>\n",
       "      <td>2.650000</td>\n",
       "      <td>21.0</td>\n",
       "      <td>0.446044</td>\n",
       "      <td>0.553956</td>\n",
       "      <td>0.577335</td>\n",
       "    </tr>\n",
       "    <tr>\n",
       "      <th>16</th>\n",
       "      <td>TE24*0100*2001*01</td>\n",
       "      <td>2.700000</td>\n",
       "      <td>21.0</td>\n",
       "      <td>0.535732</td>\n",
       "      <td>0.464268</td>\n",
       "      <td>0.472125</td>\n",
       "    </tr>\n",
       "    <tr>\n",
       "      <th>17</th>\n",
       "      <td>TE25*0100*2001*01</td>\n",
       "      <td>3.200000</td>\n",
       "      <td>26.0</td>\n",
       "      <td>0.500376</td>\n",
       "      <td>0.499624</td>\n",
       "      <td>0.479015</td>\n",
       "    </tr>\n",
       "    <tr>\n",
       "      <th>18</th>\n",
       "      <td>TE26*0100*2001*01</td>\n",
       "      <td>2.750000</td>\n",
       "      <td>22.0</td>\n",
       "      <td>0.534154</td>\n",
       "      <td>0.465846</td>\n",
       "      <td>0.562213</td>\n",
       "    </tr>\n",
       "    <tr>\n",
       "      <th>19</th>\n",
       "      <td>TE27*0100*2001*01</td>\n",
       "      <td>2.746154</td>\n",
       "      <td>24.0</td>\n",
       "      <td>0.557075</td>\n",
       "      <td>0.442925</td>\n",
       "      <td>0.494450</td>\n",
       "    </tr>\n",
       "    <tr>\n",
       "      <th>20</th>\n",
       "      <td>TE28*0100*2001*01</td>\n",
       "      <td>5.200000</td>\n",
       "      <td>38.0</td>\n",
       "      <td>0.514157</td>\n",
       "      <td>0.485843</td>\n",
       "      <td>0.551781</td>\n",
       "    </tr>\n",
       "    <tr>\n",
       "      <th>21</th>\n",
       "      <td>TE29*0100*2001*01</td>\n",
       "      <td>3.644444</td>\n",
       "      <td>30.0</td>\n",
       "      <td>0.459462</td>\n",
       "      <td>0.540538</td>\n",
       "      <td>0.499776</td>\n",
       "    </tr>\n",
       "    <tr>\n",
       "      <th>22</th>\n",
       "      <td>TE3*0100*2001*01</td>\n",
       "      <td>5.100000</td>\n",
       "      <td>34.0</td>\n",
       "      <td>0.535054</td>\n",
       "      <td>0.464946</td>\n",
       "      <td>0.533529</td>\n",
       "    </tr>\n",
       "    <tr>\n",
       "      <th>23</th>\n",
       "      <td>TE30*0100*2001*01</td>\n",
       "      <td>3.188000</td>\n",
       "      <td>24.0</td>\n",
       "      <td>0.550997</td>\n",
       "      <td>0.449003</td>\n",
       "      <td>0.507254</td>\n",
       "    </tr>\n",
       "    <tr>\n",
       "      <th>24</th>\n",
       "      <td>TE31*0100*2001*01</td>\n",
       "      <td>2.740000</td>\n",
       "      <td>23.0</td>\n",
       "      <td>0.519057</td>\n",
       "      <td>0.480943</td>\n",
       "      <td>0.399120</td>\n",
       "    </tr>\n",
       "    <tr>\n",
       "      <th>25</th>\n",
       "      <td>TE32*0100*2001*01</td>\n",
       "      <td>2.700000</td>\n",
       "      <td>22.0</td>\n",
       "      <td>0.630136</td>\n",
       "      <td>0.369864</td>\n",
       "      <td>0.541014</td>\n",
       "    </tr>\n",
       "    <tr>\n",
       "      <th>26</th>\n",
       "      <td>TE33*0100*2001*01</td>\n",
       "      <td>2.576190</td>\n",
       "      <td>23.0</td>\n",
       "      <td>0.576341</td>\n",
       "      <td>0.423659</td>\n",
       "      <td>0.490203</td>\n",
       "    </tr>\n",
       "    <tr>\n",
       "      <th>27</th>\n",
       "      <td>TE34*0100*2001*01</td>\n",
       "      <td>5.200000</td>\n",
       "      <td>39.0</td>\n",
       "      <td>0.504656</td>\n",
       "      <td>0.495344</td>\n",
       "      <td>0.527264</td>\n",
       "    </tr>\n",
       "    <tr>\n",
       "      <th>28</th>\n",
       "      <td>TE35*0100*2001*01</td>\n",
       "      <td>4.786957</td>\n",
       "      <td>34.0</td>\n",
       "      <td>0.583091</td>\n",
       "      <td>0.416909</td>\n",
       "      <td>0.458267</td>\n",
       "    </tr>\n",
       "    <tr>\n",
       "      <th>29</th>\n",
       "      <td>TE36*0100*2001*01</td>\n",
       "      <td>5.154839</td>\n",
       "      <td>37.0</td>\n",
       "      <td>0.644555</td>\n",
       "      <td>0.355445</td>\n",
       "      <td>0.534147</td>\n",
       "    </tr>\n",
       "    <tr>\n",
       "      <th>...</th>\n",
       "      <td>...</td>\n",
       "      <td>...</td>\n",
       "      <td>...</td>\n",
       "      <td>...</td>\n",
       "      <td>...</td>\n",
       "      <td>...</td>\n",
       "    </tr>\n",
       "    <tr>\n",
       "      <th>67</th>\n",
       "      <td>TE70*0100*2001*01</td>\n",
       "      <td>3.200000</td>\n",
       "      <td>26.0</td>\n",
       "      <td>0.546939</td>\n",
       "      <td>0.453062</td>\n",
       "      <td>0.413809</td>\n",
       "    </tr>\n",
       "    <tr>\n",
       "      <th>68</th>\n",
       "      <td>TE71*0100*2001*01</td>\n",
       "      <td>2.071875</td>\n",
       "      <td>21.0</td>\n",
       "      <td>0.612515</td>\n",
       "      <td>0.387485</td>\n",
       "      <td>0.463146</td>\n",
       "    </tr>\n",
       "    <tr>\n",
       "      <th>69</th>\n",
       "      <td>TE72*0100*2001*01</td>\n",
       "      <td>5.190909</td>\n",
       "      <td>38.0</td>\n",
       "      <td>0.557340</td>\n",
       "      <td>0.442660</td>\n",
       "      <td>0.531282</td>\n",
       "    </tr>\n",
       "    <tr>\n",
       "      <th>70</th>\n",
       "      <td>TE73*0100*2001*01</td>\n",
       "      <td>4.196296</td>\n",
       "      <td>32.0</td>\n",
       "      <td>0.540137</td>\n",
       "      <td>0.459863</td>\n",
       "      <td>0.407285</td>\n",
       "    </tr>\n",
       "    <tr>\n",
       "      <th>71</th>\n",
       "      <td>TE74*0100*2001*01</td>\n",
       "      <td>3.617857</td>\n",
       "      <td>29.0</td>\n",
       "      <td>0.674224</td>\n",
       "      <td>0.325776</td>\n",
       "      <td>0.517323</td>\n",
       "    </tr>\n",
       "    <tr>\n",
       "      <th>72</th>\n",
       "      <td>TE75*0100*2001*01</td>\n",
       "      <td>5.200000</td>\n",
       "      <td>36.0</td>\n",
       "      <td>0.555660</td>\n",
       "      <td>0.444340</td>\n",
       "      <td>0.546118</td>\n",
       "    </tr>\n",
       "    <tr>\n",
       "      <th>73</th>\n",
       "      <td>TE76*0100*2001*01</td>\n",
       "      <td>5.244828</td>\n",
       "      <td>40.0</td>\n",
       "      <td>0.611720</td>\n",
       "      <td>0.388280</td>\n",
       "      <td>0.497190</td>\n",
       "    </tr>\n",
       "    <tr>\n",
       "      <th>74</th>\n",
       "      <td>TE77*0100*2001*01</td>\n",
       "      <td>3.680952</td>\n",
       "      <td>29.0</td>\n",
       "      <td>0.510103</td>\n",
       "      <td>0.489897</td>\n",
       "      <td>0.552024</td>\n",
       "    </tr>\n",
       "    <tr>\n",
       "      <th>75</th>\n",
       "      <td>TE78*0100*2001*01</td>\n",
       "      <td>5.100000</td>\n",
       "      <td>34.0</td>\n",
       "      <td>0.581169</td>\n",
       "      <td>0.418831</td>\n",
       "      <td>0.407180</td>\n",
       "    </tr>\n",
       "    <tr>\n",
       "      <th>76</th>\n",
       "      <td>TE79*0100*2001*01</td>\n",
       "      <td>5.181481</td>\n",
       "      <td>36.0</td>\n",
       "      <td>0.602386</td>\n",
       "      <td>0.397614</td>\n",
       "      <td>0.558534</td>\n",
       "    </tr>\n",
       "    <tr>\n",
       "      <th>77</th>\n",
       "      <td>TE8*0100*2001*01</td>\n",
       "      <td>2.783871</td>\n",
       "      <td>25.0</td>\n",
       "      <td>0.593429</td>\n",
       "      <td>0.406571</td>\n",
       "      <td>0.535779</td>\n",
       "    </tr>\n",
       "    <tr>\n",
       "      <th>78</th>\n",
       "      <td>TE80*0100*2001*01</td>\n",
       "      <td>5.157692</td>\n",
       "      <td>37.0</td>\n",
       "      <td>0.503597</td>\n",
       "      <td>0.496403</td>\n",
       "      <td>0.449407</td>\n",
       "    </tr>\n",
       "    <tr>\n",
       "      <th>79</th>\n",
       "      <td>TE81*0100*2001*01</td>\n",
       "      <td>2.100000</td>\n",
       "      <td>17.0</td>\n",
       "      <td>0.549134</td>\n",
       "      <td>0.450866</td>\n",
       "      <td>0.489580</td>\n",
       "    </tr>\n",
       "    <tr>\n",
       "      <th>80</th>\n",
       "      <td>TE82*0100*2001*01</td>\n",
       "      <td>4.551613</td>\n",
       "      <td>32.0</td>\n",
       "      <td>0.425544</td>\n",
       "      <td>0.574456</td>\n",
       "      <td>0.442031</td>\n",
       "    </tr>\n",
       "    <tr>\n",
       "      <th>81</th>\n",
       "      <td>TE83*0100*2001*01</td>\n",
       "      <td>3.100000</td>\n",
       "      <td>25.0</td>\n",
       "      <td>0.580558</td>\n",
       "      <td>0.419442</td>\n",
       "      <td>0.440271</td>\n",
       "    </tr>\n",
       "    <tr>\n",
       "      <th>82</th>\n",
       "      <td>TE84*0100*2001*01</td>\n",
       "      <td>3.126087</td>\n",
       "      <td>25.0</td>\n",
       "      <td>0.515904</td>\n",
       "      <td>0.484096</td>\n",
       "      <td>0.569400</td>\n",
       "    </tr>\n",
       "    <tr>\n",
       "      <th>83</th>\n",
       "      <td>TE85*0100*2001*01</td>\n",
       "      <td>4.744444</td>\n",
       "      <td>36.0</td>\n",
       "      <td>0.598681</td>\n",
       "      <td>0.401319</td>\n",
       "      <td>0.484666</td>\n",
       "    </tr>\n",
       "    <tr>\n",
       "      <th>84</th>\n",
       "      <td>TE86*0100*2001*01</td>\n",
       "      <td>3.827586</td>\n",
       "      <td>31.0</td>\n",
       "      <td>0.548637</td>\n",
       "      <td>0.451363</td>\n",
       "      <td>0.485166</td>\n",
       "    </tr>\n",
       "    <tr>\n",
       "      <th>85</th>\n",
       "      <td>TE87*0100*2001*01</td>\n",
       "      <td>3.200000</td>\n",
       "      <td>27.0</td>\n",
       "      <td>0.532767</td>\n",
       "      <td>0.467233</td>\n",
       "      <td>0.495471</td>\n",
       "    </tr>\n",
       "    <tr>\n",
       "      <th>86</th>\n",
       "      <td>TE88*0100*2001*01</td>\n",
       "      <td>2.200000</td>\n",
       "      <td>19.0</td>\n",
       "      <td>0.420423</td>\n",
       "      <td>0.579577</td>\n",
       "      <td>0.497860</td>\n",
       "    </tr>\n",
       "    <tr>\n",
       "      <th>87</th>\n",
       "      <td>TE89*0100*2001*01</td>\n",
       "      <td>3.678947</td>\n",
       "      <td>28.0</td>\n",
       "      <td>0.634846</td>\n",
       "      <td>0.365154</td>\n",
       "      <td>0.509019</td>\n",
       "    </tr>\n",
       "    <tr>\n",
       "      <th>88</th>\n",
       "      <td>TE9*0100*2001*01</td>\n",
       "      <td>3.100000</td>\n",
       "      <td>24.0</td>\n",
       "      <td>0.475619</td>\n",
       "      <td>0.524381</td>\n",
       "      <td>0.488042</td>\n",
       "    </tr>\n",
       "    <tr>\n",
       "      <th>89</th>\n",
       "      <td>TE90*0100*2001*01</td>\n",
       "      <td>2.254167</td>\n",
       "      <td>20.0</td>\n",
       "      <td>0.474215</td>\n",
       "      <td>0.525785</td>\n",
       "      <td>0.554665</td>\n",
       "    </tr>\n",
       "    <tr>\n",
       "      <th>90</th>\n",
       "      <td>TE91*0100*2001*01</td>\n",
       "      <td>2.814286</td>\n",
       "      <td>25.0</td>\n",
       "      <td>0.597448</td>\n",
       "      <td>0.402552</td>\n",
       "      <td>0.552958</td>\n",
       "    </tr>\n",
       "    <tr>\n",
       "      <th>91</th>\n",
       "      <td>TE92*0100*2001*01</td>\n",
       "      <td>2.671429</td>\n",
       "      <td>23.0</td>\n",
       "      <td>0.583726</td>\n",
       "      <td>0.416274</td>\n",
       "      <td>0.439978</td>\n",
       "    </tr>\n",
       "    <tr>\n",
       "      <th>92</th>\n",
       "      <td>TE93*0100*2001*01</td>\n",
       "      <td>2.690909</td>\n",
       "      <td>22.0</td>\n",
       "      <td>0.586268</td>\n",
       "      <td>0.413732</td>\n",
       "      <td>0.362774</td>\n",
       "    </tr>\n",
       "    <tr>\n",
       "      <th>93</th>\n",
       "      <td>TE94*0100*2001*01</td>\n",
       "      <td>2.212500</td>\n",
       "      <td>23.0</td>\n",
       "      <td>0.618152</td>\n",
       "      <td>0.381848</td>\n",
       "      <td>0.410397</td>\n",
       "    </tr>\n",
       "    <tr>\n",
       "      <th>94</th>\n",
       "      <td>TE95*0100*2001*01</td>\n",
       "      <td>3.241176</td>\n",
       "      <td>27.0</td>\n",
       "      <td>0.589685</td>\n",
       "      <td>0.410315</td>\n",
       "      <td>0.533095</td>\n",
       "    </tr>\n",
       "    <tr>\n",
       "      <th>95</th>\n",
       "      <td>TE96*0100*2001*01</td>\n",
       "      <td>3.882609</td>\n",
       "      <td>30.0</td>\n",
       "      <td>0.536267</td>\n",
       "      <td>0.463733</td>\n",
       "      <td>0.499866</td>\n",
       "    </tr>\n",
       "    <tr>\n",
       "      <th>96</th>\n",
       "      <td>TE97*0100*2001*01</td>\n",
       "      <td>4.300000</td>\n",
       "      <td>34.0</td>\n",
       "      <td>0.620630</td>\n",
       "      <td>0.379370</td>\n",
       "      <td>0.487307</td>\n",
       "    </tr>\n",
       "  </tbody>\n",
       "</table>\n",
       "<p>97 rows × 6 columns</p>\n",
       "</div>"
      ],
      "text/plain": [
       "                   ID  docscore  score    conf_0    conf_1  abs_diff\n",
       "0    TE1*0100*2001*01  3.588889   30.0  0.490703  0.509297  0.479610\n",
       "1   TE10*0100*2001*01  3.200000   26.0  0.604944  0.395056  0.529331\n",
       "2   TE11*0100*2001*01  2.748000   23.0  0.550218  0.449782  0.492673\n",
       "3   TE12*0100*2001*01  3.750000   26.0  0.558114  0.441886  0.485700\n",
       "4   TE13*0100*2001*01  3.300000   26.0  0.650936  0.349064  0.517442\n",
       "5   TE14*0100*2001*01  5.155172   38.0  0.599983  0.400017  0.471035\n",
       "6   TE15*0100*2001*01  3.281818   27.0  0.605617  0.394383  0.478153\n",
       "7   TE16*0100*2001*01  5.144000   39.0  0.524532  0.475468  0.479451\n",
       "8   TE17*0100*2001*01  2.700000   25.0  0.629212  0.370788  0.579541\n",
       "9   TE18*0100*2001*01  2.253846   24.0  0.642796  0.357204  0.461920\n",
       "10  TE19*0100*2001*01  2.700000   25.0  0.622758  0.377242  0.449751\n",
       "11   TE2*0100*2001*01  3.300000   27.0  0.485632  0.514368  0.459378\n",
       "12  TE20*0100*2001*01  3.722222   30.0  0.466119  0.533881  0.507363\n",
       "13  TE21*0100*2001*01  3.582500   27.0  0.639120  0.360880  0.443340\n",
       "14  TE22*0100*2001*01  2.663636   20.0  0.598602  0.401398  0.454190\n",
       "15  TE23*0100*2001*01  2.650000   21.0  0.446044  0.553956  0.577335\n",
       "16  TE24*0100*2001*01  2.700000   21.0  0.535732  0.464268  0.472125\n",
       "17  TE25*0100*2001*01  3.200000   26.0  0.500376  0.499624  0.479015\n",
       "18  TE26*0100*2001*01  2.750000   22.0  0.534154  0.465846  0.562213\n",
       "19  TE27*0100*2001*01  2.746154   24.0  0.557075  0.442925  0.494450\n",
       "20  TE28*0100*2001*01  5.200000   38.0  0.514157  0.485843  0.551781\n",
       "21  TE29*0100*2001*01  3.644444   30.0  0.459462  0.540538  0.499776\n",
       "22   TE3*0100*2001*01  5.100000   34.0  0.535054  0.464946  0.533529\n",
       "23  TE30*0100*2001*01  3.188000   24.0  0.550997  0.449003  0.507254\n",
       "24  TE31*0100*2001*01  2.740000   23.0  0.519057  0.480943  0.399120\n",
       "25  TE32*0100*2001*01  2.700000   22.0  0.630136  0.369864  0.541014\n",
       "26  TE33*0100*2001*01  2.576190   23.0  0.576341  0.423659  0.490203\n",
       "27  TE34*0100*2001*01  5.200000   39.0  0.504656  0.495344  0.527264\n",
       "28  TE35*0100*2001*01  4.786957   34.0  0.583091  0.416909  0.458267\n",
       "29  TE36*0100*2001*01  5.154839   37.0  0.644555  0.355445  0.534147\n",
       "..                ...       ...    ...       ...       ...       ...\n",
       "67  TE70*0100*2001*01  3.200000   26.0  0.546939  0.453062  0.413809\n",
       "68  TE71*0100*2001*01  2.071875   21.0  0.612515  0.387485  0.463146\n",
       "69  TE72*0100*2001*01  5.190909   38.0  0.557340  0.442660  0.531282\n",
       "70  TE73*0100*2001*01  4.196296   32.0  0.540137  0.459863  0.407285\n",
       "71  TE74*0100*2001*01  3.617857   29.0  0.674224  0.325776  0.517323\n",
       "72  TE75*0100*2001*01  5.200000   36.0  0.555660  0.444340  0.546118\n",
       "73  TE76*0100*2001*01  5.244828   40.0  0.611720  0.388280  0.497190\n",
       "74  TE77*0100*2001*01  3.680952   29.0  0.510103  0.489897  0.552024\n",
       "75  TE78*0100*2001*01  5.100000   34.0  0.581169  0.418831  0.407180\n",
       "76  TE79*0100*2001*01  5.181481   36.0  0.602386  0.397614  0.558534\n",
       "77   TE8*0100*2001*01  2.783871   25.0  0.593429  0.406571  0.535779\n",
       "78  TE80*0100*2001*01  5.157692   37.0  0.503597  0.496403  0.449407\n",
       "79  TE81*0100*2001*01  2.100000   17.0  0.549134  0.450866  0.489580\n",
       "80  TE82*0100*2001*01  4.551613   32.0  0.425544  0.574456  0.442031\n",
       "81  TE83*0100*2001*01  3.100000   25.0  0.580558  0.419442  0.440271\n",
       "82  TE84*0100*2001*01  3.126087   25.0  0.515904  0.484096  0.569400\n",
       "83  TE85*0100*2001*01  4.744444   36.0  0.598681  0.401319  0.484666\n",
       "84  TE86*0100*2001*01  3.827586   31.0  0.548637  0.451363  0.485166\n",
       "85  TE87*0100*2001*01  3.200000   27.0  0.532767  0.467233  0.495471\n",
       "86  TE88*0100*2001*01  2.200000   19.0  0.420423  0.579577  0.497860\n",
       "87  TE89*0100*2001*01  3.678947   28.0  0.634846  0.365154  0.509019\n",
       "88   TE9*0100*2001*01  3.100000   24.0  0.475619  0.524381  0.488042\n",
       "89  TE90*0100*2001*01  2.254167   20.0  0.474215  0.525785  0.554665\n",
       "90  TE91*0100*2001*01  2.814286   25.0  0.597448  0.402552  0.552958\n",
       "91  TE92*0100*2001*01  2.671429   23.0  0.583726  0.416274  0.439978\n",
       "92  TE93*0100*2001*01  2.690909   22.0  0.586268  0.413732  0.362774\n",
       "93  TE94*0100*2001*01  2.212500   23.0  0.618152  0.381848  0.410397\n",
       "94  TE95*0100*2001*01  3.241176   27.0  0.589685  0.410315  0.533095\n",
       "95  TE96*0100*2001*01  3.882609   30.0  0.536267  0.463733  0.499866\n",
       "96  TE97*0100*2001*01  4.300000   34.0  0.620630  0.379370  0.487307\n",
       "\n",
       "[97 rows x 6 columns]"
      ]
     },
     "execution_count": 425,
     "metadata": {},
     "output_type": "execute_result"
    }
   ],
   "source": [
    "authorgr = df_stu.groupby(['ID'], as_index=False).mean() #grouped by author\n",
    "authorgr"
   ]
  },
  {
   "cell_type": "code",
   "execution_count": 426,
   "metadata": {},
   "outputs": [],
   "source": [
    "#stats.spearmanr(chinese.score,chinese.conf_0)"
   ]
  },
  {
   "cell_type": "code",
   "execution_count": 427,
   "metadata": {},
   "outputs": [
    {
     "data": {
      "text/plain": [
       "SpearmanrResult(correlation=0.010242916172210995, pvalue=0.9206810780758847)"
      ]
     },
     "execution_count": 427,
     "metadata": {},
     "output_type": "execute_result"
    }
   ],
   "source": [
    "stats.spearmanr(authorgr.score, authorgr.conf_0)"
   ]
  },
  {
   "cell_type": "code",
   "execution_count": 428,
   "metadata": {},
   "outputs": [
    {
     "data": {
      "text/plain": [
       "<matplotlib.collections.PathCollection at 0x11742f1d0>"
      ]
     },
     "execution_count": 428,
     "metadata": {},
     "output_type": "execute_result"
    },
    {
     "data": {
      "image/png": "[encoded data removed]",
      "text/plain": [
       "<matplotlib.figure.Figure at 0x117324438>"
      ]
     },
     "metadata": {},
     "output_type": "display_data"
    }
   ],
   "source": [
    "plt.scatter(authorgr.score, authorgr.conf_0)"
   ]
  },
  {
   "cell_type": "code",
   "execution_count": 429,
   "metadata": {},
   "outputs": [
    {
     "data": {
      "text/plain": [
       "SpearmanrResult(correlation=0.005121832551365279, pvalue=0.960289274822304)"
      ]
     },
     "execution_count": 429,
     "metadata": {},
     "output_type": "execute_result"
    }
   ],
   "source": [
    "stats.spearmanr(authorgr.docscore, authorgr.conf_0)"
   ]
  },
  {
   "cell_type": "code",
   "execution_count": 430,
   "metadata": {},
   "outputs": [
    {
     "data": {
      "text/plain": [
       "<matplotlib.collections.PathCollection at 0x11754a3c8>"
      ]
     },
     "execution_count": 430,
     "metadata": {},
     "output_type": "execute_result"
    },
    {
     "data": {
      "image/png": "[encoded data removed]",
      "text/plain": [
       "<matplotlib.figure.Figure at 0x114816588>"
      ]
     },
     "metadata": {},
     "output_type": "display_data"
    }
   ],
   "source": [
    "plt.scatter(authorgr.docscore, authorgr.conf_0)"
   ]
  },
  {
   "cell_type": "code",
   "execution_count": 431,
   "metadata": {},
   "outputs": [
    {
     "data": {
      "text/plain": [
       "array(['French', 'Chinese', 'Italian', 'Japanese', 'Russian', 'Thai',\n",
       "       'Greek', 'Turkish', 'Spanish', 'Catalan', 'German', 'Korean',\n",
       "       'Polish', 'Portuguese'], dtype=object)"
      ]
     },
     "execution_count": 431,
     "metadata": {},
     "output_type": "execute_result"
    }
   ],
   "source": [
    "authorgr = df_stu.groupby(['ID'], as_index=False).mean() #grouped by author\n",
    "author_and_lang = df_stu.groupby(['ID', \"first_lang\"], as_index=False).mean() #grouped by author and lang\n",
    "author_and_lang.first_lang.unique()"
   ]
  },
  {
   "cell_type": "code",
   "execution_count": 432,
   "metadata": {},
   "outputs": [
    {
     "data": {
      "text/html": [
       "<div>\n",
       "<style>\n",
       "    .dataframe thead tr:only-child th {\n",
       "        text-align: right;\n",
       "    }\n",
       "\n",
       "    .dataframe thead th {\n",
       "        text-align: left;\n",
       "    }\n",
       "\n",
       "    .dataframe tbody tr th {\n",
       "        vertical-align: top;\n",
       "    }\n",
       "</style>\n",
       "<table border=\"1\" class=\"dataframe\">\n",
       "  <thead>\n",
       "    <tr style=\"text-align: right;\">\n",
       "      <th></th>\n",
       "      <th>ID</th>\n",
       "      <th>first_lang</th>\n",
       "      <th>docscore</th>\n",
       "      <th>score</th>\n",
       "      <th>conf_0</th>\n",
       "      <th>conf_1</th>\n",
       "      <th>abs_diff</th>\n",
       "    </tr>\n",
       "  </thead>\n",
       "  <tbody>\n",
       "    <tr>\n",
       "      <th>0</th>\n",
       "      <td>TE1*0100*2001*01</td>\n",
       "      <td>French</td>\n",
       "      <td>3.588889</td>\n",
       "      <td>30.0</td>\n",
       "      <td>0.490703</td>\n",
       "      <td>0.509297</td>\n",
       "      <td>0.479610</td>\n",
       "    </tr>\n",
       "    <tr>\n",
       "      <th>1</th>\n",
       "      <td>TE10*0100*2001*01</td>\n",
       "      <td>Chinese</td>\n",
       "      <td>3.200000</td>\n",
       "      <td>26.0</td>\n",
       "      <td>0.604944</td>\n",
       "      <td>0.395056</td>\n",
       "      <td>0.529331</td>\n",
       "    </tr>\n",
       "    <tr>\n",
       "      <th>2</th>\n",
       "      <td>TE11*0100*2001*01</td>\n",
       "      <td>Italian</td>\n",
       "      <td>2.748000</td>\n",
       "      <td>23.0</td>\n",
       "      <td>0.550218</td>\n",
       "      <td>0.449782</td>\n",
       "      <td>0.492673</td>\n",
       "    </tr>\n",
       "    <tr>\n",
       "      <th>3</th>\n",
       "      <td>TE12*0100*2001*01</td>\n",
       "      <td>Japanese</td>\n",
       "      <td>3.750000</td>\n",
       "      <td>26.0</td>\n",
       "      <td>0.558114</td>\n",
       "      <td>0.441886</td>\n",
       "      <td>0.485700</td>\n",
       "    </tr>\n",
       "    <tr>\n",
       "      <th>4</th>\n",
       "      <td>TE13*0100*2001*01</td>\n",
       "      <td>Italian</td>\n",
       "      <td>3.300000</td>\n",
       "      <td>26.0</td>\n",
       "      <td>0.650936</td>\n",
       "      <td>0.349064</td>\n",
       "      <td>0.517442</td>\n",
       "    </tr>\n",
       "    <tr>\n",
       "      <th>5</th>\n",
       "      <td>TE14*0100*2001*01</td>\n",
       "      <td>Russian</td>\n",
       "      <td>5.155172</td>\n",
       "      <td>38.0</td>\n",
       "      <td>0.599983</td>\n",
       "      <td>0.400017</td>\n",
       "      <td>0.471035</td>\n",
       "    </tr>\n",
       "    <tr>\n",
       "      <th>6</th>\n",
       "      <td>TE15*0100*2001*01</td>\n",
       "      <td>Thai</td>\n",
       "      <td>3.281818</td>\n",
       "      <td>27.0</td>\n",
       "      <td>0.605617</td>\n",
       "      <td>0.394383</td>\n",
       "      <td>0.478153</td>\n",
       "    </tr>\n",
       "    <tr>\n",
       "      <th>7</th>\n",
       "      <td>TE16*0100*2001*01</td>\n",
       "      <td>Greek</td>\n",
       "      <td>5.144000</td>\n",
       "      <td>39.0</td>\n",
       "      <td>0.524532</td>\n",
       "      <td>0.475468</td>\n",
       "      <td>0.479451</td>\n",
       "    </tr>\n",
       "    <tr>\n",
       "      <th>8</th>\n",
       "      <td>TE17*0100*2001*01</td>\n",
       "      <td>French</td>\n",
       "      <td>2.700000</td>\n",
       "      <td>25.0</td>\n",
       "      <td>0.629212</td>\n",
       "      <td>0.370788</td>\n",
       "      <td>0.579541</td>\n",
       "    </tr>\n",
       "    <tr>\n",
       "      <th>9</th>\n",
       "      <td>TE18*0100*2001*01</td>\n",
       "      <td>Japanese</td>\n",
       "      <td>2.253846</td>\n",
       "      <td>24.0</td>\n",
       "      <td>0.642796</td>\n",
       "      <td>0.357204</td>\n",
       "      <td>0.461920</td>\n",
       "    </tr>\n",
       "    <tr>\n",
       "      <th>10</th>\n",
       "      <td>TE19*0100*2001*01</td>\n",
       "      <td>Turkish</td>\n",
       "      <td>2.700000</td>\n",
       "      <td>25.0</td>\n",
       "      <td>0.622758</td>\n",
       "      <td>0.377242</td>\n",
       "      <td>0.449751</td>\n",
       "    </tr>\n",
       "    <tr>\n",
       "      <th>11</th>\n",
       "      <td>TE2*0100*2001*01</td>\n",
       "      <td>Chinese</td>\n",
       "      <td>3.300000</td>\n",
       "      <td>27.0</td>\n",
       "      <td>0.485632</td>\n",
       "      <td>0.514368</td>\n",
       "      <td>0.459378</td>\n",
       "    </tr>\n",
       "    <tr>\n",
       "      <th>12</th>\n",
       "      <td>TE20*0100*2001*01</td>\n",
       "      <td>Thai</td>\n",
       "      <td>3.722222</td>\n",
       "      <td>30.0</td>\n",
       "      <td>0.466119</td>\n",
       "      <td>0.533881</td>\n",
       "      <td>0.507363</td>\n",
       "    </tr>\n",
       "    <tr>\n",
       "      <th>13</th>\n",
       "      <td>TE21*0100*2001*01</td>\n",
       "      <td>Chinese</td>\n",
       "      <td>3.582500</td>\n",
       "      <td>27.0</td>\n",
       "      <td>0.639120</td>\n",
       "      <td>0.360880</td>\n",
       "      <td>0.443340</td>\n",
       "    </tr>\n",
       "    <tr>\n",
       "      <th>14</th>\n",
       "      <td>TE22*0100*2001*01</td>\n",
       "      <td>Thai</td>\n",
       "      <td>2.663636</td>\n",
       "      <td>20.0</td>\n",
       "      <td>0.598602</td>\n",
       "      <td>0.401398</td>\n",
       "      <td>0.454190</td>\n",
       "    </tr>\n",
       "    <tr>\n",
       "      <th>15</th>\n",
       "      <td>TE23*0100*2001*01</td>\n",
       "      <td>Spanish</td>\n",
       "      <td>2.650000</td>\n",
       "      <td>21.0</td>\n",
       "      <td>0.446044</td>\n",
       "      <td>0.553956</td>\n",
       "      <td>0.577335</td>\n",
       "    </tr>\n",
       "    <tr>\n",
       "      <th>16</th>\n",
       "      <td>TE24*0100*2001*01</td>\n",
       "      <td>Greek</td>\n",
       "      <td>2.700000</td>\n",
       "      <td>21.0</td>\n",
       "      <td>0.535732</td>\n",
       "      <td>0.464268</td>\n",
       "      <td>0.472125</td>\n",
       "    </tr>\n",
       "    <tr>\n",
       "      <th>17</th>\n",
       "      <td>TE25*0100*2001*01</td>\n",
       "      <td>French</td>\n",
       "      <td>3.200000</td>\n",
       "      <td>26.0</td>\n",
       "      <td>0.500376</td>\n",
       "      <td>0.499624</td>\n",
       "      <td>0.479015</td>\n",
       "    </tr>\n",
       "    <tr>\n",
       "      <th>18</th>\n",
       "      <td>TE26*0100*2001*01</td>\n",
       "      <td>Spanish</td>\n",
       "      <td>2.750000</td>\n",
       "      <td>22.0</td>\n",
       "      <td>0.534154</td>\n",
       "      <td>0.465846</td>\n",
       "      <td>0.562213</td>\n",
       "    </tr>\n",
       "    <tr>\n",
       "      <th>19</th>\n",
       "      <td>TE27*0100*2001*01</td>\n",
       "      <td>Catalan</td>\n",
       "      <td>2.746154</td>\n",
       "      <td>24.0</td>\n",
       "      <td>0.557075</td>\n",
       "      <td>0.442925</td>\n",
       "      <td>0.494450</td>\n",
       "    </tr>\n",
       "    <tr>\n",
       "      <th>20</th>\n",
       "      <td>TE28*0100*2001*01</td>\n",
       "      <td>Spanish</td>\n",
       "      <td>5.200000</td>\n",
       "      <td>38.0</td>\n",
       "      <td>0.514157</td>\n",
       "      <td>0.485843</td>\n",
       "      <td>0.551781</td>\n",
       "    </tr>\n",
       "    <tr>\n",
       "      <th>21</th>\n",
       "      <td>TE29*0100*2001*01</td>\n",
       "      <td>Catalan</td>\n",
       "      <td>3.644444</td>\n",
       "      <td>30.0</td>\n",
       "      <td>0.459462</td>\n",
       "      <td>0.540538</td>\n",
       "      <td>0.499776</td>\n",
       "    </tr>\n",
       "    <tr>\n",
       "      <th>22</th>\n",
       "      <td>TE3*0100*2001*01</td>\n",
       "      <td>Catalan</td>\n",
       "      <td>5.100000</td>\n",
       "      <td>34.0</td>\n",
       "      <td>0.535054</td>\n",
       "      <td>0.464946</td>\n",
       "      <td>0.533529</td>\n",
       "    </tr>\n",
       "    <tr>\n",
       "      <th>23</th>\n",
       "      <td>TE30*0100*2001*01</td>\n",
       "      <td>Russian</td>\n",
       "      <td>3.188000</td>\n",
       "      <td>24.0</td>\n",
       "      <td>0.550997</td>\n",
       "      <td>0.449003</td>\n",
       "      <td>0.507254</td>\n",
       "    </tr>\n",
       "    <tr>\n",
       "      <th>24</th>\n",
       "      <td>TE31*0100*2001*01</td>\n",
       "      <td>Catalan</td>\n",
       "      <td>2.740000</td>\n",
       "      <td>23.0</td>\n",
       "      <td>0.519057</td>\n",
       "      <td>0.480943</td>\n",
       "      <td>0.399120</td>\n",
       "    </tr>\n",
       "    <tr>\n",
       "      <th>25</th>\n",
       "      <td>TE32*0100*2001*01</td>\n",
       "      <td>Japanese</td>\n",
       "      <td>2.700000</td>\n",
       "      <td>22.0</td>\n",
       "      <td>0.630136</td>\n",
       "      <td>0.369864</td>\n",
       "      <td>0.541014</td>\n",
       "    </tr>\n",
       "    <tr>\n",
       "      <th>26</th>\n",
       "      <td>TE33*0100*2001*01</td>\n",
       "      <td>Turkish</td>\n",
       "      <td>2.576190</td>\n",
       "      <td>23.0</td>\n",
       "      <td>0.576341</td>\n",
       "      <td>0.423659</td>\n",
       "      <td>0.490203</td>\n",
       "    </tr>\n",
       "    <tr>\n",
       "      <th>27</th>\n",
       "      <td>TE34*0100*2001*01</td>\n",
       "      <td>French</td>\n",
       "      <td>5.200000</td>\n",
       "      <td>39.0</td>\n",
       "      <td>0.504656</td>\n",
       "      <td>0.495344</td>\n",
       "      <td>0.527264</td>\n",
       "    </tr>\n",
       "    <tr>\n",
       "      <th>28</th>\n",
       "      <td>TE35*0100*2001*01</td>\n",
       "      <td>Japanese</td>\n",
       "      <td>4.786957</td>\n",
       "      <td>34.0</td>\n",
       "      <td>0.583091</td>\n",
       "      <td>0.416909</td>\n",
       "      <td>0.458267</td>\n",
       "    </tr>\n",
       "    <tr>\n",
       "      <th>29</th>\n",
       "      <td>TE36*0100*2001*01</td>\n",
       "      <td>Thai</td>\n",
       "      <td>5.154839</td>\n",
       "      <td>37.0</td>\n",
       "      <td>0.644555</td>\n",
       "      <td>0.355445</td>\n",
       "      <td>0.534147</td>\n",
       "    </tr>\n",
       "    <tr>\n",
       "      <th>...</th>\n",
       "      <td>...</td>\n",
       "      <td>...</td>\n",
       "      <td>...</td>\n",
       "      <td>...</td>\n",
       "      <td>...</td>\n",
       "      <td>...</td>\n",
       "      <td>...</td>\n",
       "    </tr>\n",
       "    <tr>\n",
       "      <th>67</th>\n",
       "      <td>TE70*0100*2001*01</td>\n",
       "      <td>Greek</td>\n",
       "      <td>3.200000</td>\n",
       "      <td>26.0</td>\n",
       "      <td>0.546939</td>\n",
       "      <td>0.453062</td>\n",
       "      <td>0.413809</td>\n",
       "    </tr>\n",
       "    <tr>\n",
       "      <th>68</th>\n",
       "      <td>TE71*0100*2001*01</td>\n",
       "      <td>Polish</td>\n",
       "      <td>2.071875</td>\n",
       "      <td>21.0</td>\n",
       "      <td>0.612515</td>\n",
       "      <td>0.387485</td>\n",
       "      <td>0.463146</td>\n",
       "    </tr>\n",
       "    <tr>\n",
       "      <th>69</th>\n",
       "      <td>TE72*0100*2001*01</td>\n",
       "      <td>Japanese</td>\n",
       "      <td>5.190909</td>\n",
       "      <td>38.0</td>\n",
       "      <td>0.557340</td>\n",
       "      <td>0.442660</td>\n",
       "      <td>0.531282</td>\n",
       "    </tr>\n",
       "    <tr>\n",
       "      <th>70</th>\n",
       "      <td>TE73*0100*2001*01</td>\n",
       "      <td>Thai</td>\n",
       "      <td>4.196296</td>\n",
       "      <td>32.0</td>\n",
       "      <td>0.540137</td>\n",
       "      <td>0.459863</td>\n",
       "      <td>0.407285</td>\n",
       "    </tr>\n",
       "    <tr>\n",
       "      <th>71</th>\n",
       "      <td>TE74*0100*2001*01</td>\n",
       "      <td>German</td>\n",
       "      <td>3.617857</td>\n",
       "      <td>29.0</td>\n",
       "      <td>0.674224</td>\n",
       "      <td>0.325776</td>\n",
       "      <td>0.517323</td>\n",
       "    </tr>\n",
       "    <tr>\n",
       "      <th>72</th>\n",
       "      <td>TE75*0100*2001*01</td>\n",
       "      <td>French</td>\n",
       "      <td>5.200000</td>\n",
       "      <td>36.0</td>\n",
       "      <td>0.555660</td>\n",
       "      <td>0.444340</td>\n",
       "      <td>0.546118</td>\n",
       "    </tr>\n",
       "    <tr>\n",
       "      <th>73</th>\n",
       "      <td>TE76*0100*2001*01</td>\n",
       "      <td>German</td>\n",
       "      <td>5.244828</td>\n",
       "      <td>40.0</td>\n",
       "      <td>0.611720</td>\n",
       "      <td>0.388280</td>\n",
       "      <td>0.497190</td>\n",
       "    </tr>\n",
       "    <tr>\n",
       "      <th>74</th>\n",
       "      <td>TE77*0100*2001*01</td>\n",
       "      <td>French</td>\n",
       "      <td>3.680952</td>\n",
       "      <td>29.0</td>\n",
       "      <td>0.510103</td>\n",
       "      <td>0.489897</td>\n",
       "      <td>0.552024</td>\n",
       "    </tr>\n",
       "    <tr>\n",
       "      <th>75</th>\n",
       "      <td>TE78*0100*2001*01</td>\n",
       "      <td>Chinese</td>\n",
       "      <td>5.100000</td>\n",
       "      <td>34.0</td>\n",
       "      <td>0.581169</td>\n",
       "      <td>0.418831</td>\n",
       "      <td>0.407180</td>\n",
       "    </tr>\n",
       "    <tr>\n",
       "      <th>76</th>\n",
       "      <td>TE79*0100*2001*01</td>\n",
       "      <td>German</td>\n",
       "      <td>5.181481</td>\n",
       "      <td>36.0</td>\n",
       "      <td>0.602386</td>\n",
       "      <td>0.397614</td>\n",
       "      <td>0.558534</td>\n",
       "    </tr>\n",
       "    <tr>\n",
       "      <th>77</th>\n",
       "      <td>TE8*0100*2001*01</td>\n",
       "      <td>Portuguese</td>\n",
       "      <td>2.783871</td>\n",
       "      <td>25.0</td>\n",
       "      <td>0.593429</td>\n",
       "      <td>0.406571</td>\n",
       "      <td>0.535779</td>\n",
       "    </tr>\n",
       "    <tr>\n",
       "      <th>78</th>\n",
       "      <td>TE80*0100*2001*01</td>\n",
       "      <td>Korean</td>\n",
       "      <td>5.157692</td>\n",
       "      <td>37.0</td>\n",
       "      <td>0.503597</td>\n",
       "      <td>0.496403</td>\n",
       "      <td>0.449407</td>\n",
       "    </tr>\n",
       "    <tr>\n",
       "      <th>79</th>\n",
       "      <td>TE81*0100*2001*01</td>\n",
       "      <td>Catalan</td>\n",
       "      <td>2.100000</td>\n",
       "      <td>17.0</td>\n",
       "      <td>0.549134</td>\n",
       "      <td>0.450866</td>\n",
       "      <td>0.489580</td>\n",
       "    </tr>\n",
       "    <tr>\n",
       "      <th>80</th>\n",
       "      <td>TE82*0100*2001*01</td>\n",
       "      <td>Chinese</td>\n",
       "      <td>4.551613</td>\n",
       "      <td>32.0</td>\n",
       "      <td>0.425544</td>\n",
       "      <td>0.574456</td>\n",
       "      <td>0.442031</td>\n",
       "    </tr>\n",
       "    <tr>\n",
       "      <th>81</th>\n",
       "      <td>TE83*0100*2001*01</td>\n",
       "      <td>Korean</td>\n",
       "      <td>3.100000</td>\n",
       "      <td>25.0</td>\n",
       "      <td>0.580558</td>\n",
       "      <td>0.419442</td>\n",
       "      <td>0.440271</td>\n",
       "    </tr>\n",
       "    <tr>\n",
       "      <th>82</th>\n",
       "      <td>TE84*0100*2001*01</td>\n",
       "      <td>Japanese</td>\n",
       "      <td>3.126087</td>\n",
       "      <td>25.0</td>\n",
       "      <td>0.515904</td>\n",
       "      <td>0.484096</td>\n",
       "      <td>0.569400</td>\n",
       "    </tr>\n",
       "    <tr>\n",
       "      <th>83</th>\n",
       "      <td>TE85*0100*2001*01</td>\n",
       "      <td>Chinese</td>\n",
       "      <td>4.744444</td>\n",
       "      <td>36.0</td>\n",
       "      <td>0.598681</td>\n",
       "      <td>0.401319</td>\n",
       "      <td>0.484666</td>\n",
       "    </tr>\n",
       "    <tr>\n",
       "      <th>84</th>\n",
       "      <td>TE86*0100*2001*01</td>\n",
       "      <td>French</td>\n",
       "      <td>3.827586</td>\n",
       "      <td>31.0</td>\n",
       "      <td>0.548637</td>\n",
       "      <td>0.451363</td>\n",
       "      <td>0.485166</td>\n",
       "    </tr>\n",
       "    <tr>\n",
       "      <th>85</th>\n",
       "      <td>TE87*0100*2001*01</td>\n",
       "      <td>French</td>\n",
       "      <td>3.200000</td>\n",
       "      <td>27.0</td>\n",
       "      <td>0.532767</td>\n",
       "      <td>0.467233</td>\n",
       "      <td>0.495471</td>\n",
       "    </tr>\n",
       "    <tr>\n",
       "      <th>86</th>\n",
       "      <td>TE88*0100*2001*01</td>\n",
       "      <td>Chinese</td>\n",
       "      <td>2.200000</td>\n",
       "      <td>19.0</td>\n",
       "      <td>0.420423</td>\n",
       "      <td>0.579577</td>\n",
       "      <td>0.497860</td>\n",
       "    </tr>\n",
       "    <tr>\n",
       "      <th>87</th>\n",
       "      <td>TE89*0100*2001*01</td>\n",
       "      <td>Thai</td>\n",
       "      <td>3.678947</td>\n",
       "      <td>28.0</td>\n",
       "      <td>0.634846</td>\n",
       "      <td>0.365154</td>\n",
       "      <td>0.509019</td>\n",
       "    </tr>\n",
       "    <tr>\n",
       "      <th>88</th>\n",
       "      <td>TE9*0100*2001*01</td>\n",
       "      <td>German</td>\n",
       "      <td>3.100000</td>\n",
       "      <td>24.0</td>\n",
       "      <td>0.475619</td>\n",
       "      <td>0.524381</td>\n",
       "      <td>0.488042</td>\n",
       "    </tr>\n",
       "    <tr>\n",
       "      <th>89</th>\n",
       "      <td>TE90*0100*2001*01</td>\n",
       "      <td>Korean</td>\n",
       "      <td>2.254167</td>\n",
       "      <td>20.0</td>\n",
       "      <td>0.474215</td>\n",
       "      <td>0.525785</td>\n",
       "      <td>0.554665</td>\n",
       "    </tr>\n",
       "    <tr>\n",
       "      <th>90</th>\n",
       "      <td>TE91*0100*2001*01</td>\n",
       "      <td>Thai</td>\n",
       "      <td>2.814286</td>\n",
       "      <td>25.0</td>\n",
       "      <td>0.597448</td>\n",
       "      <td>0.402552</td>\n",
       "      <td>0.552958</td>\n",
       "    </tr>\n",
       "    <tr>\n",
       "      <th>91</th>\n",
       "      <td>TE92*0100*2001*01</td>\n",
       "      <td>German</td>\n",
       "      <td>2.671429</td>\n",
       "      <td>23.0</td>\n",
       "      <td>0.583726</td>\n",
       "      <td>0.416274</td>\n",
       "      <td>0.439978</td>\n",
       "    </tr>\n",
       "    <tr>\n",
       "      <th>92</th>\n",
       "      <td>TE93*0100*2001*01</td>\n",
       "      <td>Italian</td>\n",
       "      <td>2.690909</td>\n",
       "      <td>22.0</td>\n",
       "      <td>0.586268</td>\n",
       "      <td>0.413732</td>\n",
       "      <td>0.362774</td>\n",
       "    </tr>\n",
       "    <tr>\n",
       "      <th>93</th>\n",
       "      <td>TE94*0100*2001*01</td>\n",
       "      <td>Catalan</td>\n",
       "      <td>2.212500</td>\n",
       "      <td>23.0</td>\n",
       "      <td>0.618152</td>\n",
       "      <td>0.381848</td>\n",
       "      <td>0.410397</td>\n",
       "    </tr>\n",
       "    <tr>\n",
       "      <th>94</th>\n",
       "      <td>TE95*0100*2001*01</td>\n",
       "      <td>French</td>\n",
       "      <td>3.241176</td>\n",
       "      <td>27.0</td>\n",
       "      <td>0.589685</td>\n",
       "      <td>0.410315</td>\n",
       "      <td>0.533095</td>\n",
       "    </tr>\n",
       "    <tr>\n",
       "      <th>95</th>\n",
       "      <td>TE96*0100*2001*01</td>\n",
       "      <td>Russian</td>\n",
       "      <td>3.882609</td>\n",
       "      <td>30.0</td>\n",
       "      <td>0.536267</td>\n",
       "      <td>0.463733</td>\n",
       "      <td>0.499866</td>\n",
       "    </tr>\n",
       "    <tr>\n",
       "      <th>96</th>\n",
       "      <td>TE97*0100*2001*01</td>\n",
       "      <td>French</td>\n",
       "      <td>4.300000</td>\n",
       "      <td>34.0</td>\n",
       "      <td>0.620630</td>\n",
       "      <td>0.379370</td>\n",
       "      <td>0.487307</td>\n",
       "    </tr>\n",
       "  </tbody>\n",
       "</table>\n",
       "<p>97 rows × 7 columns</p>\n",
       "</div>"
      ],
      "text/plain": [
       "                   ID  first_lang  docscore  score    conf_0    conf_1  \\\n",
       "0    TE1*0100*2001*01      French  3.588889   30.0  0.490703  0.509297   \n",
       "1   TE10*0100*2001*01     Chinese  3.200000   26.0  0.604944  0.395056   \n",
       "2   TE11*0100*2001*01     Italian  2.748000   23.0  0.550218  0.449782   \n",
       "3   TE12*0100*2001*01    Japanese  3.750000   26.0  0.558114  0.441886   \n",
       "4   TE13*0100*2001*01     Italian  3.300000   26.0  0.650936  0.349064   \n",
       "5   TE14*0100*2001*01     Russian  5.155172   38.0  0.599983  0.400017   \n",
       "6   TE15*0100*2001*01        Thai  3.281818   27.0  0.605617  0.394383   \n",
       "7   TE16*0100*2001*01       Greek  5.144000   39.0  0.524532  0.475468   \n",
       "8   TE17*0100*2001*01      French  2.700000   25.0  0.629212  0.370788   \n",
       "9   TE18*0100*2001*01    Japanese  2.253846   24.0  0.642796  0.357204   \n",
       "10  TE19*0100*2001*01     Turkish  2.700000   25.0  0.622758  0.377242   \n",
       "11   TE2*0100*2001*01     Chinese  3.300000   27.0  0.485632  0.514368   \n",
       "12  TE20*0100*2001*01        Thai  3.722222   30.0  0.466119  0.533881   \n",
       "13  TE21*0100*2001*01     Chinese  3.582500   27.0  0.639120  0.360880   \n",
       "14  TE22*0100*2001*01        Thai  2.663636   20.0  0.598602  0.401398   \n",
       "15  TE23*0100*2001*01     Spanish  2.650000   21.0  0.446044  0.553956   \n",
       "16  TE24*0100*2001*01       Greek  2.700000   21.0  0.535732  0.464268   \n",
       "17  TE25*0100*2001*01      French  3.200000   26.0  0.500376  0.499624   \n",
       "18  TE26*0100*2001*01     Spanish  2.750000   22.0  0.534154  0.465846   \n",
       "19  TE27*0100*2001*01     Catalan  2.746154   24.0  0.557075  0.442925   \n",
       "20  TE28*0100*2001*01     Spanish  5.200000   38.0  0.514157  0.485843   \n",
       "21  TE29*0100*2001*01     Catalan  3.644444   30.0  0.459462  0.540538   \n",
       "22   TE3*0100*2001*01     Catalan  5.100000   34.0  0.535054  0.464946   \n",
       "23  TE30*0100*2001*01     Russian  3.188000   24.0  0.550997  0.449003   \n",
       "24  TE31*0100*2001*01     Catalan  2.740000   23.0  0.519057  0.480943   \n",
       "25  TE32*0100*2001*01    Japanese  2.700000   22.0  0.630136  0.369864   \n",
       "26  TE33*0100*2001*01     Turkish  2.576190   23.0  0.576341  0.423659   \n",
       "27  TE34*0100*2001*01      French  5.200000   39.0  0.504656  0.495344   \n",
       "28  TE35*0100*2001*01    Japanese  4.786957   34.0  0.583091  0.416909   \n",
       "29  TE36*0100*2001*01        Thai  5.154839   37.0  0.644555  0.355445   \n",
       "..                ...         ...       ...    ...       ...       ...   \n",
       "67  TE70*0100*2001*01       Greek  3.200000   26.0  0.546939  0.453062   \n",
       "68  TE71*0100*2001*01      Polish  2.071875   21.0  0.612515  0.387485   \n",
       "69  TE72*0100*2001*01    Japanese  5.190909   38.0  0.557340  0.442660   \n",
       "70  TE73*0100*2001*01        Thai  4.196296   32.0  0.540137  0.459863   \n",
       "71  TE74*0100*2001*01      German  3.617857   29.0  0.674224  0.325776   \n",
       "72  TE75*0100*2001*01      French  5.200000   36.0  0.555660  0.444340   \n",
       "73  TE76*0100*2001*01      German  5.244828   40.0  0.611720  0.388280   \n",
       "74  TE77*0100*2001*01      French  3.680952   29.0  0.510103  0.489897   \n",
       "75  TE78*0100*2001*01     Chinese  5.100000   34.0  0.581169  0.418831   \n",
       "76  TE79*0100*2001*01      German  5.181481   36.0  0.602386  0.397614   \n",
       "77   TE8*0100*2001*01  Portuguese  2.783871   25.0  0.593429  0.406571   \n",
       "78  TE80*0100*2001*01      Korean  5.157692   37.0  0.503597  0.496403   \n",
       "79  TE81*0100*2001*01     Catalan  2.100000   17.0  0.549134  0.450866   \n",
       "80  TE82*0100*2001*01     Chinese  4.551613   32.0  0.425544  0.574456   \n",
       "81  TE83*0100*2001*01      Korean  3.100000   25.0  0.580558  0.419442   \n",
       "82  TE84*0100*2001*01    Japanese  3.126087   25.0  0.515904  0.484096   \n",
       "83  TE85*0100*2001*01     Chinese  4.744444   36.0  0.598681  0.401319   \n",
       "84  TE86*0100*2001*01      French  3.827586   31.0  0.548637  0.451363   \n",
       "85  TE87*0100*2001*01      French  3.200000   27.0  0.532767  0.467233   \n",
       "86  TE88*0100*2001*01     Chinese  2.200000   19.0  0.420423  0.579577   \n",
       "87  TE89*0100*2001*01        Thai  3.678947   28.0  0.634846  0.365154   \n",
       "88   TE9*0100*2001*01      German  3.100000   24.0  0.475619  0.524381   \n",
       "89  TE90*0100*2001*01      Korean  2.254167   20.0  0.474215  0.525785   \n",
       "90  TE91*0100*2001*01        Thai  2.814286   25.0  0.597448  0.402552   \n",
       "91  TE92*0100*2001*01      German  2.671429   23.0  0.583726  0.416274   \n",
       "92  TE93*0100*2001*01     Italian  2.690909   22.0  0.586268  0.413732   \n",
       "93  TE94*0100*2001*01     Catalan  2.212500   23.0  0.618152  0.381848   \n",
       "94  TE95*0100*2001*01      French  3.241176   27.0  0.589685  0.410315   \n",
       "95  TE96*0100*2001*01     Russian  3.882609   30.0  0.536267  0.463733   \n",
       "96  TE97*0100*2001*01      French  4.300000   34.0  0.620630  0.379370   \n",
       "\n",
       "    abs_diff  \n",
       "0   0.479610  \n",
       "1   0.529331  \n",
       "2   0.492673  \n",
       "3   0.485700  \n",
       "4   0.517442  \n",
       "5   0.471035  \n",
       "6   0.478153  \n",
       "7   0.479451  \n",
       "8   0.579541  \n",
       "9   0.461920  \n",
       "10  0.449751  \n",
       "11  0.459378  \n",
       "12  0.507363  \n",
       "13  0.443340  \n",
       "14  0.454190  \n",
       "15  0.577335  \n",
       "16  0.472125  \n",
       "17  0.479015  \n",
       "18  0.562213  \n",
       "19  0.494450  \n",
       "20  0.551781  \n",
       "21  0.499776  \n",
       "22  0.533529  \n",
       "23  0.507254  \n",
       "24  0.399120  \n",
       "25  0.541014  \n",
       "26  0.490203  \n",
       "27  0.527264  \n",
       "28  0.458267  \n",
       "29  0.534147  \n",
       "..       ...  \n",
       "67  0.413809  \n",
       "68  0.463146  \n",
       "69  0.531282  \n",
       "70  0.407285  \n",
       "71  0.517323  \n",
       "72  0.546118  \n",
       "73  0.497190  \n",
       "74  0.552024  \n",
       "75  0.407180  \n",
       "76  0.558534  \n",
       "77  0.535779  \n",
       "78  0.449407  \n",
       "79  0.489580  \n",
       "80  0.442031  \n",
       "81  0.440271  \n",
       "82  0.569400  \n",
       "83  0.484666  \n",
       "84  0.485166  \n",
       "85  0.495471  \n",
       "86  0.497860  \n",
       "87  0.509019  \n",
       "88  0.488042  \n",
       "89  0.554665  \n",
       "90  0.552958  \n",
       "91  0.439978  \n",
       "92  0.362774  \n",
       "93  0.410397  \n",
       "94  0.533095  \n",
       "95  0.499866  \n",
       "96  0.487307  \n",
       "\n",
       "[97 rows x 7 columns]"
      ]
     },
     "execution_count": 432,
     "metadata": {},
     "output_type": "execute_result"
    }
   ],
   "source": [
    "author_and_lang"
   ]
  },
  {
   "cell_type": "code",
   "execution_count": 433,
   "metadata": {},
   "outputs": [],
   "source": [
    "#pd.crosstab(df_stu[\"first_lang\"], df_stu[\"conf_0\"])"
   ]
  },
  {
   "cell_type": "code",
   "execution_count": 434,
   "metadata": {},
   "outputs": [],
   "source": [
    "def cramers_v(x, y):\n",
    "    confusion_matrix = pd.crosstab(x,y)\n",
    "    chi2 = stats.chi2_contingency(confusion_matrix)[0]\n",
    "    n = confusion_matrix.sum().sum()\n",
    "    phi2 = chi2/n\n",
    "    r,k = confusion_matrix.shape\n",
    "    phi2corr = max(0, phi2-((k-1)*(r-1))/(n-1))\n",
    "    rcorr = r-((r-1)**2)/(n-1)\n",
    "    kcorr = k-((k-1)**2)/(n-1)\n",
    "    return np.sqrt(phi2corr/min((kcorr-1),(rcorr-1)))\n",
    "\n",
    "#cramers_v(df_stu[\"score\"], df_stu[\"conf_0\"])"
   ]
  },
  {
   "cell_type": "markdown",
   "metadata": {},
   "source": [
    "## Plotting datapoints for individual students based on their first language. \n",
    "### It is clear that there is not enough people in each group to be able to do any correlation related to their first language."
   ]
  },
  {
   "cell_type": "code",
   "execution_count": 435,
   "metadata": {},
   "outputs": [
    {
     "data": {
      "image/png": "[encoded data removed]",
      "text/plain": [
       "<matplotlib.figure.Figure at 0x115408630>"
      ]
     },
     "metadata": {},
     "output_type": "display_data"
    },
    {
     "data": {
      "image/png": "[encoded data removed]",
      "text/plain": [
       "<matplotlib.figure.Figure at 0x1172e7748>"
      ]
     },
     "metadata": {},
     "output_type": "display_data"
    },
    {
     "data": {
      "image/png": "[encoded data removed]",
      "text/plain": [
       "<matplotlib.figure.Figure at 0x113ee39b0>"
      ]
     },
     "metadata": {},
     "output_type": "display_data"
    },
    {
     "data": {
      "image/png": "[encoded data removed]",
      "text/plain": [
       "<matplotlib.figure.Figure at 0x11707d2b0>"
      ]
     },
     "metadata": {},
     "output_type": "display_data"
    },
    {
     "data": {
      "image/png": "[encoded data removed]",
      "text/plain": [
       "<matplotlib.figure.Figure at 0x117572898>"
      ]
     },
     "metadata": {},
     "output_type": "display_data"
    },
    {
     "data": {
      "image/png": "[encoded data removed]",
      "text/plain": [
       "<matplotlib.figure.Figure at 0x11430c6d8>"
      ]
     },
     "metadata": {},
     "output_type": "display_data"
    },
    {
     "data": {
      "image/png": "[encoded data removed]",
      "text/plain": [
       "<matplotlib.figure.Figure at 0x114721470>"
      ]
     },
     "metadata": {},
     "output_type": "display_data"
    },
    {
     "data": {
      "image/png": "[encoded data removed]",
      "text/plain": [
       "<matplotlib.figure.Figure at 0x114ede518>"
      ]
     },
     "metadata": {},
     "output_type": "display_data"
    },
    {
     "data": {
      "image/png": "[encoded data removed]",
      "text/plain": [
       "<matplotlib.figure.Figure at 0x113675b00>"
      ]
     },
     "metadata": {},
     "output_type": "display_data"
    },
    {
     "data": {
      "image/png": "[encoded data removed]",
      "text/plain": [
       "<matplotlib.figure.Figure at 0x113c86278>"
      ]
     },
     "metadata": {},
     "output_type": "display_data"
    },
    {
     "data": {
      "image/png": "[encoded data removed]",
      "text/plain": [
       "<matplotlib.figure.Figure at 0x114dce588>"
      ]
     },
     "metadata": {},
     "output_type": "display_data"
    },
    {
     "data": {
      "image/png": "[encoded data removed]",
      "text/plain": [
       "<matplotlib.figure.Figure at 0x113596cf8>"
      ]
     },
     "metadata": {},
     "output_type": "display_data"
    },
    {
     "data": {
      "image/png": "[encoded data removed]",
      "text/plain": [
       "<matplotlib.figure.Figure at 0x116f883c8>"
      ]
     },
     "metadata": {},
     "output_type": "display_data"
    },
    {
     "data": {
      "image/png": "[encoded data removed]",
      "text/plain": [
       "<matplotlib.figure.Figure at 0x1150f9a20>"
      ]
     },
     "metadata": {},
     "output_type": "display_data"
    }
   ],
   "source": [
    "\n",
    "# Plotting datapoints for individual students based on their first language. \n",
    "# It is clear that there is not enough people in each group to be able to do any correlation -\n",
    "# related to their first language.\n",
    "\n",
    "\n",
    "for lang in author_and_lang.first_lang.unique():\n",
    "    current = author_and_lang[author_and_lang.first_lang==lang]\n",
    "    plt.scatter(current[\"conf_0\"],current[\"score\"])\n",
    "    plt.title(lang)\n",
    "    plt.xlabel(\"confidence in 0 (fake)\")\n",
    "    plt.ylabel(\"score\")\n",
    "    plt.show()"
   ]
  },
  {
   "cell_type": "markdown",
   "metadata": {},
   "source": [
    "# Boxplots "
   ]
  },
  {
   "cell_type": "code",
   "execution_count": 459,
   "metadata": {},
   "outputs": [],
   "source": [
    "n_list = []\n",
    "confidences_for_grades = []\n",
    "grades = []\n",
    "for i in sorted(author_and_lang.score.unique()):\n",
    "    current = author_and_lang[author_and_lang.score==i]\n",
    "    conf = current.conf_0.tolist()\n",
    "    n = len(current.conf_0.tolist())\n",
    "    if n >=4:\n",
    "        grades.append(str(i))\n",
    "        confidences_for_grades.append(conf)\n",
    "        n_list.append(n)\n",
    "        \n",
    "    "
   ]
  },
  {
   "cell_type": "code",
   "execution_count": 530,
   "metadata": {},
   "outputs": [
    {
     "data": {
      "image/png": "[encoded data removed]",
      "text/plain": [
       "<matplotlib.figure.Figure at 0x11fa985c0>"
      ]
     },
     "metadata": {},
     "output_type": "display_data"
    }
   ],
   "source": [
    "plt.boxplot(confidences_for_grades)\n",
    "#plt.xticks(range(len(grades)),labels=grades)\n",
    "plt.show()"
   ]
  },
  {
   "cell_type": "code",
   "execution_count": 554,
   "metadata": {},
   "outputs": [
    {
     "data": {
      "text/plain": [
       "<matplotlib.axes._subplots.AxesSubplot at 0x12746ba58>"
      ]
     },
     "execution_count": 554,
     "metadata": {},
     "output_type": "execute_result"
    },
    {
     "data": {
      "image/png": "[encoded data removed]",
      "text/plain": [
       "<matplotlib.figure.Figure at 0x126ebb240>"
      ]
     },
     "metadata": {},
     "output_type": "display_data"
    }
   ],
   "source": [
    "import seaborn as sns\n",
    "#plt.rcParams.update(plt.rcParamsDefault)\n",
    "#sns.set_style(\"whitegrid\")\n",
    "#plt.style.use('seaborn-whitegrid')\n",
    "#sns.set_context(\"notebook\", font_scale=20, rc={\"lines.linewidth\": 2.5})\n",
    "#sns.set_context(\"paper\", rc={\"font.size\":12,\"axes.titlesize\":8,\"axes.labelsize\":12})\n",
    "sns.set(rc={'figure.figsize':(11.7,8.27)})\n",
    "sns.boxplot(x=\"score\", y=\"conf_0\",data=author_and_lang, color=\"0.6\")#hue=\"first_lang\"\n",
    "sns.swarmplot(x=\"score\", y=\"conf_0\", data=author_and_lang,hue=\"first_lang\")\n"
   ]
  },
  {
   "cell_type": "code",
   "execution_count": null,
   "metadata": {
    "collapsed": true
   },
   "outputs": [],
   "source": []
  }
 ],
 "metadata": {
  "kernelspec": {
   "display_name": "Python 3",
   "language": "python",
   "name": "python3"
  },
  "language_info": {
   "codemirror_mode": {
    "name": "ipython",
    "version": 3
   },
   "file_extension": ".py",
   "mimetype": "text/x-python",
   "name": "python",
   "nbconvert_exporter": "python",
   "pygments_lexer": "ipython3",
   "version": "3.6.7"
  }
 },
 "nbformat": 4,
 "nbformat_minor": 2
}
