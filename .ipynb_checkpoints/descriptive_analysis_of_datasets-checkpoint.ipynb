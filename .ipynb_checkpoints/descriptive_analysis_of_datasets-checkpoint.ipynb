{
 "cells": [
  {
   "cell_type": "code",
   "execution_count": 8,
   "metadata": {
    "collapsed": true
   },
   "outputs": [],
   "source": [
    "import numpy as np\n",
    "import pandas as pd\n",
    "from sklearn.model_selection import train_test_split\n",
    "import codecs\n",
    "import seaborn as sns\n",
    "%matplotlib inline\n",
    "import matplotlib.pyplot as plt\n",
    "#from scipy import stats\n",
    "from nltk import word_tokenize"
   ]
  },
  {
   "cell_type": "code",
   "execution_count": 9,
   "metadata": {
    "collapsed": true
   },
   "outputs": [],
   "source": [
    "kaggle_data = codecs.open(\"data/kaggle_trainset.txt\", 'r', 'utf-8').read().split('\\n')\n",
    "kaggle_data = kaggle_data[:20800]\n",
    "kaggle_data = [s.lower() for s in kaggle_data]\n",
    "\n",
    "kaggle_labels = codecs.open(\"data/kaggle_train_labels.txt\", 'r', 'utf-8').read().split('\\n')\n",
    "kaggle_labels = kaggle_labels[:20800]\n",
    "kaggle_labels = np.array([int(i) for i in kaggle_labels])\n",
    "\n",
    "kaggle_train, kaggle_dev, kaggle_train_lab, kaggle_dev_lab = train_test_split(kaggle_data, kaggle_labels, test_size=0.33, random_state=42)\n",
    "\n",
    "kaggle_train = [word_tokenize(i.lower()) for i in kaggle_train]\n",
    "kaggle_dev = [word_tokenize(i.lower()) for i in kaggle_dev]"
   ]
  },
  {
   "cell_type": "code",
   "execution_count": 45,
   "metadata": {
    "collapsed": true
   },
   "outputs": [],
   "source": [
    "liar_train = codecs.open(\"data/liar_xtrain.txt\", 'r', 'utf-8').read().split('\\n')\n",
    "liar_train = [s.lower() for s in liar_train if len(s) > 1]\n",
    "liar_train_labels = codecs.open('data/liar_ytrain.txt', 'r', 'utf-8').read().split('\\n')\n",
    "liar_train_labels = [s for s in liar_train_labels if len(s) > 1]\n",
    "\n",
    "liar_dev = codecs.open(\"data/liar_xval.txt\", 'r', 'utf-8').read().split('\\n')\n",
    "liar_dev = [s.lower() for s in liar_dev if len(s) > 1]\n",
    "liar_dev_labels = codecs.open(\"data/liar_yval.txt\", 'r', 'utf-8').read().split('\\n')\n",
    "liar_dev_labels = [s for s in liar_dev_labels if len(s) > 1]\n",
    "\n",
    "liar_train = [word_tokenize(i.lower()) for i in liar_train]\n",
    "liar_dev = [word_tokenize(i.lower()) for i in liar_dev]"
   ]
  },
  {
   "cell_type": "code",
   "execution_count": null,
   "metadata": {
    "collapsed": true
   },
   "outputs": [],
   "source": []
  },
  {
   "cell_type": "code",
   "execution_count": 50,
   "metadata": {
    "collapsed": true
   },
   "outputs": [],
   "source": [
    "kaggle_token_distribution = [len(paragraph) for paragraph in kaggle_train]\n",
    "liar_token_distribution = [len(paragraph) for paragraph in liar_train]"
   ]
  },
  {
   "cell_type": "code",
   "execution_count": 54,
   "metadata": {},
   "outputs": [
    {
     "data": {
      "image/png": "[encoded data removed]",
      "text/plain": [
       "<matplotlib.figure.Figure at 0x19aff1f98>"
      ]
     },
     "metadata": {},
     "output_type": "display_data"
    },
    {
     "data": {
      "image/png": "[encoded data removed]",
      "text/plain": [
       "<matplotlib.figure.Figure at 0x1b6dffe10>"
      ]
     },
     "metadata": {},
     "output_type": "display_data"
    }
   ],
   "source": [
    "for d,name in zip([kaggle_token_distribution, liar_token_distribution], [\"kaggle\", \"liar\"]):\n",
    "    ax = sns.distplot(d, bins=100, kde=False, rug=True)\n",
    "    plt.title(\"{} train set token distribution\".format(name))\n",
    "    plt.show()"
   ]
  },
  {
   "cell_type": "code",
   "execution_count": 13,
   "metadata": {},
   "outputs": [
    {
     "name": "stdout",
     "output_type": "stream",
     "text": [
      "mean 878.7839408725603\n",
      "median 645.0\n",
      "max 27969\n",
      "min 0\n"
     ]
    }
   ],
   "source": [
    "print(\"mean\",np.mean(kaggle_token_distribution))\n",
    "print(\"median\",np.median(kaggle_token_distribution))\n",
    "print(\"max\", max(kaggle_token_distribution))\n",
    "print(\"min\", min(kaggle_token_distribution))"
   ]
  },
  {
   "cell_type": "code",
   "execution_count": 16,
   "metadata": {},
   "outputs": [
    {
     "data": {
      "text/plain": [
       "50"
      ]
     },
     "execution_count": 16,
     "metadata": {},
     "output_type": "execute_result"
    }
   ],
   "source": [
    "kaggle_token_distribution.count(0)"
   ]
  },
  {
   "cell_type": "code",
   "execution_count": 42,
   "metadata": {},
   "outputs": [
    {
     "data": {
      "image/png": "[encoded data removed]",
      "text/plain": [
       "<matplotlib.figure.Figure at 0x196065b00>"
      ]
     },
     "metadata": {},
     "output_type": "display_data"
    }
   ],
   "source": [
    "import matplotlib.ticker as ticker\n",
    "ax = sns.distplot(kaggle_train_lab, bins=4, kde=False)\n",
    "ax.xaxis.set_major_locator(ticker.MultipleLocator(1))\n",
    "ax.xaxis.set_major_formatter(ticker.ScalarFormatter())\n",
    "# Iterate through the list of axes' patches\n",
    "\n",
    "for i,p in enumerate(ax.patches):\n",
    "    if i==0 or i==3:\n",
    "        ax.text(p.get_x() + p.get_width()/2., p.get_height()+2, '%d' % int(p.get_height()), \n",
    "                fontsize=12, ha='center', va='bottom')\n",
    "\n",
    "plt.title(\"Kaggle train set label distribution\")\n",
    "plt.show()"
   ]
  },
  {
   "cell_type": "code",
   "execution_count": null,
   "metadata": {
    "collapsed": true
   },
   "outputs": [],
   "source": []
  },
  {
   "cell_type": "code",
   "execution_count": null,
   "metadata": {
    "collapsed": true
   },
   "outputs": [],
   "source": []
  }
 ],
 "metadata": {
  "kernelspec": {
   "display_name": "Python 3",
   "language": "python",
   "name": "python3"
  },
  "language_info": {
   "codemirror_mode": {
    "name": "ipython",
    "version": 3
   },
   "file_extension": ".py",
   "mimetype": "text/x-python",
   "name": "python",
   "nbconvert_exporter": "python",
   "pygments_lexer": "ipython3",
   "version": "3.6.7"
  }
 },
 "nbformat": 4,
 "nbformat_minor": 2
}
