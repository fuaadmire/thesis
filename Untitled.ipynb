{
 "cells": [
  {
   "cell_type": "code",
   "execution_count": 3,
   "metadata": {},
   "outputs": [
    {
     "name": "stdout",
     "output_type": "stream",
     "text": [
      "states1\n"
     ]
    }
   ],
   "source": [
    "import h5py\n",
    "import pandas as pd\n",
    "filename = 'lstmvis/states.hdf5'\n",
    "f = h5py.File(filename, 'r')\n",
    "\n",
    "for key in f.keys():\n",
    "    print(key)\n",
    "f.close()"
   ]
  },
  {
   "cell_type": "code",
   "execution_count": 2,
   "metadata": {
    "collapsed": true
   },
   "outputs": [],
   "source": [
    "file = open(\"lstmvis/dict.txt\")\n",
    "\n",
    "data = \"\"\n",
    "data = data+file.read()\n",
    "file.close()"
   ]
  },
  {
   "cell_type": "code",
   "execution_count": 15,
   "metadata": {},
   "outputs": [
    {
     "data": {
      "text/plain": [
       "'{'"
      ]
     },
     "execution_count": 15,
     "metadata": {},
     "output_type": "execute_result"
    }
   ],
   "source": [
    "data[0]"
   ]
  },
  {
   "cell_type": "code",
   "execution_count": 3,
   "metadata": {},
   "outputs": [
    {
     "data": {
      "text/plain": [
       "'fondren'"
      ]
     },
     "execution_count": 3,
     "metadata": {},
     "output_type": "execute_result"
    }
   ],
   "source": [
    "dictionary = eval(data)\n",
    "dictionary.keys()\n",
    "dictionary[2]"
   ]
  },
  {
   "cell_type": "code",
   "execution_count": 26,
   "metadata": {
    "collapsed": true
   },
   "outputs": [],
   "source": [
    "words = open(\"words.dict\", \"w+\")\n",
    "for k, v in dictionary.items():\n",
    "    words.write(v)\n",
    "    words.write(\" \")\n",
    "    words.write(str(k))\n",
    "    words.write(\"\\n\")\n",
    "    "
   ]
  },
  {
   "cell_type": "code",
   "execution_count": 3,
   "metadata": {
    "collapsed": true
   },
   "outputs": [],
   "source": [
    "import codecs\n",
    "from sklearn.model_selection import train_test_split\n",
    "import numpy as np\n",
    "import nltk\n",
    "\n",
    "data = codecs.open(\"data/kaggle_trainset.txt\", 'r', 'utf-8').read().split('\\n')\n",
    "data = data[:20800]\n",
    "#data = data[:200]\n",
    "data = [s.lower() for s in data]\n",
    "labels = codecs.open(\"data/kaggle_train_labels.txt\", 'r', 'utf-8').read().split('\\n')\n",
    "labels = labels[:20800]\n",
    "#labels = labels[:200]\n",
    "labels = [int(i) for i in labels]\n",
    "\n",
    "# disregarding input which is less than 100 characters (as they do not contain many words, if any)\n",
    "labels_include = []\n",
    "data_include = []\n",
    "for indel, i in enumerate(data):\n",
    "    if len(i) > 100:\n",
    "        data_include.append(i)\n",
    "        labels_include.append(labels[indel])\n",
    "\n",
    "\n",
    "train, dev, train_lab, dev_lab = train_test_split(data_include, labels_include, test_size=0.33, random_state=42)\n",
    "#train = preprocess(train)\n",
    "#dev = preprocess(dev)\n",
    "\n",
    "train = [nltk.word_tokenize(i.lower()) for i in train]\n",
    "dev = [nltk.word_tokenize(i.lower()) for i in dev]\n",
    "\n",
    "all_train_tokens = []\n",
    "for i in train:\n",
    "    for word in i:\n",
    "        all_train_tokens.append(word)"
   ]
  },
  {
   "cell_type": "code",
   "execution_count": 4,
   "metadata": {
    "collapsed": true
   },
   "outputs": [],
   "source": [
    "words_file = open(\"all_train_words.txt\", \"w+\")\n",
    "for i in all_train_tokens:\n",
    "    words_file.write(i)\n",
    "    words_file.write(\" \")\n",
    "words_file.close()"
   ]
  },
  {
   "cell_type": "code",
   "execution_count": 5,
   "metadata": {},
   "outputs": [],
   "source": [
    "words_file = open(\"all_train_words_from_dict.txt\", \"w+\")\n",
    "for k,v in dictionary.items():\n",
    "    words_file.write(v)\n",
    "    words_file.write(\" \")\n",
    "words_file.close()"
   ]
  },
  {
   "cell_type": "code",
   "execution_count": 16,
   "metadata": {},
   "outputs": [
    {
     "name": "stdout",
     "output_type": "stream",
     "text": [
      "0\n",
      "1\n",
      "2\n"
     ]
    }
   ],
   "source": [
    "for i in range(7, 10):\n",
    "    #print(i+1)\n",
    "    print(i-7)"
   ]
  },
  {
   "cell_type": "code",
   "execution_count": 9,
   "metadata": {},
   "outputs": [
    {
     "data": {
      "text/plain": [
       "0"
      ]
     },
     "execution_count": 9,
     "metadata": {},
     "output_type": "execute_result"
    }
   ],
   "source": [
    "7-7"
   ]
  },
  {
   "cell_type": "code",
   "execution_count": null,
   "metadata": {
    "collapsed": true
   },
   "outputs": [],
   "source": []
  }
 ],
 "metadata": {
  "kernelspec": {
   "display_name": "Python 3",
   "language": "python",
   "name": "python3"
  },
  "language_info": {
   "codemirror_mode": {
    "name": "ipython",
    "version": 3
   },
   "file_extension": ".py",
   "mimetype": "text/x-python",
   "name": "python",
   "nbconvert_exporter": "python",
   "pygments_lexer": "ipython3",
   "version": "3.6.7"
  }
 },
 "nbformat": 4,
 "nbformat_minor": 2
}
